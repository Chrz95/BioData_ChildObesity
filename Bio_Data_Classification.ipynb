{
  "cells": [
    {
      "cell_type": "markdown",
      "metadata": {
        "id": "I6BJXGGsh0Nw"
      },
      "source": [
        "## Loading the data"
      ]
    },
    {
      "cell_type": "code",
      "execution_count": 1,
      "metadata": {
        "id": "fCE20fOTguw8"
      },
      "outputs": [],
      "source": [
        "import numpy as np\n",
        "import os\n",
        "from sklearn.impute import SimpleImputer\n",
        "import pandas as pd\n",
        "import seaborn as sns\n",
        "import re\n",
        "import matplotlib.pyplot as plt\n",
        "from sklearn.model_selection import train_test_split\n",
        "from sklearn.feature_selection import VarianceThreshold\n",
        "from sklearn.preprocessing import StandardScaler\n",
        "from imblearn.over_sampling import RandomOverSampler\n",
        "from imblearn.under_sampling import RandomUnderSampler\n",
        "from sklearn.svm import SVC\n",
        "from sklearn.ensemble import RandomForestClassifier, AdaBoostClassifier, GradientBoostingClassifier\n",
        "from sklearn.linear_model import LogisticRegression\n",
        "from sklearn.neighbors import KNeighborsClassifier\n",
        "from sklearn.neural_network import MLPClassifier\n",
        "from sklearn.tree import DecisionTreeClassifier\n",
        "from sklearn.naive_bayes import GaussianNB\n",
        "from sklearn.discriminant_analysis import LinearDiscriminantAnalysis\n",
        "from sklearn.metrics import classification_report\n",
        "from imblearn.pipeline import Pipeline\n",
        "from sklearn.decomposition import PCA\n",
        "from sklearn.model_selection import GridSearchCV\n",
        "import time\n",
        "import xgboost as xgb\n",
        "import warnings \n",
        "warnings.filterwarnings('ignore')"
      ]
    },
    {
      "cell_type": "code",
      "execution_count": 2,
      "metadata": {
        "colab": {
          "base_uri": "https://localhost:8080/"
        },
        "id": "uoLRoNHMoBO7",
        "outputId": "dc051f7a-27df-4d86-8ff3-d56b616a7149"
      },
      "outputs": [
        {
          "output_type": "stream",
          "name": "stdout",
          "text": [
            "Mounted at /content/drive\n"
          ]
        }
      ],
      "source": [
        "from google.colab import drive\n",
        "drive.mount('/content/drive')"
      ]
    },
    {
      "cell_type": "code",
      "execution_count": 3,
      "metadata": {
        "id": "EeYq5KoqhEJy"
      },
      "outputs": [],
      "source": [
        "# giving directory name\n",
        "fitbit_data_dirs = ['/content/drive/MyDrive/Data/pilot/fitbit/control','/content/drive/MyDrive/Data/pilot/fitbit/intervention']\n",
        "self_obs_data_dir = '/content/drive/MyDrive/Data/pilot/old/selfObservation'\n",
        "questionnaire_data_dir = '/content/drive/MyDrive/Data/pilot/old/questionnaire'"
      ]
    },
    {
      "cell_type": "code",
      "execution_count": 4,
      "metadata": {
        "id": "OS6byNLghEEJ"
      },
      "outputs": [],
      "source": [
        "ext = ('.csv')"
      ]
    },
    {
      "cell_type": "code",
      "execution_count": 5,
      "metadata": {
        "id": "0F_yTN5zhEAa"
      },
      "outputs": [],
      "source": [
        "# Read fitbit_data\n",
        "fitbit_data_lst = []\n",
        "for fitbit_data_dir in fitbit_data_dirs:\n",
        "  for files in os.listdir(fitbit_data_dir):\n",
        "      if files.endswith(ext):\n",
        "          #print(fitbit_data_dir + \"/\" + files)\n",
        "          fitbit_data = pd.read_csv(fitbit_data_dir + \"/\" + files,delimiter=',', dtype=object)\n",
        "          fitbit_data['pid'] = files[0:-4]\n",
        "          fitbit_data.rename(columns={'date': 'timestamp'}, inplace=True)\n",
        "          fitbit_data_lst.append(fitbit_data)\n",
        "\n",
        "fitbit_data = pd.concat(fitbit_data_lst, axis=0, ignore_index=True)"
      ]
    },
    {
      "cell_type": "code",
      "execution_count": 6,
      "metadata": {
        "colab": {
          "base_uri": "https://localhost:8080/",
          "height": 206
        },
        "id": "Tj2fXIrUqoxG",
        "outputId": "e9dbe8b7-ce2c-44a3-8900-7f97648c3c3c"
      },
      "outputs": [
        {
          "output_type": "execute_result",
          "data": {
            "text/plain": [
              "                        pid            timestamp sleepAsleepMinutes distance  \\\n",
              "0  613b0c716a9a5d196c5cc6f0  2021-09-16 01:00:00                NaN      NaN   \n",
              "1  613b0c716a9a5d196c5cc6f0  2021-09-16 01:01:00                NaN      NaN   \n",
              "2  613b0c716a9a5d196c5cc6f0  2021-09-16 01:02:00                NaN      NaN   \n",
              "3  613b0c716a9a5d196c5cc6f0  2021-09-16 01:03:00                NaN      NaN   \n",
              "4  613b0c716a9a5d196c5cc6f0  2021-09-16 01:04:00                NaN      NaN   \n",
              "\n",
              "  steps  \n",
              "0   NaN  \n",
              "1   NaN  \n",
              "2   NaN  \n",
              "3   NaN  \n",
              "4   NaN  "
            ],
            "text/html": [
              "\n",
              "  <div id=\"df-73368b56-3e28-4ae9-a2c6-beb8d495130a\">\n",
              "    <div class=\"colab-df-container\">\n",
              "      <div>\n",
              "<style scoped>\n",
              "    .dataframe tbody tr th:only-of-type {\n",
              "        vertical-align: middle;\n",
              "    }\n",
              "\n",
              "    .dataframe tbody tr th {\n",
              "        vertical-align: top;\n",
              "    }\n",
              "\n",
              "    .dataframe thead th {\n",
              "        text-align: right;\n",
              "    }\n",
              "</style>\n",
              "<table border=\"1\" class=\"dataframe\">\n",
              "  <thead>\n",
              "    <tr style=\"text-align: right;\">\n",
              "      <th></th>\n",
              "      <th>pid</th>\n",
              "      <th>timestamp</th>\n",
              "      <th>sleepAsleepMinutes</th>\n",
              "      <th>distance</th>\n",
              "      <th>steps</th>\n",
              "    </tr>\n",
              "  </thead>\n",
              "  <tbody>\n",
              "    <tr>\n",
              "      <th>0</th>\n",
              "      <td>613b0c716a9a5d196c5cc6f0</td>\n",
              "      <td>2021-09-16 01:00:00</td>\n",
              "      <td>NaN</td>\n",
              "      <td>NaN</td>\n",
              "      <td>NaN</td>\n",
              "    </tr>\n",
              "    <tr>\n",
              "      <th>1</th>\n",
              "      <td>613b0c716a9a5d196c5cc6f0</td>\n",
              "      <td>2021-09-16 01:01:00</td>\n",
              "      <td>NaN</td>\n",
              "      <td>NaN</td>\n",
              "      <td>NaN</td>\n",
              "    </tr>\n",
              "    <tr>\n",
              "      <th>2</th>\n",
              "      <td>613b0c716a9a5d196c5cc6f0</td>\n",
              "      <td>2021-09-16 01:02:00</td>\n",
              "      <td>NaN</td>\n",
              "      <td>NaN</td>\n",
              "      <td>NaN</td>\n",
              "    </tr>\n",
              "    <tr>\n",
              "      <th>3</th>\n",
              "      <td>613b0c716a9a5d196c5cc6f0</td>\n",
              "      <td>2021-09-16 01:03:00</td>\n",
              "      <td>NaN</td>\n",
              "      <td>NaN</td>\n",
              "      <td>NaN</td>\n",
              "    </tr>\n",
              "    <tr>\n",
              "      <th>4</th>\n",
              "      <td>613b0c716a9a5d196c5cc6f0</td>\n",
              "      <td>2021-09-16 01:04:00</td>\n",
              "      <td>NaN</td>\n",
              "      <td>NaN</td>\n",
              "      <td>NaN</td>\n",
              "    </tr>\n",
              "  </tbody>\n",
              "</table>\n",
              "</div>\n",
              "      <button class=\"colab-df-convert\" onclick=\"convertToInteractive('df-73368b56-3e28-4ae9-a2c6-beb8d495130a')\"\n",
              "              title=\"Convert this dataframe to an interactive table.\"\n",
              "              style=\"display:none;\">\n",
              "        \n",
              "  <svg xmlns=\"http://www.w3.org/2000/svg\" height=\"24px\"viewBox=\"0 0 24 24\"\n",
              "       width=\"24px\">\n",
              "    <path d=\"M0 0h24v24H0V0z\" fill=\"none\"/>\n",
              "    <path d=\"M18.56 5.44l.94 2.06.94-2.06 2.06-.94-2.06-.94-.94-2.06-.94 2.06-2.06.94zm-11 1L8.5 8.5l.94-2.06 2.06-.94-2.06-.94L8.5 2.5l-.94 2.06-2.06.94zm10 10l.94 2.06.94-2.06 2.06-.94-2.06-.94-.94-2.06-.94 2.06-2.06.94z\"/><path d=\"M17.41 7.96l-1.37-1.37c-.4-.4-.92-.59-1.43-.59-.52 0-1.04.2-1.43.59L10.3 9.45l-7.72 7.72c-.78.78-.78 2.05 0 2.83L4 21.41c.39.39.9.59 1.41.59.51 0 1.02-.2 1.41-.59l7.78-7.78 2.81-2.81c.8-.78.8-2.07 0-2.86zM5.41 20L4 18.59l7.72-7.72 1.47 1.35L5.41 20z\"/>\n",
              "  </svg>\n",
              "      </button>\n",
              "      \n",
              "  <style>\n",
              "    .colab-df-container {\n",
              "      display:flex;\n",
              "      flex-wrap:wrap;\n",
              "      gap: 12px;\n",
              "    }\n",
              "\n",
              "    .colab-df-convert {\n",
              "      background-color: #E8F0FE;\n",
              "      border: none;\n",
              "      border-radius: 50%;\n",
              "      cursor: pointer;\n",
              "      display: none;\n",
              "      fill: #1967D2;\n",
              "      height: 32px;\n",
              "      padding: 0 0 0 0;\n",
              "      width: 32px;\n",
              "    }\n",
              "\n",
              "    .colab-df-convert:hover {\n",
              "      background-color: #E2EBFA;\n",
              "      box-shadow: 0px 1px 2px rgba(60, 64, 67, 0.3), 0px 1px 3px 1px rgba(60, 64, 67, 0.15);\n",
              "      fill: #174EA6;\n",
              "    }\n",
              "\n",
              "    [theme=dark] .colab-df-convert {\n",
              "      background-color: #3B4455;\n",
              "      fill: #D2E3FC;\n",
              "    }\n",
              "\n",
              "    [theme=dark] .colab-df-convert:hover {\n",
              "      background-color: #434B5C;\n",
              "      box-shadow: 0px 1px 3px 1px rgba(0, 0, 0, 0.15);\n",
              "      filter: drop-shadow(0px 1px 2px rgba(0, 0, 0, 0.3));\n",
              "      fill: #FFFFFF;\n",
              "    }\n",
              "  </style>\n",
              "\n",
              "      <script>\n",
              "        const buttonEl =\n",
              "          document.querySelector('#df-73368b56-3e28-4ae9-a2c6-beb8d495130a button.colab-df-convert');\n",
              "        buttonEl.style.display =\n",
              "          google.colab.kernel.accessAllowed ? 'block' : 'none';\n",
              "\n",
              "        async function convertToInteractive(key) {\n",
              "          const element = document.querySelector('#df-73368b56-3e28-4ae9-a2c6-beb8d495130a');\n",
              "          const dataTable =\n",
              "            await google.colab.kernel.invokeFunction('convertToInteractive',\n",
              "                                                     [key], {});\n",
              "          if (!dataTable) return;\n",
              "\n",
              "          const docLinkHtml = 'Like what you see? Visit the ' +\n",
              "            '<a target=\"_blank\" href=https://colab.research.google.com/notebooks/data_table.ipynb>data table notebook</a>'\n",
              "            + ' to learn more about interactive tables.';\n",
              "          element.innerHTML = '';\n",
              "          dataTable['output_type'] = 'display_data';\n",
              "          await google.colab.output.renderOutput(dataTable, element);\n",
              "          const docLink = document.createElement('div');\n",
              "          docLink.innerHTML = docLinkHtml;\n",
              "          element.appendChild(docLink);\n",
              "        }\n",
              "      </script>\n",
              "    </div>\n",
              "  </div>\n",
              "  "
            ]
          },
          "metadata": {},
          "execution_count": 6
        }
      ],
      "source": [
        "# fitbit_data - Keep only useful columns\n",
        "fitbit_data = fitbit_data[[\"pid\",'timestamp',\"sleepAsleepMinutes\",\"distance\", 'steps']]\n",
        "int_columns = [\"sleepAsleepMinutes\",\"distance\", 'steps']\n",
        "fitbit_data.head()"
      ]
    },
    {
      "cell_type": "code",
      "execution_count": 7,
      "metadata": {
        "id": "3Vvt-9cTu-sa"
      },
      "outputs": [],
      "source": [
        "for i in int_columns:\n",
        "  fitbit_data[i] = fitbit_data[i].astype(str).str.replace(',','.')\n",
        "  fitbit_data[i] = fitbit_data[i].astype(str).str.replace('<','')\n",
        "  fitbit_data[i] = fitbit_data[i].astype(str).str.replace('Ο','0')\n",
        "  fitbit_data[i] = fitbit_data[i].astype(str).str.replace(' ','')\n",
        "  fitbit_data[i] = fitbit_data[i].replace('nan',np.nan)\n",
        "  fitbit_data[i] = fitbit_data[i].replace('-',np.nan)\n",
        "\n",
        "fitbit_data = fitbit_data.fillna(0)"
      ]
    },
    {
      "cell_type": "code",
      "execution_count": 8,
      "metadata": {
        "id": "i7c4WEMJW2uk"
      },
      "outputs": [],
      "source": [
        "#Convert columns to their correct type\n",
        "fitbit_data['timestamp'] = pd.to_datetime(fitbit_data['timestamp']).dt.date\n",
        "fitbit_data['sleepAsleepMinutes'] = fitbit_data['sleepAsleepMinutes'].astype(\"int\")\n",
        "fitbit_data['distance'] = fitbit_data['distance'].astype(\"int\")\n",
        "fitbit_data['steps'] =  fitbit_data['steps'].astype(\"int\")"
      ]
    },
    {
      "cell_type": "code",
      "execution_count": 9,
      "metadata": {
        "colab": {
          "base_uri": "https://localhost:8080/",
          "height": 206
        },
        "id": "4Vur-yvCp2pD",
        "outputId": "2f933ca2-e8a5-4e04-96eb-0554c4f34e19"
      },
      "outputs": [
        {
          "output_type": "execute_result",
          "data": {
            "text/plain": [
              "                        pid   timestamp  sleepAsleepMinutes  distance  steps\n",
              "0  613b0c716a9a5d196c5cc6f0  2021-09-16                   0         0      0\n",
              "1  613b0c716a9a5d196c5cc6f0  2021-09-16                   0         0      0\n",
              "2  613b0c716a9a5d196c5cc6f0  2021-09-16                   0         0      0\n",
              "3  613b0c716a9a5d196c5cc6f0  2021-09-16                   0         0      0\n",
              "4  613b0c716a9a5d196c5cc6f0  2021-09-16                   0         0      0"
            ],
            "text/html": [
              "\n",
              "  <div id=\"df-4f76766e-e641-4b50-b4e7-3e31c5d64929\">\n",
              "    <div class=\"colab-df-container\">\n",
              "      <div>\n",
              "<style scoped>\n",
              "    .dataframe tbody tr th:only-of-type {\n",
              "        vertical-align: middle;\n",
              "    }\n",
              "\n",
              "    .dataframe tbody tr th {\n",
              "        vertical-align: top;\n",
              "    }\n",
              "\n",
              "    .dataframe thead th {\n",
              "        text-align: right;\n",
              "    }\n",
              "</style>\n",
              "<table border=\"1\" class=\"dataframe\">\n",
              "  <thead>\n",
              "    <tr style=\"text-align: right;\">\n",
              "      <th></th>\n",
              "      <th>pid</th>\n",
              "      <th>timestamp</th>\n",
              "      <th>sleepAsleepMinutes</th>\n",
              "      <th>distance</th>\n",
              "      <th>steps</th>\n",
              "    </tr>\n",
              "  </thead>\n",
              "  <tbody>\n",
              "    <tr>\n",
              "      <th>0</th>\n",
              "      <td>613b0c716a9a5d196c5cc6f0</td>\n",
              "      <td>2021-09-16</td>\n",
              "      <td>0</td>\n",
              "      <td>0</td>\n",
              "      <td>0</td>\n",
              "    </tr>\n",
              "    <tr>\n",
              "      <th>1</th>\n",
              "      <td>613b0c716a9a5d196c5cc6f0</td>\n",
              "      <td>2021-09-16</td>\n",
              "      <td>0</td>\n",
              "      <td>0</td>\n",
              "      <td>0</td>\n",
              "    </tr>\n",
              "    <tr>\n",
              "      <th>2</th>\n",
              "      <td>613b0c716a9a5d196c5cc6f0</td>\n",
              "      <td>2021-09-16</td>\n",
              "      <td>0</td>\n",
              "      <td>0</td>\n",
              "      <td>0</td>\n",
              "    </tr>\n",
              "    <tr>\n",
              "      <th>3</th>\n",
              "      <td>613b0c716a9a5d196c5cc6f0</td>\n",
              "      <td>2021-09-16</td>\n",
              "      <td>0</td>\n",
              "      <td>0</td>\n",
              "      <td>0</td>\n",
              "    </tr>\n",
              "    <tr>\n",
              "      <th>4</th>\n",
              "      <td>613b0c716a9a5d196c5cc6f0</td>\n",
              "      <td>2021-09-16</td>\n",
              "      <td>0</td>\n",
              "      <td>0</td>\n",
              "      <td>0</td>\n",
              "    </tr>\n",
              "  </tbody>\n",
              "</table>\n",
              "</div>\n",
              "      <button class=\"colab-df-convert\" onclick=\"convertToInteractive('df-4f76766e-e641-4b50-b4e7-3e31c5d64929')\"\n",
              "              title=\"Convert this dataframe to an interactive table.\"\n",
              "              style=\"display:none;\">\n",
              "        \n",
              "  <svg xmlns=\"http://www.w3.org/2000/svg\" height=\"24px\"viewBox=\"0 0 24 24\"\n",
              "       width=\"24px\">\n",
              "    <path d=\"M0 0h24v24H0V0z\" fill=\"none\"/>\n",
              "    <path d=\"M18.56 5.44l.94 2.06.94-2.06 2.06-.94-2.06-.94-.94-2.06-.94 2.06-2.06.94zm-11 1L8.5 8.5l.94-2.06 2.06-.94-2.06-.94L8.5 2.5l-.94 2.06-2.06.94zm10 10l.94 2.06.94-2.06 2.06-.94-2.06-.94-.94-2.06-.94 2.06-2.06.94z\"/><path d=\"M17.41 7.96l-1.37-1.37c-.4-.4-.92-.59-1.43-.59-.52 0-1.04.2-1.43.59L10.3 9.45l-7.72 7.72c-.78.78-.78 2.05 0 2.83L4 21.41c.39.39.9.59 1.41.59.51 0 1.02-.2 1.41-.59l7.78-7.78 2.81-2.81c.8-.78.8-2.07 0-2.86zM5.41 20L4 18.59l7.72-7.72 1.47 1.35L5.41 20z\"/>\n",
              "  </svg>\n",
              "      </button>\n",
              "      \n",
              "  <style>\n",
              "    .colab-df-container {\n",
              "      display:flex;\n",
              "      flex-wrap:wrap;\n",
              "      gap: 12px;\n",
              "    }\n",
              "\n",
              "    .colab-df-convert {\n",
              "      background-color: #E8F0FE;\n",
              "      border: none;\n",
              "      border-radius: 50%;\n",
              "      cursor: pointer;\n",
              "      display: none;\n",
              "      fill: #1967D2;\n",
              "      height: 32px;\n",
              "      padding: 0 0 0 0;\n",
              "      width: 32px;\n",
              "    }\n",
              "\n",
              "    .colab-df-convert:hover {\n",
              "      background-color: #E2EBFA;\n",
              "      box-shadow: 0px 1px 2px rgba(60, 64, 67, 0.3), 0px 1px 3px 1px rgba(60, 64, 67, 0.15);\n",
              "      fill: #174EA6;\n",
              "    }\n",
              "\n",
              "    [theme=dark] .colab-df-convert {\n",
              "      background-color: #3B4455;\n",
              "      fill: #D2E3FC;\n",
              "    }\n",
              "\n",
              "    [theme=dark] .colab-df-convert:hover {\n",
              "      background-color: #434B5C;\n",
              "      box-shadow: 0px 1px 3px 1px rgba(0, 0, 0, 0.15);\n",
              "      filter: drop-shadow(0px 1px 2px rgba(0, 0, 0, 0.3));\n",
              "      fill: #FFFFFF;\n",
              "    }\n",
              "  </style>\n",
              "\n",
              "      <script>\n",
              "        const buttonEl =\n",
              "          document.querySelector('#df-4f76766e-e641-4b50-b4e7-3e31c5d64929 button.colab-df-convert');\n",
              "        buttonEl.style.display =\n",
              "          google.colab.kernel.accessAllowed ? 'block' : 'none';\n",
              "\n",
              "        async function convertToInteractive(key) {\n",
              "          const element = document.querySelector('#df-4f76766e-e641-4b50-b4e7-3e31c5d64929');\n",
              "          const dataTable =\n",
              "            await google.colab.kernel.invokeFunction('convertToInteractive',\n",
              "                                                     [key], {});\n",
              "          if (!dataTable) return;\n",
              "\n",
              "          const docLinkHtml = 'Like what you see? Visit the ' +\n",
              "            '<a target=\"_blank\" href=https://colab.research.google.com/notebooks/data_table.ipynb>data table notebook</a>'\n",
              "            + ' to learn more about interactive tables.';\n",
              "          element.innerHTML = '';\n",
              "          dataTable['output_type'] = 'display_data';\n",
              "          await google.colab.output.renderOutput(dataTable, element);\n",
              "          const docLink = document.createElement('div');\n",
              "          docLink.innerHTML = docLinkHtml;\n",
              "          element.appendChild(docLink);\n",
              "        }\n",
              "      </script>\n",
              "    </div>\n",
              "  </div>\n",
              "  "
            ]
          },
          "metadata": {},
          "execution_count": 9
        }
      ],
      "source": [
        "fitbit_data.head()"
      ]
    },
    {
      "cell_type": "code",
      "execution_count": 10,
      "metadata": {
        "colab": {
          "base_uri": "https://localhost:8080/",
          "height": 206
        },
        "id": "Mp5JMxQwrYq_",
        "outputId": "02d4d04b-8470-4717-9df5-3143efa93dd3"
      },
      "outputs": [
        {
          "output_type": "execute_result",
          "data": {
            "text/plain": [
              "                        pid   timestamp  sleepAsleepMinutes  distance  steps\n",
              "0  613b0c716a9a5d196c5cc6f0  2021-09-16                   0         0      0\n",
              "1  613b0c716a9a5d196c5cc6f0  2021-09-17                   0      2200     35\n",
              "2  613b0c716a9a5d196c5cc6f0  2021-09-18                   0         0      0\n",
              "3  613b0c716a9a5d196c5cc6f0  2021-09-19                   0         0      0\n",
              "4  613b0c716a9a5d196c5cc6f0  2021-09-20                   0         0      0"
            ],
            "text/html": [
              "\n",
              "  <div id=\"df-422906eb-7241-4ba2-b36c-1b944148bde0\">\n",
              "    <div class=\"colab-df-container\">\n",
              "      <div>\n",
              "<style scoped>\n",
              "    .dataframe tbody tr th:only-of-type {\n",
              "        vertical-align: middle;\n",
              "    }\n",
              "\n",
              "    .dataframe tbody tr th {\n",
              "        vertical-align: top;\n",
              "    }\n",
              "\n",
              "    .dataframe thead th {\n",
              "        text-align: right;\n",
              "    }\n",
              "</style>\n",
              "<table border=\"1\" class=\"dataframe\">\n",
              "  <thead>\n",
              "    <tr style=\"text-align: right;\">\n",
              "      <th></th>\n",
              "      <th>pid</th>\n",
              "      <th>timestamp</th>\n",
              "      <th>sleepAsleepMinutes</th>\n",
              "      <th>distance</th>\n",
              "      <th>steps</th>\n",
              "    </tr>\n",
              "  </thead>\n",
              "  <tbody>\n",
              "    <tr>\n",
              "      <th>0</th>\n",
              "      <td>613b0c716a9a5d196c5cc6f0</td>\n",
              "      <td>2021-09-16</td>\n",
              "      <td>0</td>\n",
              "      <td>0</td>\n",
              "      <td>0</td>\n",
              "    </tr>\n",
              "    <tr>\n",
              "      <th>1</th>\n",
              "      <td>613b0c716a9a5d196c5cc6f0</td>\n",
              "      <td>2021-09-17</td>\n",
              "      <td>0</td>\n",
              "      <td>2200</td>\n",
              "      <td>35</td>\n",
              "    </tr>\n",
              "    <tr>\n",
              "      <th>2</th>\n",
              "      <td>613b0c716a9a5d196c5cc6f0</td>\n",
              "      <td>2021-09-18</td>\n",
              "      <td>0</td>\n",
              "      <td>0</td>\n",
              "      <td>0</td>\n",
              "    </tr>\n",
              "    <tr>\n",
              "      <th>3</th>\n",
              "      <td>613b0c716a9a5d196c5cc6f0</td>\n",
              "      <td>2021-09-19</td>\n",
              "      <td>0</td>\n",
              "      <td>0</td>\n",
              "      <td>0</td>\n",
              "    </tr>\n",
              "    <tr>\n",
              "      <th>4</th>\n",
              "      <td>613b0c716a9a5d196c5cc6f0</td>\n",
              "      <td>2021-09-20</td>\n",
              "      <td>0</td>\n",
              "      <td>0</td>\n",
              "      <td>0</td>\n",
              "    </tr>\n",
              "  </tbody>\n",
              "</table>\n",
              "</div>\n",
              "      <button class=\"colab-df-convert\" onclick=\"convertToInteractive('df-422906eb-7241-4ba2-b36c-1b944148bde0')\"\n",
              "              title=\"Convert this dataframe to an interactive table.\"\n",
              "              style=\"display:none;\">\n",
              "        \n",
              "  <svg xmlns=\"http://www.w3.org/2000/svg\" height=\"24px\"viewBox=\"0 0 24 24\"\n",
              "       width=\"24px\">\n",
              "    <path d=\"M0 0h24v24H0V0z\" fill=\"none\"/>\n",
              "    <path d=\"M18.56 5.44l.94 2.06.94-2.06 2.06-.94-2.06-.94-.94-2.06-.94 2.06-2.06.94zm-11 1L8.5 8.5l.94-2.06 2.06-.94-2.06-.94L8.5 2.5l-.94 2.06-2.06.94zm10 10l.94 2.06.94-2.06 2.06-.94-2.06-.94-.94-2.06-.94 2.06-2.06.94z\"/><path d=\"M17.41 7.96l-1.37-1.37c-.4-.4-.92-.59-1.43-.59-.52 0-1.04.2-1.43.59L10.3 9.45l-7.72 7.72c-.78.78-.78 2.05 0 2.83L4 21.41c.39.39.9.59 1.41.59.51 0 1.02-.2 1.41-.59l7.78-7.78 2.81-2.81c.8-.78.8-2.07 0-2.86zM5.41 20L4 18.59l7.72-7.72 1.47 1.35L5.41 20z\"/>\n",
              "  </svg>\n",
              "      </button>\n",
              "      \n",
              "  <style>\n",
              "    .colab-df-container {\n",
              "      display:flex;\n",
              "      flex-wrap:wrap;\n",
              "      gap: 12px;\n",
              "    }\n",
              "\n",
              "    .colab-df-convert {\n",
              "      background-color: #E8F0FE;\n",
              "      border: none;\n",
              "      border-radius: 50%;\n",
              "      cursor: pointer;\n",
              "      display: none;\n",
              "      fill: #1967D2;\n",
              "      height: 32px;\n",
              "      padding: 0 0 0 0;\n",
              "      width: 32px;\n",
              "    }\n",
              "\n",
              "    .colab-df-convert:hover {\n",
              "      background-color: #E2EBFA;\n",
              "      box-shadow: 0px 1px 2px rgba(60, 64, 67, 0.3), 0px 1px 3px 1px rgba(60, 64, 67, 0.15);\n",
              "      fill: #174EA6;\n",
              "    }\n",
              "\n",
              "    [theme=dark] .colab-df-convert {\n",
              "      background-color: #3B4455;\n",
              "      fill: #D2E3FC;\n",
              "    }\n",
              "\n",
              "    [theme=dark] .colab-df-convert:hover {\n",
              "      background-color: #434B5C;\n",
              "      box-shadow: 0px 1px 3px 1px rgba(0, 0, 0, 0.15);\n",
              "      filter: drop-shadow(0px 1px 2px rgba(0, 0, 0, 0.3));\n",
              "      fill: #FFFFFF;\n",
              "    }\n",
              "  </style>\n",
              "\n",
              "      <script>\n",
              "        const buttonEl =\n",
              "          document.querySelector('#df-422906eb-7241-4ba2-b36c-1b944148bde0 button.colab-df-convert');\n",
              "        buttonEl.style.display =\n",
              "          google.colab.kernel.accessAllowed ? 'block' : 'none';\n",
              "\n",
              "        async function convertToInteractive(key) {\n",
              "          const element = document.querySelector('#df-422906eb-7241-4ba2-b36c-1b944148bde0');\n",
              "          const dataTable =\n",
              "            await google.colab.kernel.invokeFunction('convertToInteractive',\n",
              "                                                     [key], {});\n",
              "          if (!dataTable) return;\n",
              "\n",
              "          const docLinkHtml = 'Like what you see? Visit the ' +\n",
              "            '<a target=\"_blank\" href=https://colab.research.google.com/notebooks/data_table.ipynb>data table notebook</a>'\n",
              "            + ' to learn more about interactive tables.';\n",
              "          element.innerHTML = '';\n",
              "          dataTable['output_type'] = 'display_data';\n",
              "          await google.colab.output.renderOutput(dataTable, element);\n",
              "          const docLink = document.createElement('div');\n",
              "          docLink.innerHTML = docLinkHtml;\n",
              "          element.appendChild(docLink);\n",
              "        }\n",
              "      </script>\n",
              "    </div>\n",
              "  </div>\n",
              "  "
            ]
          },
          "metadata": {},
          "execution_count": 10
        }
      ],
      "source": [
        "# Group by \n",
        "fitbit_data = fitbit_data.groupby(by=[\"pid\",\"timestamp\"], as_index=False, sort=False).sum()\n",
        "fitbit_data.head()"
      ]
    },
    {
      "cell_type": "markdown",
      "metadata": {
        "id": "g7or3oKPxaZv"
      },
      "source": [
        "### Fitbit adherence"
      ]
    },
    {
      "cell_type": "code",
      "execution_count": 11,
      "metadata": {
        "colab": {
          "base_uri": "https://localhost:8080/"
        },
        "id": "iCcURfRPxdrV",
        "outputId": "3f6da7e2-ad7e-41fe-e45b-7ec38a6b1b25"
      },
      "outputs": [
        {
          "output_type": "stream",
          "name": "stdout",
          "text": [
            "Index(['pid', 'timestamp', 'sleepAsleepMinutes', 'distance', 'steps'], dtype='object')\n",
            "613b0c716a9a5d196c5cc6f0 2 100 2.0%\n",
            "613b11756a9a5d196c5cc6f2 58 107 54.20560747663551%\n",
            "613b2a7b6a9a5d196c5cc6f6 89 107 83.17757009345794%\n",
            "613f1e0e6a9a5d196c5cc6fc 101 102 99.01960784313727%\n",
            "613f3b066a9a5d196c5cc6fe 88 104 84.61538461538461%\n",
            "614037d86a9a5d196c5cc700 68 103 66.01941747572816%\n",
            "6141b83b6a9a5d196c5cc702 96 102 94.11764705882352%\n",
            "615bfda96a9a5d196c5cc70e 37 82 45.1219512195122%\n",
            "615d5af76a9a5d196c5cc710 46 81 56.79012345679012%\n",
            "615ff17b6a9a5d196c5cc712 24 79 30.37974683544304%\n",
            "618a36106a9a5d196c5cc724 13 109 11.926605504587156%\n",
            "61935f406a9a5d196c5cc72a 0 102 0.0%\n",
            "619364876a9a5d196c5cc72c 33 102 32.35294117647059%\n",
            "61a483586a9a5d196c5cc730 13 89 14.606741573033707%\n",
            "61ea9650af99b3594fb760ca 0 89 0.0%\n",
            "61eab033af99b3594fb760cc 31 85 36.470588235294116%\n",
            "61eab41baf99b3594fb760ce 83 86 96.51162790697676%\n",
            "61c194936a9a5d196c5cc738 114 131 87.02290076335878%\n",
            "61c195f56a9a5d196c5cc73a 18 124 14.516129032258066%\n",
            "61d6cc7a5828a5043783a1f1 9 104 8.653846153846153%\n",
            "61d6cd965828a5043783a1f3 12 103 11.650485436893204%\n",
            "61d6ce215828a5043783a1f5 85 102 83.33333333333334%\n",
            "61d6cf035828a5043783a1f7 48 86 55.81395348837209%\n",
            "61dd93a2af99b3594fb760c4 72 100 72.0%\n",
            "620229f52a666e100124a505 1 68 1.4705882352941175%\n",
            "620241ce2a666e100124a507 66 68 97.05882352941177%\n",
            "62125bdb2a666e100124a50d 15 56 26.785714285714285%\n"
          ]
        }
      ],
      "source": [
        "print(fitbit_data.columns)\n",
        "pids = list(fitbit_data[\"pid\"].unique())\n",
        "\n",
        "for pid in pids:\n",
        "  temp = fitbit_data.loc[fitbit_data['pid'] == pid] \n",
        "  number_of_days = len(temp[\"timestamp\"].unique())\n",
        "  no_exercise_days_count = len(temp[\"steps\"].loc[lambda x : x!=0])\n",
        "  print(pid,no_exercise_days_count,number_of_days,str((no_exercise_days_count/number_of_days) * 100) + \"%\")"
      ]
    },
    {
      "cell_type": "code",
      "execution_count": 12,
      "metadata": {
        "id": "zgHuUtN0hD54"
      },
      "outputs": [],
      "source": [
        "# Read self_obs_data\n",
        "self_obs_data_lst = []\n",
        "for files in os.listdir(self_obs_data_dir):\n",
        "    if files.endswith(ext):\n",
        "        #print(files)\n",
        "        self_obs_data = pd.read_csv(self_obs_data_dir + \"/\" + files,delimiter=';')\n",
        "        self_obs_data['pid'] = files[0:-4]\n",
        "        self_obs_data_lst.append(self_obs_data)\n",
        "\n",
        "self_obs_data = pd.concat(self_obs_data_lst, axis=0, ignore_index=True)"
      ]
    },
    {
      "cell_type": "code",
      "execution_count": 13,
      "metadata": {
        "id": "cLFNRM4nhDtK"
      },
      "outputs": [],
      "source": [
        "score_name_dict = {\"mother\": \"score_mother\", \n",
        "                   \"foodpractices\": \"score_foodpractices\",\n",
        "                   \"strengthsdifficulties\": \"score_strengthsdifficulties\",\n",
        "                   \"psycho\": \"score_psycho\", \n",
        "                   \"post_mother\": \"score_post_mother\" , \n",
        "                   \"post_foodpractices\": \"score_post_foodpractices\",\n",
        "                   \"post_strengthsdifficulties\": \"score_post_strengthsdifficulties\"\n",
        "}\n",
        "\n",
        "# Read questionaire data\n",
        "questionnaire_data_lst = []\n",
        "file_names = []\n",
        "for files in os.listdir(questionnaire_data_dir):\n",
        "    if files.endswith(ext):        \n",
        "        file_names.append(files)\n",
        "        questionnaire_data = pd.read_csv(questionnaire_data_dir + \"/\" + files,delimiter=';')\n",
        "        questionnaire_data.columns = questionnaire_data.columns.str.replace(\"\\n\", \" \")\n",
        "        questionnaire_data_lst.append(questionnaire_data)\n",
        "\n",
        "questionnaire_data = questionnaire_data_lst[0]\n",
        "for col in questionnaire_data.columns:\n",
        "    if '- t' in col:\n",
        "        del questionnaire_data [col]\n",
        "\n",
        "for i in range(1,len(questionnaire_data_lst)):\n",
        "  for col in questionnaire_data_lst[i].columns:\n",
        "    if '- t' in col:\n",
        "        del questionnaire_data_lst[i] [col]\n",
        "  questionnaire_data = pd.merge(questionnaire_data, questionnaire_data_lst[i], how='outer', left_on=['pid'], right_on = ['pid'])"
      ]
    },
    {
      "cell_type": "code",
      "execution_count": 14,
      "metadata": {
        "colab": {
          "base_uri": "https://localhost:8080/"
        },
        "id": "UwwRLrFgGCds",
        "outputId": "c9c5a0d6-b923-462e-d4d1-e331f1de2f0f"
      },
      "outputs": [
        {
          "output_type": "stream",
          "name": "stdout",
          "text": [
            "<class 'pandas.core.frame.DataFrame'>\n",
            "Int64Index: 15 entries, 0 to 14\n",
            "Columns: 390 entries, pid to Φέρνει σε πέρας μία εργασία, έχει καλή προσοχή - v_y\n",
            "dtypes: float64(167), int64(176), object(47)\n",
            "memory usage: 45.8+ KB\n"
          ]
        }
      ],
      "source": [
        "questionnaire_data.info()"
      ]
    },
    {
      "cell_type": "code",
      "execution_count": 15,
      "metadata": {
        "colab": {
          "base_uri": "https://localhost:8080/"
        },
        "id": "CHY3J7Cthafb",
        "outputId": "a98e669b-cdc3-4783-c51f-ee98e15684f6"
      },
      "outputs": [
        {
          "output_type": "stream",
          "name": "stdout",
          "text": [
            "                        pid   timestamp  sleepAsleepMinutes  distance  steps\n",
            "0  613b0c716a9a5d196c5cc6f0  2021-09-16                   0         0      0\n",
            "1  613b0c716a9a5d196c5cc6f0  2021-09-17                   0      2200     35\n",
            "2  613b0c716a9a5d196c5cc6f0  2021-09-18                   0         0      0\n",
            "3  613b0c716a9a5d196c5cc6f0  2021-09-19                   0         0      0\n",
            "4  613b0c716a9a5d196c5cc6f0  2021-09-20                   0         0      0\n"
          ]
        }
      ],
      "source": [
        "print(fitbit_data.head())"
      ]
    },
    {
      "cell_type": "code",
      "execution_count": 16,
      "metadata": {
        "colab": {
          "base_uri": "https://localhost:8080/"
        },
        "id": "gK33zEV_yYyX",
        "outputId": "048fbbd1-b5b5-4f88-c468-5d7c89b427e2"
      },
      "outputs": [
        {
          "output_type": "stream",
          "name": "stdout",
          "text": [
            "             timestamp                 time target  \\\n",
            "0  2022-02-25 04:00:26  1 ώρα ή περισσότερο    Ναι   \n",
            "1  2022-02-21 04:00:28                  NaN    NaN   \n",
            "2  2022-03-10 04:00:32                  NaN    NaN   \n",
            "3  2022-03-10 04:00:33                  NaN    NaN   \n",
            "4  2022-02-28 04:00:17                  NaN    Ναι   \n",
            "\n",
            "                                                desc  \\\n",
            "0                                  Προπόνηση μπάσκετ   \n",
            "1                                                NaN   \n",
            "2                                                NaN   \n",
            "3                                                NaN   \n",
            "4  Από δ. πλάνο: \\nπριν το σχολείο: \\n1 ποτήρι γά...   \n",
            "\n",
            "                        pid  weight  eat eatJunk home junk descFruit delivery  \\\n",
            "0  62125bdb2a666e100124a50d     NaN  NaN     NaN  NaN  NaN       NaN      NaN   \n",
            "1  620241ce2a666e100124a507    40.0  NaN     NaN  NaN  NaN       NaN      NaN   \n",
            "2  620241ce2a666e100124a507    41.0  NaN     NaN  NaN  NaN       NaN      NaN   \n",
            "3  620241ce2a666e100124a507    41.0  NaN     NaN  NaN  NaN       NaN      NaN   \n",
            "4  620241ce2a666e100124a507     NaN  Ναι     Όχι  NaN  NaN       NaN      NaN   \n",
            "\n",
            "  descMilk comments descSalad  \n",
            "0      NaN      NaN       NaN  \n",
            "1      NaN      NaN       NaN  \n",
            "2      NaN      NaN       NaN  \n",
            "3      NaN      NaN       NaN  \n",
            "4      NaN      NaN       NaN  \n"
          ]
        }
      ],
      "source": [
        "print(self_obs_data.head())"
      ]
    },
    {
      "cell_type": "code",
      "execution_count": 17,
      "metadata": {
        "colab": {
          "base_uri": "https://localhost:8080/"
        },
        "id": "uCXGgT8KyYna",
        "outputId": "f9483eb8-c48e-4532-caba-24a191b8c288"
      },
      "outputs": [
        {
          "output_type": "stream",
          "name": "stdout",
          "text": [
            "                        pid  ΙΚΤΕΡΟΣ - v  ΥΠΟΓΛΥΚΑΙΜΙΑ - v  \\\n",
            "0  61ea9650af99b3594fb760ca            0                 0   \n",
            "1  61eab033af99b3594fb760cc            0                 0   \n",
            "2  61eab41baf99b3594fb760ce            0                 0   \n",
            "3  61c192f96a9a5d196c5cc734            0                 0   \n",
            "4  61c193b26a9a5d196c5cc736            0                 0   \n",
            "\n",
            "   ΠΑΡΑΜΟΝΗ ΣΕ ΜΕΝ / ΜΑΦ - v ΛΟΙΠΑ ΠΡΟΒΛΗΜΑΤΑ - v Αίτιο - v  \\\n",
            "0                          0                    -       NaN   \n",
            "1                          0                    -       NaN   \n",
            "2                          0                    -       NaN   \n",
            "3                          0                    -       NaN   \n",
            "4                          0                    -       NaN   \n",
            "\n",
            "   ΗΜΕΡΕΣ ΠΑΡΑΜΟΝΗΣ - v HbA1c - v  Chol - v  HDL - v  ...  \\\n",
            "0                   NaN         -       139       62  ...   \n",
            "1                   NaN       5,2       185       87  ...   \n",
            "2                   NaN       5,2       137       60  ...   \n",
            "3                   NaN         -       153       51  ...   \n",
            "4                   NaN       5,7       159       46  ...   \n",
            "\n",
            "   Μάλλον μοναχικός/η, τείνει να παίζει μόνος/η - v_y  \\\n",
            "0                                                  0    \n",
            "1                                                  1    \n",
            "2                                                  0    \n",
            "3                                                  0    \n",
            "4                                                  0    \n",
            "\n",
            "   Γενικά είναι υπάκουος/η, ή συνήθως κάνει ότι του/της ζητούν οι ενήλικες - v_y  \\\n",
            "0                                                  2                               \n",
            "1                                                  0                               \n",
            "2                                                  1                               \n",
            "3                                                  0                               \n",
            "4                                                  1                               \n",
            "\n",
            "  Τον/την απασχολεί το παραμικρό, συχνά φαίνεται ανήσυχος/η - v_y  \\\n",
            "0                                                  0                \n",
            "1                                                  1                \n",
            "2                                                  1                \n",
            "3                                                  1                \n",
            "4                                                  0                \n",
            "\n",
            "   Είναι πρόθυμος/η να βοηθήσει κάποιον που είναι πληγωμένος, αναστατωμένος,στεναχωρημένος, άρρωστος - v_y  \\\n",
            "0                                                  2                                                         \n",
            "1                                                  2                                                         \n",
            "2                                                  2                                                         \n",
            "3                                                  2                                                         \n",
            "4                                                  2                                                         \n",
            "\n",
            "   Προθυμοποιείται συχνά να βοηθήσει τους άλλους (γονείς, καθηγητές, άλλα παιδιά) - v_y  \\\n",
            "0                                                  2                                      \n",
            "1                                                  2                                      \n",
            "2                                                  2                                      \n",
            "3                                                  2                                      \n",
            "4                                                  2                                      \n",
            "\n",
            "  Κλέβει από το σπίτι, το σχολείο ή αλλού - v_y  \\\n",
            "0                                             0   \n",
            "1                                             0   \n",
            "2                                             0   \n",
            "3                                             0   \n",
            "4                                             0   \n",
            "\n",
            "  Πριν κάνει κάτι το μελετάει προσεκτικά - v_y  \\\n",
            "0                                            0   \n",
            "1                                            1   \n",
            "2                                            2   \n",
            "3                                            0   \n",
            "4                                            1   \n",
            "\n",
            "  Έχει πολλούς φόβους, τρομάζει εύκολα - v_y  \\\n",
            "0                                          0   \n",
            "1                                          1   \n",
            "2                                          2   \n",
            "3                                          2   \n",
            "4                                          1   \n",
            "\n",
            "  Τα πηγαίνει καλύτερα με τους ενήλικες παρά με τα παιδιά - v_y  \\\n",
            "0                                                  0              \n",
            "1                                                  1              \n",
            "2                                                  0              \n",
            "3                                                  0              \n",
            "4                                                  0              \n",
            "\n",
            "  Φέρνει σε πέρας μία εργασία, έχει καλή προσοχή - v_y  \n",
            "0                                                  2    \n",
            "1                                                  1    \n",
            "2                                                  0    \n",
            "3                                                  0    \n",
            "4                                                  0    \n",
            "\n",
            "[5 rows x 390 columns]\n"
          ]
        }
      ],
      "source": [
        "print(questionnaire_data.head())"
      ]
    },
    {
      "cell_type": "markdown",
      "metadata": {
        "id": "VuUGc6E5p-m5"
      },
      "source": [
        "### Remove useless columns to allow join"
      ]
    },
    {
      "cell_type": "code",
      "execution_count": 18,
      "metadata": {
        "colab": {
          "base_uri": "https://localhost:8080/"
        },
        "id": "915vQdaTqC2v",
        "outputId": "193d4a8d-cc86-4d6f-a4e0-e03ce068036a"
      },
      "outputs": [
        {
          "output_type": "stream",
          "name": "stdout",
          "text": [
            "<class 'pandas.core.frame.DataFrame'>\n",
            "RangeIndex: 2571 entries, 0 to 2570\n",
            "Data columns (total 5 columns):\n",
            " #   Column              Non-Null Count  Dtype \n",
            "---  ------              --------------  ----- \n",
            " 0   pid                 2571 non-null   object\n",
            " 1   timestamp           2571 non-null   object\n",
            " 2   sleepAsleepMinutes  2571 non-null   int64 \n",
            " 3   distance            2571 non-null   int64 \n",
            " 4   steps               2571 non-null   int64 \n",
            "dtypes: int64(3), object(2)\n",
            "memory usage: 100.6+ KB\n",
            "None\n"
          ]
        }
      ],
      "source": [
        "# Print sub-data\n",
        "print(fitbit_data.info())"
      ]
    },
    {
      "cell_type": "code",
      "execution_count": 19,
      "metadata": {
        "colab": {
          "base_uri": "https://localhost:8080/"
        },
        "id": "JXq8WEahyezN",
        "outputId": "dbc1521a-33c2-4e13-a61c-4bb2bd456f8c"
      },
      "outputs": [
        {
          "output_type": "stream",
          "name": "stdout",
          "text": [
            "<class 'pandas.core.frame.DataFrame'>\n",
            "RangeIndex: 431 entries, 0 to 430\n",
            "Data columns (total 15 columns):\n",
            " #   Column     Non-Null Count  Dtype  \n",
            "---  ------     --------------  -----  \n",
            " 0   timestamp  431 non-null    object \n",
            " 1   time       74 non-null     object \n",
            " 2   target     395 non-null    object \n",
            " 3   desc       297 non-null    object \n",
            " 4   pid        431 non-null    object \n",
            " 5   weight     74 non-null     float64\n",
            " 6   eat        80 non-null     object \n",
            " 7   eatJunk    84 non-null     object \n",
            " 8   home       235 non-null    object \n",
            " 9   junk       124 non-null    object \n",
            " 10  descFruit  72 non-null     object \n",
            " 11  delivery   111 non-null    object \n",
            " 12  descMilk   37 non-null     object \n",
            " 13  comments   24 non-null     object \n",
            " 14  descSalad  16 non-null     object \n",
            "dtypes: float64(1), object(14)\n",
            "memory usage: 50.6+ KB\n",
            "None\n"
          ]
        }
      ],
      "source": [
        "print(self_obs_data.info())"
      ]
    },
    {
      "cell_type": "code",
      "execution_count": 20,
      "metadata": {
        "colab": {
          "base_uri": "https://localhost:8080/"
        },
        "id": "lpoucSciyeqV",
        "outputId": "43f82bfb-1138-47d8-c402-9f8f06876f98"
      },
      "outputs": [
        {
          "output_type": "stream",
          "name": "stdout",
          "text": [
            "<class 'pandas.core.frame.DataFrame'>\n",
            "Int64Index: 15 entries, 0 to 14\n",
            "Columns: 390 entries, pid to Φέρνει σε πέρας μία εργασία, έχει καλή προσοχή - v_y\n",
            "dtypes: float64(167), int64(176), object(47)\n",
            "memory usage: 45.8+ KB\n",
            "None\n"
          ]
        }
      ],
      "source": [
        "print(questionnaire_data.info())"
      ]
    },
    {
      "cell_type": "code",
      "execution_count": 21,
      "metadata": {
        "id": "RlhlTlEurCtq"
      },
      "outputs": [],
      "source": [
        "# self_obs_data\n",
        "self_obs_data = self_obs_data[[\"pid\",'timestamp', 'target',\"weight\",\"home\",\"junk\"]]"
      ]
    },
    {
      "cell_type": "code",
      "execution_count": 22,
      "metadata": {
        "id": "yyOvVYpm4P9R"
      },
      "outputs": [],
      "source": [
        "for i in ['target',\"weight\",\"home\",\"junk\"]:\n",
        "  self_obs_data[i] = self_obs_data[i].astype(str).str.replace(',','.')\n",
        "  self_obs_data[i] = self_obs_data[i].astype(str).str.replace('<','')\n",
        "  self_obs_data[i] = self_obs_data[i].astype(str).str.replace('Ο','0')\n",
        "  self_obs_data[i] = self_obs_data[i].astype(str).str.replace(' ','')\n",
        "  self_obs_data[i] = self_obs_data[i].replace('nan',np.nan)\n",
        "  self_obs_data[i] = self_obs_data[i].replace('-',np.nan)"
      ]
    },
    {
      "cell_type": "code",
      "execution_count": 23,
      "metadata": {
        "colab": {
          "base_uri": "https://localhost:8080/",
          "height": 206
        },
        "id": "fxeHHihu9QeW",
        "outputId": "78230bca-627b-41c2-afb7-9745826f0ddb"
      },
      "outputs": [
        {
          "output_type": "execute_result",
          "data": {
            "text/plain": [
              "                        pid   timestamp  target weight  home  junk\n",
              "0  62125bdb2a666e100124a50d  2022-02-25     1.0    NaN   NaN   NaN\n",
              "1  620241ce2a666e100124a507  2022-02-21     NaN   40.0   NaN   NaN\n",
              "2  620241ce2a666e100124a507  2022-03-10     NaN   41.0   NaN   NaN\n",
              "3  620241ce2a666e100124a507  2022-03-10     NaN   41.0   NaN   NaN\n",
              "4  620241ce2a666e100124a507  2022-02-28     1.0    NaN   NaN   NaN"
            ],
            "text/html": [
              "\n",
              "  <div id=\"df-b39e994c-2306-4f89-aa0a-0fc126151b6c\">\n",
              "    <div class=\"colab-df-container\">\n",
              "      <div>\n",
              "<style scoped>\n",
              "    .dataframe tbody tr th:only-of-type {\n",
              "        vertical-align: middle;\n",
              "    }\n",
              "\n",
              "    .dataframe tbody tr th {\n",
              "        vertical-align: top;\n",
              "    }\n",
              "\n",
              "    .dataframe thead th {\n",
              "        text-align: right;\n",
              "    }\n",
              "</style>\n",
              "<table border=\"1\" class=\"dataframe\">\n",
              "  <thead>\n",
              "    <tr style=\"text-align: right;\">\n",
              "      <th></th>\n",
              "      <th>pid</th>\n",
              "      <th>timestamp</th>\n",
              "      <th>target</th>\n",
              "      <th>weight</th>\n",
              "      <th>home</th>\n",
              "      <th>junk</th>\n",
              "    </tr>\n",
              "  </thead>\n",
              "  <tbody>\n",
              "    <tr>\n",
              "      <th>0</th>\n",
              "      <td>62125bdb2a666e100124a50d</td>\n",
              "      <td>2022-02-25</td>\n",
              "      <td>1.0</td>\n",
              "      <td>NaN</td>\n",
              "      <td>NaN</td>\n",
              "      <td>NaN</td>\n",
              "    </tr>\n",
              "    <tr>\n",
              "      <th>1</th>\n",
              "      <td>620241ce2a666e100124a507</td>\n",
              "      <td>2022-02-21</td>\n",
              "      <td>NaN</td>\n",
              "      <td>40.0</td>\n",
              "      <td>NaN</td>\n",
              "      <td>NaN</td>\n",
              "    </tr>\n",
              "    <tr>\n",
              "      <th>2</th>\n",
              "      <td>620241ce2a666e100124a507</td>\n",
              "      <td>2022-03-10</td>\n",
              "      <td>NaN</td>\n",
              "      <td>41.0</td>\n",
              "      <td>NaN</td>\n",
              "      <td>NaN</td>\n",
              "    </tr>\n",
              "    <tr>\n",
              "      <th>3</th>\n",
              "      <td>620241ce2a666e100124a507</td>\n",
              "      <td>2022-03-10</td>\n",
              "      <td>NaN</td>\n",
              "      <td>41.0</td>\n",
              "      <td>NaN</td>\n",
              "      <td>NaN</td>\n",
              "    </tr>\n",
              "    <tr>\n",
              "      <th>4</th>\n",
              "      <td>620241ce2a666e100124a507</td>\n",
              "      <td>2022-02-28</td>\n",
              "      <td>1.0</td>\n",
              "      <td>NaN</td>\n",
              "      <td>NaN</td>\n",
              "      <td>NaN</td>\n",
              "    </tr>\n",
              "  </tbody>\n",
              "</table>\n",
              "</div>\n",
              "      <button class=\"colab-df-convert\" onclick=\"convertToInteractive('df-b39e994c-2306-4f89-aa0a-0fc126151b6c')\"\n",
              "              title=\"Convert this dataframe to an interactive table.\"\n",
              "              style=\"display:none;\">\n",
              "        \n",
              "  <svg xmlns=\"http://www.w3.org/2000/svg\" height=\"24px\"viewBox=\"0 0 24 24\"\n",
              "       width=\"24px\">\n",
              "    <path d=\"M0 0h24v24H0V0z\" fill=\"none\"/>\n",
              "    <path d=\"M18.56 5.44l.94 2.06.94-2.06 2.06-.94-2.06-.94-.94-2.06-.94 2.06-2.06.94zm-11 1L8.5 8.5l.94-2.06 2.06-.94-2.06-.94L8.5 2.5l-.94 2.06-2.06.94zm10 10l.94 2.06.94-2.06 2.06-.94-2.06-.94-.94-2.06-.94 2.06-2.06.94z\"/><path d=\"M17.41 7.96l-1.37-1.37c-.4-.4-.92-.59-1.43-.59-.52 0-1.04.2-1.43.59L10.3 9.45l-7.72 7.72c-.78.78-.78 2.05 0 2.83L4 21.41c.39.39.9.59 1.41.59.51 0 1.02-.2 1.41-.59l7.78-7.78 2.81-2.81c.8-.78.8-2.07 0-2.86zM5.41 20L4 18.59l7.72-7.72 1.47 1.35L5.41 20z\"/>\n",
              "  </svg>\n",
              "      </button>\n",
              "      \n",
              "  <style>\n",
              "    .colab-df-container {\n",
              "      display:flex;\n",
              "      flex-wrap:wrap;\n",
              "      gap: 12px;\n",
              "    }\n",
              "\n",
              "    .colab-df-convert {\n",
              "      background-color: #E8F0FE;\n",
              "      border: none;\n",
              "      border-radius: 50%;\n",
              "      cursor: pointer;\n",
              "      display: none;\n",
              "      fill: #1967D2;\n",
              "      height: 32px;\n",
              "      padding: 0 0 0 0;\n",
              "      width: 32px;\n",
              "    }\n",
              "\n",
              "    .colab-df-convert:hover {\n",
              "      background-color: #E2EBFA;\n",
              "      box-shadow: 0px 1px 2px rgba(60, 64, 67, 0.3), 0px 1px 3px 1px rgba(60, 64, 67, 0.15);\n",
              "      fill: #174EA6;\n",
              "    }\n",
              "\n",
              "    [theme=dark] .colab-df-convert {\n",
              "      background-color: #3B4455;\n",
              "      fill: #D2E3FC;\n",
              "    }\n",
              "\n",
              "    [theme=dark] .colab-df-convert:hover {\n",
              "      background-color: #434B5C;\n",
              "      box-shadow: 0px 1px 3px 1px rgba(0, 0, 0, 0.15);\n",
              "      filter: drop-shadow(0px 1px 2px rgba(0, 0, 0, 0.3));\n",
              "      fill: #FFFFFF;\n",
              "    }\n",
              "  </style>\n",
              "\n",
              "      <script>\n",
              "        const buttonEl =\n",
              "          document.querySelector('#df-b39e994c-2306-4f89-aa0a-0fc126151b6c button.colab-df-convert');\n",
              "        buttonEl.style.display =\n",
              "          google.colab.kernel.accessAllowed ? 'block' : 'none';\n",
              "\n",
              "        async function convertToInteractive(key) {\n",
              "          const element = document.querySelector('#df-b39e994c-2306-4f89-aa0a-0fc126151b6c');\n",
              "          const dataTable =\n",
              "            await google.colab.kernel.invokeFunction('convertToInteractive',\n",
              "                                                     [key], {});\n",
              "          if (!dataTable) return;\n",
              "\n",
              "          const docLinkHtml = 'Like what you see? Visit the ' +\n",
              "            '<a target=\"_blank\" href=https://colab.research.google.com/notebooks/data_table.ipynb>data table notebook</a>'\n",
              "            + ' to learn more about interactive tables.';\n",
              "          element.innerHTML = '';\n",
              "          dataTable['output_type'] = 'display_data';\n",
              "          await google.colab.output.renderOutput(dataTable, element);\n",
              "          const docLink = document.createElement('div');\n",
              "          docLink.innerHTML = docLinkHtml;\n",
              "          element.appendChild(docLink);\n",
              "        }\n",
              "      </script>\n",
              "    </div>\n",
              "  </div>\n",
              "  "
            ]
          },
          "metadata": {},
          "execution_count": 23
        }
      ],
      "source": [
        "remap = {'Ναι': 1, 'Όχι': 0, ' ':np.nan}\n",
        "self_obs_data['target'] = self_obs_data['target'].map(remap)\n",
        "self_obs_data['home'] = self_obs_data[\"home\"].map(remap)\n",
        "self_obs_data['junk'] = self_obs_data[\"junk\"].map(remap)\n",
        "self_obs_data['timestamp'] = pd.to_datetime(self_obs_data['timestamp']).dt.date\n",
        "\n",
        "self_obs_data.head()"
      ]
    },
    {
      "cell_type": "markdown",
      "metadata": {
        "id": "2rCmhm9y20zx"
      },
      "source": [
        "### Self-observation adherence"
      ]
    },
    {
      "cell_type": "code",
      "execution_count": 24,
      "metadata": {
        "colab": {
          "base_uri": "https://localhost:8080/"
        },
        "id": "BJEes8cK20Ho",
        "outputId": "2104828e-953a-4401-c27d-690b3566150e"
      },
      "outputs": [
        {
          "output_type": "stream",
          "name": "stdout",
          "text": [
            "613b0c716a9a5d196c5cc6f0 0 100 0.0%\n",
            "613b11756a9a5d196c5cc6f2 0 107 0.0%\n",
            "613b2a7b6a9a5d196c5cc6f6 0 107 0.0%\n",
            "613f1e0e6a9a5d196c5cc6fc 0 102 0.0%\n",
            "613f3b066a9a5d196c5cc6fe 0 104 0.0%\n",
            "614037d86a9a5d196c5cc700 0 103 0.0%\n",
            "6141b83b6a9a5d196c5cc702 0 102 0.0%\n",
            "615bfda96a9a5d196c5cc70e 0 82 0.0%\n",
            "615d5af76a9a5d196c5cc710 0 81 0.0%\n",
            "615ff17b6a9a5d196c5cc712 0 79 0.0%\n",
            "618a36106a9a5d196c5cc724 0 109 0.0%\n",
            "61935f406a9a5d196c5cc72a 0 102 0.0%\n",
            "619364876a9a5d196c5cc72c 0 102 0.0%\n",
            "61a483586a9a5d196c5cc730 0 89 0.0%\n",
            "61ea9650af99b3594fb760ca 79 89 88.76404494382022%\n",
            "61eab033af99b3594fb760cc 35 85 41.17647058823529%\n",
            "61eab41baf99b3594fb760ce 7 86 8.13953488372093%\n",
            "61c194936a9a5d196c5cc738 7 131 5.343511450381679%\n",
            "61c195f56a9a5d196c5cc73a 6 124 4.838709677419355%\n",
            "61d6cc7a5828a5043783a1f1 5 104 4.807692307692308%\n",
            "61d6cd965828a5043783a1f3 76 103 73.7864077669903%\n",
            "61d6ce215828a5043783a1f5 80 102 78.43137254901961%\n",
            "61d6cf035828a5043783a1f7 39 86 45.348837209302324%\n",
            "61dd93a2af99b3594fb760c4 6 100 6.0%\n",
            "620229f52a666e100124a505 0 68 0.0%\n",
            "620241ce2a666e100124a507 16 68 23.52941176470588%\n",
            "62125bdb2a666e100124a50d 1 56 1.7857142857142856%\n"
          ]
        }
      ],
      "source": [
        "for pid in pids:\n",
        "  temp = fitbit_data.loc[fitbit_data['pid'] == pid] \n",
        "  number_of_days = len(temp[\"timestamp\"].unique())\n",
        "\n",
        "  temp_obs = self_obs_data.loc[self_obs_data['pid'] == pid] \n",
        "  seb_obs_rec = len(temp_obs[\"pid\"])\n",
        "\n",
        "  print(pid,seb_obs_rec,number_of_days,str((seb_obs_rec/number_of_days) * 100) + \"%\")"
      ]
    },
    {
      "cell_type": "markdown",
      "metadata": {
        "id": "QzkOnEePyzMH"
      },
      "source": [
        "### Join them"
      ]
    },
    {
      "cell_type": "code",
      "execution_count": 25,
      "metadata": {
        "colab": {
          "base_uri": "https://localhost:8080/",
          "height": 206
        },
        "id": "TCuuIflOheAX",
        "outputId": "7e3b3f30-cac6-4a25-c59e-83c771fd3f22"
      },
      "outputs": [
        {
          "output_type": "execute_result",
          "data": {
            "text/plain": [
              "                        pid   timestamp  sleepAsleepMinutes  distance  steps  \\\n",
              "0  613b0c716a9a5d196c5cc6f0  2021-09-16                   0         0      0   \n",
              "1  613b0c716a9a5d196c5cc6f0  2021-09-17                   0      2200     35   \n",
              "2  613b0c716a9a5d196c5cc6f0  2021-09-18                   0         0      0   \n",
              "3  613b0c716a9a5d196c5cc6f0  2021-09-19                   0         0      0   \n",
              "4  613b0c716a9a5d196c5cc6f0  2021-09-20                   0         0      0   \n",
              "\n",
              "   target weight  home  junk  \n",
              "0     NaN    NaN   NaN   NaN  \n",
              "1     NaN    NaN   NaN   NaN  \n",
              "2     NaN    NaN   NaN   NaN  \n",
              "3     NaN    NaN   NaN   NaN  \n",
              "4     NaN    NaN   NaN   NaN  "
            ],
            "text/html": [
              "\n",
              "  <div id=\"df-78b3ac65-2a18-4d64-a084-17ac44861521\">\n",
              "    <div class=\"colab-df-container\">\n",
              "      <div>\n",
              "<style scoped>\n",
              "    .dataframe tbody tr th:only-of-type {\n",
              "        vertical-align: middle;\n",
              "    }\n",
              "\n",
              "    .dataframe tbody tr th {\n",
              "        vertical-align: top;\n",
              "    }\n",
              "\n",
              "    .dataframe thead th {\n",
              "        text-align: right;\n",
              "    }\n",
              "</style>\n",
              "<table border=\"1\" class=\"dataframe\">\n",
              "  <thead>\n",
              "    <tr style=\"text-align: right;\">\n",
              "      <th></th>\n",
              "      <th>pid</th>\n",
              "      <th>timestamp</th>\n",
              "      <th>sleepAsleepMinutes</th>\n",
              "      <th>distance</th>\n",
              "      <th>steps</th>\n",
              "      <th>target</th>\n",
              "      <th>weight</th>\n",
              "      <th>home</th>\n",
              "      <th>junk</th>\n",
              "    </tr>\n",
              "  </thead>\n",
              "  <tbody>\n",
              "    <tr>\n",
              "      <th>0</th>\n",
              "      <td>613b0c716a9a5d196c5cc6f0</td>\n",
              "      <td>2021-09-16</td>\n",
              "      <td>0</td>\n",
              "      <td>0</td>\n",
              "      <td>0</td>\n",
              "      <td>NaN</td>\n",
              "      <td>NaN</td>\n",
              "      <td>NaN</td>\n",
              "      <td>NaN</td>\n",
              "    </tr>\n",
              "    <tr>\n",
              "      <th>1</th>\n",
              "      <td>613b0c716a9a5d196c5cc6f0</td>\n",
              "      <td>2021-09-17</td>\n",
              "      <td>0</td>\n",
              "      <td>2200</td>\n",
              "      <td>35</td>\n",
              "      <td>NaN</td>\n",
              "      <td>NaN</td>\n",
              "      <td>NaN</td>\n",
              "      <td>NaN</td>\n",
              "    </tr>\n",
              "    <tr>\n",
              "      <th>2</th>\n",
              "      <td>613b0c716a9a5d196c5cc6f0</td>\n",
              "      <td>2021-09-18</td>\n",
              "      <td>0</td>\n",
              "      <td>0</td>\n",
              "      <td>0</td>\n",
              "      <td>NaN</td>\n",
              "      <td>NaN</td>\n",
              "      <td>NaN</td>\n",
              "      <td>NaN</td>\n",
              "    </tr>\n",
              "    <tr>\n",
              "      <th>3</th>\n",
              "      <td>613b0c716a9a5d196c5cc6f0</td>\n",
              "      <td>2021-09-19</td>\n",
              "      <td>0</td>\n",
              "      <td>0</td>\n",
              "      <td>0</td>\n",
              "      <td>NaN</td>\n",
              "      <td>NaN</td>\n",
              "      <td>NaN</td>\n",
              "      <td>NaN</td>\n",
              "    </tr>\n",
              "    <tr>\n",
              "      <th>4</th>\n",
              "      <td>613b0c716a9a5d196c5cc6f0</td>\n",
              "      <td>2021-09-20</td>\n",
              "      <td>0</td>\n",
              "      <td>0</td>\n",
              "      <td>0</td>\n",
              "      <td>NaN</td>\n",
              "      <td>NaN</td>\n",
              "      <td>NaN</td>\n",
              "      <td>NaN</td>\n",
              "    </tr>\n",
              "  </tbody>\n",
              "</table>\n",
              "</div>\n",
              "      <button class=\"colab-df-convert\" onclick=\"convertToInteractive('df-78b3ac65-2a18-4d64-a084-17ac44861521')\"\n",
              "              title=\"Convert this dataframe to an interactive table.\"\n",
              "              style=\"display:none;\">\n",
              "        \n",
              "  <svg xmlns=\"http://www.w3.org/2000/svg\" height=\"24px\"viewBox=\"0 0 24 24\"\n",
              "       width=\"24px\">\n",
              "    <path d=\"M0 0h24v24H0V0z\" fill=\"none\"/>\n",
              "    <path d=\"M18.56 5.44l.94 2.06.94-2.06 2.06-.94-2.06-.94-.94-2.06-.94 2.06-2.06.94zm-11 1L8.5 8.5l.94-2.06 2.06-.94-2.06-.94L8.5 2.5l-.94 2.06-2.06.94zm10 10l.94 2.06.94-2.06 2.06-.94-2.06-.94-.94-2.06-.94 2.06-2.06.94z\"/><path d=\"M17.41 7.96l-1.37-1.37c-.4-.4-.92-.59-1.43-.59-.52 0-1.04.2-1.43.59L10.3 9.45l-7.72 7.72c-.78.78-.78 2.05 0 2.83L4 21.41c.39.39.9.59 1.41.59.51 0 1.02-.2 1.41-.59l7.78-7.78 2.81-2.81c.8-.78.8-2.07 0-2.86zM5.41 20L4 18.59l7.72-7.72 1.47 1.35L5.41 20z\"/>\n",
              "  </svg>\n",
              "      </button>\n",
              "      \n",
              "  <style>\n",
              "    .colab-df-container {\n",
              "      display:flex;\n",
              "      flex-wrap:wrap;\n",
              "      gap: 12px;\n",
              "    }\n",
              "\n",
              "    .colab-df-convert {\n",
              "      background-color: #E8F0FE;\n",
              "      border: none;\n",
              "      border-radius: 50%;\n",
              "      cursor: pointer;\n",
              "      display: none;\n",
              "      fill: #1967D2;\n",
              "      height: 32px;\n",
              "      padding: 0 0 0 0;\n",
              "      width: 32px;\n",
              "    }\n",
              "\n",
              "    .colab-df-convert:hover {\n",
              "      background-color: #E2EBFA;\n",
              "      box-shadow: 0px 1px 2px rgba(60, 64, 67, 0.3), 0px 1px 3px 1px rgba(60, 64, 67, 0.15);\n",
              "      fill: #174EA6;\n",
              "    }\n",
              "\n",
              "    [theme=dark] .colab-df-convert {\n",
              "      background-color: #3B4455;\n",
              "      fill: #D2E3FC;\n",
              "    }\n",
              "\n",
              "    [theme=dark] .colab-df-convert:hover {\n",
              "      background-color: #434B5C;\n",
              "      box-shadow: 0px 1px 3px 1px rgba(0, 0, 0, 0.15);\n",
              "      filter: drop-shadow(0px 1px 2px rgba(0, 0, 0, 0.3));\n",
              "      fill: #FFFFFF;\n",
              "    }\n",
              "  </style>\n",
              "\n",
              "      <script>\n",
              "        const buttonEl =\n",
              "          document.querySelector('#df-78b3ac65-2a18-4d64-a084-17ac44861521 button.colab-df-convert');\n",
              "        buttonEl.style.display =\n",
              "          google.colab.kernel.accessAllowed ? 'block' : 'none';\n",
              "\n",
              "        async function convertToInteractive(key) {\n",
              "          const element = document.querySelector('#df-78b3ac65-2a18-4d64-a084-17ac44861521');\n",
              "          const dataTable =\n",
              "            await google.colab.kernel.invokeFunction('convertToInteractive',\n",
              "                                                     [key], {});\n",
              "          if (!dataTable) return;\n",
              "\n",
              "          const docLinkHtml = 'Like what you see? Visit the ' +\n",
              "            '<a target=\"_blank\" href=https://colab.research.google.com/notebooks/data_table.ipynb>data table notebook</a>'\n",
              "            + ' to learn more about interactive tables.';\n",
              "          element.innerHTML = '';\n",
              "          dataTable['output_type'] = 'display_data';\n",
              "          await google.colab.output.renderOutput(dataTable, element);\n",
              "          const docLink = document.createElement('div');\n",
              "          docLink.innerHTML = docLinkHtml;\n",
              "          element.appendChild(docLink);\n",
              "        }\n",
              "      </script>\n",
              "    </div>\n",
              "  </div>\n",
              "  "
            ]
          },
          "metadata": {},
          "execution_count": 25
        }
      ],
      "source": [
        "# Join data based on pid and timestamp\n",
        "temp_data = pd.merge(fitbit_data, self_obs_data,  how='left', left_on=['pid',\"timestamp\"], right_on = ['pid',\"timestamp\"])\n",
        "del fitbit_data\n",
        "del self_obs_data\n",
        "temp_data.head()"
      ]
    },
    {
      "cell_type": "code",
      "execution_count": 26,
      "metadata": {
        "id": "vuc5E7n2hilp"
      },
      "outputs": [],
      "source": [
        "# Remove lines that have steps = NAN\n",
        "temp_data = temp_data[temp_data['steps'].notna()]\n",
        "# Remove columns that are all empty\n",
        "temp_data = temp_data.dropna(axis=1, how='all')"
      ]
    },
    {
      "cell_type": "code",
      "execution_count": 27,
      "metadata": {
        "id": "j1tsFt62hk8k"
      },
      "outputs": [],
      "source": [
        "# Join data based on pid\n",
        "data = pd.merge(temp_data, questionnaire_data,  how='left', left_on=['pid'], right_on = ['pid'])\n",
        "del temp_data"
      ]
    },
    {
      "cell_type": "markdown",
      "metadata": {
        "id": "0o4LsaHwKzqn"
      },
      "source": [
        "### Delete Columns"
      ]
    },
    {
      "cell_type": "code",
      "execution_count": 28,
      "metadata": {
        "id": "yjBuQyf1U_in"
      },
      "outputs": [],
      "source": [
        "#delete useless columns\n",
        "\n",
        "columns_to_drop = ['Κ.Τ ΛΟΓΩ - v', 'Αίτιο - v', 'ΗΜΕΡΕΣ ΠΑΡΑΜΟΝΗΣ - v', 'Άλλα νοσήματα - v', 'Είδος Αλλεργίας - v', 'Aλλα αίτια νοσηλείας - v',\\\n",
        "                          'Είδος ΦΑΡΜΑΚΑ / ΒΙΤΑΜΙΝΕΣ / ΣΥΜΠΛΗΡΩΜΑΤΑ - v', 'Εάν έφαγε ψάρι ή θαλασσινό το παιδί σας τον προηγούμενο μήνα προσδιορίστε το είδος: - v',\\\n",
        "                          'Εφόσον υπήρξαν δυσκολίες προσδιορίστε το είδος: - v', 'Εάν έφαγε ψάρι ή θαλασσινό το παιδί σας την προηγούμενη βδομάδα προσδιορίστε το είδος: - v',\\\n",
        "                          'Παρακαλούμε διευκρινίστε την ασθένεια - v', 'ΗΜΕΡΟΜΗΝΙΑ ΓΕΝΝΗΣΗΣ - v', 'ΗΜΕΡΟΜΗΝΙΑ ΚΛΙΝΙΚΗΣ ΕΞΕΤΑΣΗΣ - v', 'ΑΔΕΛΦΙΑ: ΗΛΙΚΙΕΣ ΚΑΙ ΦΥΛΟ - v',\\\n",
        "                          'ΕΚΠΑΙΔΕΥΣΗ ΜΗΤΡΟΣ - v', 'ΕΚΠΑΙΔΕΥΣΗ ΠΑΤΡΟΣ - v', 'ΕΠΑΓΓΕΛΜΑ ΜΗΤΡΟΣ - v', 'ΕΠΑΓΓΕΛΜΑ ΠΑΤΡΟΣ - v', 'ΛΟΙΠΑ ΠΡΟΒΛΗΜΑΤΑ - v', 'ΑΔΕΛΦΙΑ: ΗΛΙΚΙΕΣ ΚΑΙ ΦΥΛΟ - v','Εάν το παιδί σας καταναλώνει επεξεργασμένο κρέας προσδιορίστε το είδος: - v', 'Μικρό ενδιαφέρον ή λίγη απόλαυση στις δραστηριότητές μου - v','Νιώθετε καταβεβλημένος(η), κατατεθλιμμένος(η) ή απελπισμένος(η) - v', 'Εάν επιλέξατε κάποια προβλήματα, πόση δυσκολία προκάλεσαν τα προβλήματα αυτά στη δουλειά σας, στις οικιακές εργασίες σας ή στην επικοινωνία σας με άλλα άτομα; - v',\\\n",
        "                          '. Έχετε πρόβλημα να αποκοιμηθείτε ή να συνεχίσετε τον ύπνο σας ή κοιμάστε υπερβολικά - v', 'Νιώθετε κουρασμένος(η) ή έχετε λίγη ενέργεια - v', 'Έχετε λίγη όρεξη ή τρώτε υπερβολικά - v','Νιώθετε άσχημα για τον εαυτό σας ή ότι έχετε αποτύχει ή ότι έχετε απογοητεύσει τον εαυτό σας ή την οικογένειά σας - v',\\\n",
        "                          'Έχετε πρόβλημα συγκέντρωσης σε κάποιες ενέργειες, όπως όταν διαβάζετε την εφημερίδα ή όταν παρακολουθείτε τηλεόραση - v',\\\n",
        "            'Κινείστε ή μιλάτε τόσο αργά που άλλοι άνθρωποι θα το παρατηρούσαν Ή το αντίθετο – είστε τόσο ανήσυχος(η) ή νευρικός(ή), που κινείστε πολύ περισσότερο από το συνηθισμένο - v',\\\n",
        "            'Σκεπτόσαστε ότι θα ήταν καλύτερα αν είχατε πεθάνει ή σκεπτόσαστε να προκαλέσετε κακό στον εαυτό σας με κάποιο τρόπο - v']\n",
        "\n",
        "data = data.drop(columns=columns_to_drop)\n"
      ]
    },
    {
      "cell_type": "code",
      "execution_count": 29,
      "metadata": {
        "id": "BCSNeslJ2i4X"
      },
      "outputs": [],
      "source": [
        "#delete medial clinical columns\n",
        "data = data.drop(columns=['ΥΨΟΣ - v', 'Βάρος - v', 'ΠΕΡΙΜΕΤΡΟΣ ΜΕΣΗΣ - v', 'ΑΡΤΗΡΙΑΚΗ ΠΙΕΣΗ ΣΥΣΤΟΛΙΚΗ - v', 'ΑΡΤΗΡΙΑΚΗ ΠΙΕΣΗ ΔΙΑΣΤΟΛΙΚΗ - v',\\\n",
        "                  'Tanner Pubis - v', 'Tanner μασχάλη - v', 'Θυρεοειδής - v', 'Όγκος όρχεων Δ - v', 'Μελανίζουσα ακάνθωση - v', 'Mήκος πέους - v',\\\n",
        "                  'Όγκος όρχεων Αρ - v', 'Ειδικά Χαρακτηριστικά - v'])                "
      ]
    },
    {
      "cell_type": "code",
      "execution_count": 30,
      "metadata": {
        "id": "4FqowHRNTX0D"
      },
      "outputs": [],
      "source": [
        "#delete mother columns(only need score) pre\n",
        "data =  data.drop(columns=['Μαλώνω και φωνάζω στο παιδί μου όταν φέρεται άσχημα. - v_y', 'Δείχνω στο παιδί μου κατανόηση όταν είναι αναστατωμένο. - v_y',\\\n",
        "                           'Υποκύπτω στις επιθυμίες του παιδιού μου όταν επιμένει έντονα σε αυτές. - v_y', 'Επαινώ το παιδί μου όταν είναι καλό και υπάκουο. - v_y',\\\n",
        "                           'Απειλώ περισσότερο το παιδί μου με τιμωρία παρά το τιμωρώ. - v_y', 'Ξεσπάω το θυμό μου στο παιδί μου. - v_y', 'Δέρνω το παιδί μου όταν δεν υπακούει. - v_y',\\\n",
        "                           'Λαμβάνω υπόψη μου τις επιθυμίες του παιδιού μου όταν κάνω οικογενειακά σχέδια. - v_y', 'Επιτρέπω στο παιδί μου να πει τη γνώμη του για τους κανόνες που υπάρχουν στην οικογένεια. - v_y',\\\n",
        "                           'Λέω στο παιδί μου με ποιο τρόπο θα το τιμωρήσω, αλλά δεν εφαρμόζω την τιμωρία. - v_y', 'Κατανοώ τα συναισθήματα του παιδιού μου. - v_y', 'Χρησιμοποιώ την τιμωρία ως μέσο πειθαρχίας. - v_y',\\\n",
        "                           'Λαμβάνω υπόψη μου τι θέλει το παιδί μου, πριν του ζητήσω να κάνει κάτι. - v_y', 'Λέω στο παιδί μου πως νοιώθω, όταν συμπεριφέρεται καλά ή όταν συμπεριφέρεται άσχημα. - v_y',\\\n",
        "                           'Παροτρύνω το παιδί μου να συζητά μαζί μου τα προβλήματά του. - v_y', 'Πιστεύω ότι είναι δύσκολο να μάθω στο παιδί μου να πειθαρχεί. - v_y', 'Ζητώ από το παιδί μου να εκφράζει τη γνώμη του ακόμα και όταν διαφωνεί μαζί μου. - v_y',\\\n",
        "                           'Τιμωρώ το παιδί μου απαγορεύοντάς του να κάνει κάτι που του αρέσει χωρίς να του δίνω εξηγήσεις. - v_y', 'Λέω στο παιδί μου πόσο σημαντικό είναι να ακολουθεί τους κανόνες της οικογένειας. - v_y',\\\n",
        "                           'Κάνω συστάσεις στο παιδί μου για να βελτιωθεί η συμπεριφορά του - v_y', 'Εξηγώ στο παιδί μου γιατί πρέπει να τηρούνται οι κανόνες της οικογένειας - v_y', 'Κακομαθαίνω το παιδί μου - v_y',\\\n",
        "                           'Δείχνω τρυφερότητα στο παιδί μου - v_y', 'Χρησιμοποιώ απειλές για να τιμωρήσω το παιδί μου χωρίς να του δίνω εξηγήσεις - v_y', 'Βοηθώ το παιδί μου να καταλάβει τις συνέπειες μιας κακής πράξης του μέσα από διάλογο και συζήτηση - v_y',\\\n",
        "                           'Τιμωρώ το παιδί μου στέλνοντάς το στο δωμάτιό του χωρίς να του δίνω εξηγήσεις - v_y', 'Συζητώ με το παιδί μου για τις συνέπειες των πράξεών του - v_y', 'Ασκώ κριτική στο παιδί μου όταν η συμπεριφορά του δεν ανταποκρίνεται στις προσδοκίες μου - v_y',\\\n",
        "                           'Χαστουκίζω το παιδί μου όταν δεν συμπεριφέρεται σωστά - v_y'])"
      ]
    },
    {
      "cell_type": "code",
      "execution_count": 31,
      "metadata": {
        "id": "hceqVHDvTX0L"
      },
      "outputs": [],
      "source": [
        "#delete strengthdiff columns(only need score) pre\n",
        "data =  data.drop(columns=['Έχει τουλάχιστον ένα φίλο - v_y', 'Συνεχώς στριφογυρίζει νευρικά ή δεν στέκεται ήσυχος/η, έχει νευρικότητα - v_y',\n",
        "                           'Συχνά είναι δυστυχισμένος/η, αποκαρδιωμένος/η ή κλαίει - v_y', 'Συχνά μαλώνει με τα άλλα παιδιά ή τα κοροϊδεύει, τα φοβερίζει, τα κτυπά - v_y',\\\n",
        "                           'Η προσοχή του/της διασπάται εύκολα, δυσκολεύεται να συγκεντρωθεί - v_y', 'Γενικά είναι συμπαθής στα άλλα παιδιά - v_y',\\\n",
        "                           'Είναι καλός/ή με τα μικρότερα παιδιά - v_y', 'Σε καινούριες καταστάσεις είναι νευρικός/η ή δείχνει συμπεριφορά προσκόλλησης, εύκολα χάνει την αυτοπεποίθησή του/της - v_y',\\\n",
        "                           'Τα άλλα παιδιά τον/την έχουν στο μάτι ή τον/την κοροϊδεύουν, τον/την φοβερίζουν, τον/την χτυπούν - v_y', 'Συχνά λέει ψέμματα ή εξαπατά - v_y',\\\n",
        "                           'Λαμβάνει υπόψη τα συναισθήματα των άλλων - v_y', 'Ανήσυχος/η και υπερδραστήριος/α, δεν μπορεί να παραμείνει ήρεμος/η, ακίνητος/η για πολύ ώρα - v_y',\\\n",
        "                           'Παραπονείται συχνά για πονοκεφάλους, πόνους στο στομάχι ή αδιαθεσία - v_y', 'Μοιράζεται εύκολα με τα άλλα παιδιά (κεράσματα, παιχνίδια, μολύβια κτλ) - v_y',\\\n",
        "                           'Συχνά έχει ξεσπάσματα νεύρων ή είναι ευέξαπτος - v_y', 'Μάλλον μοναχικός/η, τείνει να παίζει μόνος/η - v_y',\\\n",
        "                           'Γενικά είναι υπάκουος/η, ή συνήθως κάνει ότι του/της ζητούν οι ενήλικες - v_y', 'Τον/την απασχολεί το παραμικρό, συχνά φαίνεται ανήσυχος/η - v_y',\\\n",
        "                           'Είναι πρόθυμος/η να βοηθήσει κάποιον που είναι πληγωμένος, αναστατωμένος,στεναχωρημένος, άρρωστος - v_y', 'Προθυμοποιείται συχνά να βοηθήσει τους άλλους (γονείς, καθηγητές, άλλα παιδιά) - v_y',\\\n",
        "                           'Κλέβει από το σπίτι, το σχολείο ή αλλού - v_y', 'Πριν κάνει κάτι το μελετάει προσεκτικά - v_y', 'Έχει πολλούς φόβους, τρομάζει εύκολα - v_y',\\\n",
        "                           'Τα πηγαίνει καλύτερα με τους ενήλικες παρά με τα παιδιά - v_y', 'Φέρνει σε πέρας μία εργασία, έχει καλή προσοχή - v_y'])"
      ]
    },
    {
      "cell_type": "code",
      "execution_count": 32,
      "metadata": {
        "id": "6x_7yQECTX0L"
      },
      "outputs": [],
      "source": [
        "#delete foodpractices columns(only need score) pre\n",
        "data = data.drop(columns=['Περιορίζω την πρόσληψη τροφίμων από το παιδί μου, που μπορούν να το παχύνουν - v_x', 'Εάν το παιδί μου φάει περισσότερο από το συνηθισμένο σε ένα γεύμα, προσπαθώ να περιορίσω την πρόσληψη τροφής στο επόμενο γεύμα. - v_x',\\\n",
        "                          'Επιτρέπετε στο παιδί σας να τρώει σνακ όποτε  αυτό επιθυμεί; - v_x', 'Δεν δίνω γλυκά/επιδόρπια στο παιδί μου ως αντίδραση/ αποτέλεσμα της κακής του/της συμπεριφοράς. - v_x', 'Εάν στο παιδί σας δεν αρέσει το φαγητό που του σερβίρετε, ετοιμάζετε κάτι άλλο; - v_x',\\\n",
        "                          'Υπάρχουν συγκεκριμένα φαγητά που το παιδί μου δεν πρέπει να τρώει για μα μην παχύνει. - v_x', 'Ενθαρρύνετε το παιδί σας να τρώει υγιεινά φαγητά πριν την κατανάλωση ανθυγιεινών φαγητών; - v_x', 'Εάν το παιδί μου τρώει πολύ λίγο φαγητό, προσπαθώ να το κάνω να τρώει περισσότερο - v_x',\\\n",
        "                          'Επιτρέπετε στο παιδί σας να σηκωθεί από το τραπέζι όταν αυτό έχει χορτάσει, ακόμα και εάν τα άλλα μέλη της οικογένειας, δεν έχουν τελειώσει το γεύμα τους; - v_x', 'Ενθαρρύνω το παιδί μου να τρώει ποικιλία τροφίμων. - v_x', 'Τα περισσότερα φαγητά που υπάρχουν στο σπίτι είναι υγιεινά. - v_x',\\\n",
        "                          'Δεν επιτρέπω στο παιδί μου να τρώει ανάμεσα στα γεύματα, επειδή δεν θέλω να παχύνει. - v_x', 'Πρέπει να είμαι σίγουρος/η πως το παιδί μου δεν τρώει πάρα πολλά από τα αγαπημένα του τρόφιμα. - v_x', 'Επιτρέπω στο παιδί μου να βοηθάει στην προετοιμασία των οικογενειακών γευμάτων. - v_x',\\\n",
        "                          'Κάνω συχνά δίαιτα στο παιδί μου για να ελέγχω το βάρος του. - v_x', 'Προσφέρω στο παιδί μου το αγαπημένο του φαγητό ως ανταμοιβή για την καλή του συμπεριφορά. - v_x', 'Καταναλώνω υγιεινά τρόφιμα μπροστά στο παιδί, για να λειτουργήσω ως πρότυπο μίμησης γι’ αυτό. - v_x',\\\n",
        "                          'Υπάρχει ποικιλία υγιεινών φαγητών διαθέσιμα στο παιδί μου σε  κάθε γεύμα που σερβίρουμε στο σπίτι μας. - v_x', 'Εάν δεν καθοδηγούσα ή έλεγχα τη διατροφή του παιδιού μου, θα έτρωγε πάρα πολύ μεγάλη ποσότητα από τα αγαπημένα του/της τρόφιμα/φαγητά. - v_x',\\\n",
        "                          'Πόσο παρακολουθείτε τα γλυκά (καραμέλες, παγωτό, κέικ, πίτες, αρτοσκευάσματα) που καταναλώνει το παιδί σας; - v_x', 'Πόσο παρακολουθείτε τα σνακ (πατατάκια, Doritos, τυρογαριδάκια) που καταναλώνει το παιδί σας; - v_x', 'Πόσο παρακολουθείτε τα υψηλά σε λιπαρά τρόφιμα που καταναλώνει το παιδί σας; - v_x',\\\n",
        "                          'Πόσο παρακολουθείτε τα ποτά με ζάχαρη (πορτοκαλάδα, κόκα κόλα, λεμονάδα, γκαζόζα, χυμούς εμπορίου) που καταναλώνει το παιδί σας; - v_x', 'Επιτρέπετε στο παιδί σας να τρώει ό,τι θέλει; - v_x',\\\n",
        "                          'Επιτρέπετε στο παιδί σας να επιλέξει όποιο φαγητό θέλει, από αυτά που σερβίρετε στο δείπνο; - v_x', 'Όταν το παιδί σας γκρινιάζει, το πρώτο πράγμα που κάνετε είναι να του/της δίνετε κάτι να φάει ή να πιεί; - v_x',\\\n",
        "                          'Δίνετε στο παιδί σας κάτι να φάει ή να πιεί όταν βαριέται παρόλο που πιστεύετε πως δεν πεινάει; - v_x', 'Δίνετε στο παιδί σας κάτι να φάει ή να πιεί όταν  είναι αναστατωμένο, παρόλο που πιστεύετε πως δεν πεινάει; - v_x',\\\n",
        "                          'Προσπαθώ να καταναλώνω υγιεινά τρόφιμα μπροστά στο παιδί μου, ακόμα και εάν δεν είναι τα αγαπημένα μου. - v_x', 'Προσφέρω γλυκά (καραμέλες, παγωτό, κέικ, πίτες, αρτοσκευάσματα) στο παιδί μου σαν ανταμοιβή για την καλή του/της συμπεριφορά. - v_x',\\\n",
        "                          'Δείχνω στο παιδί μου πόσο πολύ απολαμβάνω να καταναλώνω υγιεινά τρόφιμα. - v_x', 'Προσπαθώ να δείχνω ενθουσιασμό όταν καταναλώνω υγιεινά τρόφιμα. - v_x', 'Συζητάω με το παιδί μου γιατί είναι σημαντικό να τρώει υγιεινά φαγητά. - v_x',\\\n",
        "                          'Ενθαρρύνω το παιδί μου να δοκιμάζει καινούργια φαγητά. - v_x', '. Όταν το παιδί μου λέει ότι έχει τελειώσει το φαγητό του, προσπαθώ να το κάνω να φάει ακόμα μία δύο μπουκιές. - v_x',\\\n",
        "                          'Ενθαρρύνω το παιδί μου να τρώει λιγότερο, για την αποφυγή αύξησης του σωματικού του/της βάρους. - v_x', 'Λέω στο παιδί μου πως το υγιεινό φαγητό έχει ωραία γεύση (είναι νόστιμο). - v_x',\\\n",
        "                          'Δίνω στο παιδί μου μικρές μερίδες στα γεύματα ώστε να ελέγχω το βάρος του. - v_x', 'Εάν δεν καθοδηγούσα/ έλεγχα τη διατροφή του παιδιού μου, θα έτρωγε πάρα πολλά ανθυγιεινά, πρόχειρα φαγητά (π.χ. fastfood, σουβλάκι, πίτσα). - v_x',\\\n",
        "                          'Συζητάω με το παιδί μου για τη διατροφική  αξία  των τροφίμων. - v_x', 'Εάν το παιδί μου πει «δεν πεινάω», προσπαθώ να τον/την κάνω να φάει ούτως ή άλλως. - v_x', 'Ενθαρρύνω το παιδί μου να συμμετέχει στην αγορά των  τροφίμων. - v_x'])"
      ]
    },
    {
      "cell_type": "code",
      "execution_count": 33,
      "metadata": {
        "id": "MPJcrJQnD4Fi"
      },
      "outputs": [],
      "source": [
        "#delete mother columns(only need score) post\n",
        "data =  data.drop(columns=['Μαλώνω και φωνάζω στο παιδί μου όταν φέρεται άσχημα. - v_x', 'Δείχνω στο παιδί μου κατανόηση όταν είναι αναστατωμένο. - v_x',\\\n",
        "                           'Υποκύπτω στις επιθυμίες του παιδιού μου όταν επιμένει έντονα σε αυτές. - v_x', 'Επαινώ το παιδί μου όταν είναι καλό και υπάκουο. - v_x',\\\n",
        "                           'Απειλώ περισσότερο το παιδί μου με τιμωρία παρά το τιμωρώ. - v_x', 'Ξεσπάω το θυμό μου στο παιδί μου. - v_x', 'Δέρνω το παιδί μου όταν δεν υπακούει. - v_x',\\\n",
        "                           'Λαμβάνω υπόψη μου τις επιθυμίες του παιδιού μου όταν κάνω οικογενειακά σχέδια. - v_x', 'Επιτρέπω στο παιδί μου να πει τη γνώμη του για τους κανόνες που υπάρχουν στην οικογένεια. - v_x',\\\n",
        "                           'Λέω στο παιδί μου με ποιο τρόπο θα το τιμωρήσω, αλλά δεν εφαρμόζω την τιμωρία. - v_x', 'Κατανοώ τα συναισθήματα του παιδιού μου. - v_x', 'Χρησιμοποιώ την τιμωρία ως μέσο πειθαρχίας. - v_x',\\\n",
        "                           'Λαμβάνω υπόψη μου τι θέλει το παιδί μου, πριν του ζητήσω να κάνει κάτι. - v_x', 'Λέω στο παιδί μου πως νοιώθω, όταν συμπεριφέρεται καλά ή όταν συμπεριφέρεται άσχημα. - v_x',\\\n",
        "                           'Παροτρύνω το παιδί μου να συζητά μαζί μου τα προβλήματά του. - v_x', 'Πιστεύω ότι είναι δύσκολο να μάθω στο παιδί μου να πειθαρχεί. - v_x', 'Ζητώ από το παιδί μου να εκφράζει τη γνώμη του ακόμα και όταν διαφωνεί μαζί μου. - v_x',\\\n",
        "                           'Τιμωρώ το παιδί μου απαγορεύοντάς του να κάνει κάτι που του αρέσει χωρίς να του δίνω εξηγήσεις. - v_x', 'Λέω στο παιδί μου πόσο σημαντικό είναι να ακολουθεί τους κανόνες της οικογένειας. - v_x',\\\n",
        "                           'Κάνω συστάσεις στο παιδί μου για να βελτιωθεί η συμπεριφορά του - v_x', 'Εξηγώ στο παιδί μου γιατί πρέπει να τηρούνται οι κανόνες της οικογένειας - v_x', 'Κακομαθαίνω το παιδί μου - v_x',\\\n",
        "                           'Δείχνω τρυφερότητα στο παιδί μου - v_x', 'Χρησιμοποιώ απειλές για να τιμωρήσω το παιδί μου χωρίς να του δίνω εξηγήσεις - v_x', 'Βοηθώ το παιδί μου να καταλάβει τις συνέπειες μιας κακής πράξης του μέσα από διάλογο και συζήτηση - v_x',\\\n",
        "                           'Τιμωρώ το παιδί μου στέλνοντάς το στο δωμάτιό του χωρίς να του δίνω εξηγήσεις - v_x', 'Συζητώ με το παιδί μου για τις συνέπειες των πράξεών του - v_x', 'Ασκώ κριτική στο παιδί μου όταν η συμπεριφορά του δεν ανταποκρίνεται στις προσδοκίες μου - v_x',\\\n",
        "                           'Χαστουκίζω το παιδί μου όταν δεν συμπεριφέρεται σωστά - v_x'])"
      ]
    },
    {
      "cell_type": "code",
      "execution_count": 34,
      "metadata": {
        "id": "CoxPwR9QDPSi"
      },
      "outputs": [],
      "source": [
        "#delete strengthdiff columns(only need score) post\n",
        "data =  data.drop(columns=['Έχει τουλάχιστον ένα φίλο - v_x', 'Συνεχώς στριφογυρίζει νευρικά ή δεν στέκεται ήσυχος/η, έχει νευρικότητα - v_x',\n",
        "                           'Συχνά είναι δυστυχισμένος/η, αποκαρδιωμένος/η ή κλαίει - v_x', 'Συχνά μαλώνει με τα άλλα παιδιά ή τα κοροϊδεύει, τα φοβερίζει, τα κτυπά - v_x',\\\n",
        "                           'Η προσοχή του/της διασπάται εύκολα, δυσκολεύεται να συγκεντρωθεί - v_x', 'Γενικά είναι συμπαθής στα άλλα παιδιά - v_x',\\\n",
        "                           'Είναι καλός/ή με τα μικρότερα παιδιά - v_x', 'Σε καινούριες καταστάσεις είναι νευρικός/η ή δείχνει συμπεριφορά προσκόλλησης, εύκολα χάνει την αυτοπεποίθησή του/της - v_x',\\\n",
        "                           'Τα άλλα παιδιά τον/την έχουν στο μάτι ή τον/την κοροϊδεύουν, τον/την φοβερίζουν, τον/την χτυπούν - v_x', 'Συχνά λέει ψέμματα ή εξαπατά - v_x',\\\n",
        "                           'Λαμβάνει υπόψη τα συναισθήματα των άλλων - v_x', 'Ανήσυχος/η και υπερδραστήριος/α, δεν μπορεί να παραμείνει ήρεμος/η, ακίνητος/η για πολύ ώρα - v_x',\\\n",
        "                           'Παραπονείται συχνά για πονοκεφάλους, πόνους στο στομάχι ή αδιαθεσία - v_x', 'Μοιράζεται εύκολα με τα άλλα παιδιά (κεράσματα, παιχνίδια, μολύβια κτλ) - v_x',\\\n",
        "                           'Συχνά έχει ξεσπάσματα νεύρων ή είναι ευέξαπτος - v_x', 'Μάλλον μοναχικός/η, τείνει να παίζει μόνος/η - v_x',\\\n",
        "                           'Γενικά είναι υπάκουος/η, ή συνήθως κάνει ότι του/της ζητούν οι ενήλικες - v_x', 'Τον/την απασχολεί το παραμικρό, συχνά φαίνεται ανήσυχος/η - v_x',\\\n",
        "                           'Είναι πρόθυμος/η να βοηθήσει κάποιον που είναι πληγωμένος, αναστατωμένος,στεναχωρημένος, άρρωστος - v_x', 'Προθυμοποιείται συχνά να βοηθήσει τους άλλους (γονείς, καθηγητές, άλλα παιδιά) - v_x',\\\n",
        "                           'Κλέβει από το σπίτι, το σχολείο ή αλλού - v_x', 'Πριν κάνει κάτι το μελετάει προσεκτικά - v_x', 'Έχει πολλούς φόβους, τρομάζει εύκολα - v_x',\\\n",
        "                           'Τα πηγαίνει καλύτερα με τους ενήλικες παρά με τα παιδιά - v_x', 'Φέρνει σε πέρας μία εργασία, έχει καλή προσοχή - v_x'])"
      ]
    },
    {
      "cell_type": "code",
      "execution_count": 35,
      "metadata": {
        "id": "KuEipZvT44fk"
      },
      "outputs": [],
      "source": [
        "#delete foodpractices columns(only need score) post\n",
        "data = data.drop(columns=['Περιορίζω την πρόσληψη τροφίμων από το παιδί μου, που μπορούν να το παχύνουν - v_y', 'Εάν το παιδί μου φάει περισσότερο από το συνηθισμένο σε ένα γεύμα, προσπαθώ να περιορίσω την πρόσληψη τροφής στο επόμενο γεύμα. - v_y',\\\n",
        "                          'Επιτρέπετε στο παιδί σας να τρώει σνακ όποτε  αυτό επιθυμεί; - v_y', 'Δεν δίνω γλυκά/επιδόρπια στο παιδί μου ως αντίδραση/ αποτέλεσμα της κακής του/της συμπεριφοράς. - v_y', 'Εάν στο παιδί σας δεν αρέσει το φαγητό που του σερβίρετε, ετοιμάζετε κάτι άλλο; - v_y',\\\n",
        "                          'Υπάρχουν συγκεκριμένα φαγητά που το παιδί μου δεν πρέπει να τρώει για μα μην παχύνει. - v_y', 'Ενθαρρύνετε το παιδί σας να τρώει υγιεινά φαγητά πριν την κατανάλωση ανθυγιεινών φαγητών; - v_y', 'Εάν το παιδί μου τρώει πολύ λίγο φαγητό, προσπαθώ να το κάνω να τρώει περισσότερο - v_y',\\\n",
        "                          'Επιτρέπετε στο παιδί σας να σηκωθεί από το τραπέζι όταν αυτό έχει χορτάσει, ακόμα και εάν τα άλλα μέλη της οικογένειας, δεν έχουν τελειώσει το γεύμα τους; - v_y', 'Ενθαρρύνω το παιδί μου να τρώει ποικιλία τροφίμων. - v_y', 'Τα περισσότερα φαγητά που υπάρχουν στο σπίτι είναι υγιεινά. - v_y',\\\n",
        "                          'Δεν επιτρέπω στο παιδί μου να τρώει ανάμεσα στα γεύματα, επειδή δεν θέλω να παχύνει. - v_y', 'Πρέπει να είμαι σίγουρος/η πως το παιδί μου δεν τρώει πάρα πολλά από τα αγαπημένα του τρόφιμα. - v_y', 'Επιτρέπω στο παιδί μου να βοηθάει στην προετοιμασία των οικογενειακών γευμάτων. - v_y',\\\n",
        "                          'Κάνω συχνά δίαιτα στο παιδί μου για να ελέγχω το βάρος του. - v_y', 'Προσφέρω στο παιδί μου το αγαπημένο του φαγητό ως ανταμοιβή για την καλή του συμπεριφορά. - v_y', 'Καταναλώνω υγιεινά τρόφιμα μπροστά στο παιδί, για να λειτουργήσω ως πρότυπο μίμησης γι’ αυτό. - v_y',\\\n",
        "                          'Υπάρχει ποικιλία υγιεινών φαγητών διαθέσιμα στο παιδί μου σε  κάθε γεύμα που σερβίρουμε στο σπίτι μας. - v_y', 'Εάν δεν καθοδηγούσα ή έλεγχα τη διατροφή του παιδιού μου, θα έτρωγε πάρα πολύ μεγάλη ποσότητα από τα αγαπημένα του/της τρόφιμα/φαγητά. - v_y',\\\n",
        "                          'Πόσο παρακολουθείτε τα γλυκά (καραμέλες, παγωτό, κέικ, πίτες, αρτοσκευάσματα) που καταναλώνει το παιδί σας; - v_y', 'Πόσο παρακολουθείτε τα σνακ (πατατάκια, Doritos, τυρογαριδάκια) που καταναλώνει το παιδί σας; - v_y', 'Πόσο παρακολουθείτε τα υψηλά σε λιπαρά τρόφιμα που καταναλώνει το παιδί σας; - v_y',\\\n",
        "                          'Πόσο παρακολουθείτε τα ποτά με ζάχαρη (πορτοκαλάδα, κόκα κόλα, λεμονάδα, γκαζόζα, χυμούς εμπορίου) που καταναλώνει το παιδί σας; - v_y', 'Επιτρέπετε στο παιδί σας να τρώει ό,τι θέλει; - v_y',\\\n",
        "                          'Επιτρέπετε στο παιδί σας να επιλέξει όποιο φαγητό θέλει, από αυτά που σερβίρετε στο δείπνο; - v_y', 'Όταν το παιδί σας γκρινιάζει, το πρώτο πράγμα που κάνετε είναι να του/της δίνετε κάτι να φάει ή να πιεί; - v_y',\\\n",
        "                          'Δίνετε στο παιδί σας κάτι να φάει ή να πιεί όταν βαριέται παρόλο που πιστεύετε πως δεν πεινάει; - v_y', 'Δίνετε στο παιδί σας κάτι να φάει ή να πιεί όταν  είναι αναστατωμένο, παρόλο που πιστεύετε πως δεν πεινάει; - v_y',\\\n",
        "                          'Προσπαθώ να καταναλώνω υγιεινά τρόφιμα μπροστά στο παιδί μου, ακόμα και εάν δεν είναι τα αγαπημένα μου. - v_y', 'Προσφέρω γλυκά (καραμέλες, παγωτό, κέικ, πίτες, αρτοσκευάσματα) στο παιδί μου σαν ανταμοιβή για την καλή του/της συμπεριφορά. - v_y',\\\n",
        "                          'Δείχνω στο παιδί μου πόσο πολύ απολαμβάνω να καταναλώνω υγιεινά τρόφιμα. - v_y', 'Προσπαθώ να δείχνω ενθουσιασμό όταν καταναλώνω υγιεινά τρόφιμα. - v_y', 'Συζητάω με το παιδί μου γιατί είναι σημαντικό να τρώει υγιεινά φαγητά. - v_y',\\\n",
        "                          'Ενθαρρύνω το παιδί μου να δοκιμάζει καινούργια φαγητά. - v_y', '. Όταν το παιδί μου λέει ότι έχει τελειώσει το φαγητό του, προσπαθώ να το κάνω να φάει ακόμα μία δύο μπουκιές. - v_y',\\\n",
        "                          'Ενθαρρύνω το παιδί μου να τρώει λιγότερο, για την αποφυγή αύξησης του σωματικού του/της βάρους. - v_y', 'Λέω στο παιδί μου πως το υγιεινό φαγητό έχει ωραία γεύση (είναι νόστιμο). - v_y',\\\n",
        "                          'Δίνω στο παιδί μου μικρές μερίδες στα γεύματα ώστε να ελέγχω το βάρος του. - v_y', 'Εάν δεν καθοδηγούσα/ έλεγχα τη διατροφή του παιδιού μου, θα έτρωγε πάρα πολλά ανθυγιεινά, πρόχειρα φαγητά (π.χ. fastfood, σουβλάκι, πίτσα). - v_y',\\\n",
        "                          'Συζητάω με το παιδί μου για τη διατροφική  αξία  των τροφίμων. - v_y', 'Εάν το παιδί μου πει «δεν πεινάω», προσπαθώ να τον/την κάνω να φάει ούτως ή άλλως. - v_y', 'Ενθαρρύνω το παιδί μου να συμμετέχει στην αγορά των  τροφίμων. - v_y'])"
      ]
    },
    {
      "cell_type": "code",
      "execution_count": 36,
      "metadata": {
        "id": "Kuu8TrLCAdTq"
      },
      "outputs": [],
      "source": [
        "data = data.drop(columns=['Σκέφτομαι ότι καίω θερμίδες όταν γυμνάζομαι - v', 'Είμαι απασχολημένος/η με την επιθυμία να είμαι πιο αδύνατος/η - v',\\\n",
        "                          'Απασχολούμαι με την σκέψη ότι έχω λίπος στο σώμα μου - v', 'Άλλοι άνθρωποι πιστεύουν ότι είμαι πολύ αδύνατος/η - v',\\\n",
        "                          'Αποφεύγω τροφές με ζάχαρη - v', 'Όταν τρώω τα γεύματά μου αργώ περισσότερο από τους άλλους - v',\\\n",
        "                          'Νοιώθω ότι το φαγητό ελέγχει την ζωή μου - v', 'Τρώω διαιτητικές τροφές - v', 'Νοιώθω ότι οι άλλοι με πιέζουν να φάω - v',\\\n",
        "                          'Έχω αυτο-έλεγχο σχετικά με το φαγητό - v', 'Τρομάζω στην ιδέα να είμαι υπέρβαρος/η - v', 'Αποφεύγω να τρώω όταν πεινάω - v',\\\n",
        "                          'Πιάνω τον εαυτό μου απασχολημένο με το φαγητό - v', 'Κόβω την τροφή μου σε μικρά κομμάτια - v',\\\n",
        "                          'Γνωρίζω το θερμιδικό περιεχόμενο των τροφών που καταναλώνω - v', 'Συγκεκριμένα αποφεύγω τροφές που περιέχουν πολλούς υδατάνθρακες (ψωμί, ρύζι, πατάτες, κλπ.) - v',\\\n",
        "                          'Νοιώθω ότι οι άλλοι θα προτιμούσαν να έτρωγα περισσότερο - v', 'Προκαλώ εμετό μετά το φαγητό - v', 'Νοιώθω πολύ ένοχος/η μετά το φαγητό - v',\\\n",
        "                          'Ξοδεύω πολύ χρόνο και σκέψη στο φαγητό - v', 'Κάνω δίαιτα - v', 'Νοιώθω άβολα όταν τρώω γλυκά - v', 'Νοιώθω την ανάγκη να κάνω εμετό μετά το φαγητό - v',\\\n",
        "                          'Μου αρέσει να είναι άδειο το στομάχι μου - v', 'Έχετε επεισόδια υπερφαγίας όπου νιώθετε ότι δεν μπορείτε να σταματήσετε; - v',\\\n",
        "                          'Απολαμβάνω να δοκιμάζω νέα λιπαρά /παχυντικά φαγητά - v'])"
      ]
    },
    {
      "cell_type": "code",
      "execution_count": 37,
      "metadata": {
        "colab": {
          "base_uri": "https://localhost:8080/"
        },
        "id": "YfCDGuF5hqxM",
        "outputId": "05df7804-bbd9-4ccd-b61f-de24190e2298"
      },
      "outputs": [
        {
          "output_type": "stream",
          "name": "stdout",
          "text": [
            "(2773, 137)\n",
            "                           pid   timestamp  sleepAsleepMinutes  distance  \\\n",
            "2183  61d6ce215828a5043783a1f5  2022-01-04                   0         0   \n",
            "2184  61d6ce215828a5043783a1f5  2022-01-05                   0         0   \n",
            "2185  61d6ce215828a5043783a1f5  2022-01-06                   0     21760   \n",
            "2186  61d6ce215828a5043783a1f5  2022-01-07                 560    645790   \n",
            "2187  61d6ce215828a5043783a1f5  2022-01-08                 463    798030   \n",
            "...                        ...         ...                 ...       ...   \n",
            "2348  61d6ce215828a5043783a1f5  2022-04-15                   0         0   \n",
            "2349  61d6ce215828a5043783a1f5  2022-04-15                   0         0   \n",
            "2350  61d6ce215828a5043783a1f5  2022-04-15                   0         0   \n",
            "2351  61d6ce215828a5043783a1f5  2022-04-15                   0         0   \n",
            "2352  61d6ce215828a5043783a1f5  2022-04-15                   0         0   \n",
            "\n",
            "      steps  target weight  home  junk  ΙΚΤΕΡΟΣ - v  ...  \\\n",
            "2183      0     NaN    NaN   NaN   NaN          0.0  ...   \n",
            "2184      0     NaN    NaN   NaN   NaN          0.0  ...   \n",
            "2185    400     NaN    NaN   NaN   NaN          0.0  ...   \n",
            "2186  11859     NaN    NaN   NaN   NaN          0.0  ...   \n",
            "2187  14647     NaN    NaN   NaN   NaN          0.0  ...   \n",
            "...     ...     ...    ...   ...   ...          ...  ...   \n",
            "2348      0     0.0    NaN   0.0   NaN          0.0  ...   \n",
            "2349      0     1.0    NaN   1.0   NaN          0.0  ...   \n",
            "2350      0     1.0    NaN   1.0   NaN          0.0  ...   \n",
            "2351      0     1.0    NaN   0.0   NaN          0.0  ...   \n",
            "2352      0     1.0    NaN   1.0   NaN          0.0  ...   \n",
            "\n",
            "      Ποια είναι η εργασία σας; (σε περίπτωση συνταξιοδότησης σημειώνετε την απασχόληση πριν από τη συνταξιοδότηση) - v  \\\n",
            "2183                                                0.0                                                                   \n",
            "2184                                                0.0                                                                   \n",
            "2185                                                0.0                                                                   \n",
            "2186                                                0.0                                                                   \n",
            "2187                                                0.0                                                                   \n",
            "...                                                 ...                                                                   \n",
            "2348                                                0.0                                                                   \n",
            "2349                                                0.0                                                                   \n",
            "2350                                                0.0                                                                   \n",
            "2351                                                0.0                                                                   \n",
            "2352                                                0.0                                                                   \n",
            "\n",
            "      Είστε ικανοποιημένος με το εισόδημά σας; - v  \\\n",
            "2183                                           3.0   \n",
            "2184                                           3.0   \n",
            "2185                                           3.0   \n",
            "2186                                           3.0   \n",
            "2187                                           3.0   \n",
            "...                                            ...   \n",
            "2348                                           3.0   \n",
            "2349                                           3.0   \n",
            "2350                                           3.0   \n",
            "2351                                           3.0   \n",
            "2352                                           3.0   \n",
            "\n",
            "     Ποιο είναι το ακαθάριστο ετήσιο εισόδημά σας; (η ερώτηση αυτή είναι προαιρετική) - v  \\\n",
            "2183                                                2.0                                     \n",
            "2184                                                2.0                                     \n",
            "2185                                                2.0                                     \n",
            "2186                                                2.0                                     \n",
            "2187                                                2.0                                     \n",
            "...                                                 ...                                     \n",
            "2348                                                2.0                                     \n",
            "2349                                                2.0                                     \n",
            "2350                                                2.0                                     \n",
            "2351                                                2.0                                     \n",
            "2352                                                2.0                                     \n",
            "\n",
            "      Είστε καπνιστής; - v  \\\n",
            "2183                   2.0   \n",
            "2184                   2.0   \n",
            "2185                   2.0   \n",
            "2186                   2.0   \n",
            "2187                   2.0   \n",
            "...                    ...   \n",
            "2348                   2.0   \n",
            "2349                   2.0   \n",
            "2350                   2.0   \n",
            "2351                   2.0   \n",
            "2352                   2.0   \n",
            "\n",
            "      Το οικογενειακό σας εισόδημα καλύπτει τις ανάγκες σας; - v  \\\n",
            "2183                                                3.0            \n",
            "2184                                                3.0            \n",
            "2185                                                3.0            \n",
            "2186                                                3.0            \n",
            "2187                                                3.0            \n",
            "...                                                 ...            \n",
            "2348                                                3.0            \n",
            "2349                                                3.0            \n",
            "2350                                                3.0            \n",
            "2351                                                3.0            \n",
            "2352                                                3.0            \n",
            "\n",
            "      Ασκείστε; Πόσο συχνά; - v  Καταναλώνετε αλκοολούχα ποτά; - v  \\\n",
            "2183                        3.0                                1.0   \n",
            "2184                        3.0                                1.0   \n",
            "2185                        3.0                                1.0   \n",
            "2186                        3.0                                1.0   \n",
            "2187                        3.0                                1.0   \n",
            "...                         ...                                ...   \n",
            "2348                        3.0                                1.0   \n",
            "2349                        3.0                                1.0   \n",
            "2350                        3.0                                1.0   \n",
            "2351                        3.0                                1.0   \n",
            "2352                        3.0                                1.0   \n",
            "\n",
            "     Νοσείτε από κάποια χρόνια ασθένεια (πχ. Υπέρταση, Δυσλιπιδαιμία, Διαβήτη,); - v  \\\n",
            "2183                                                1.0                                \n",
            "2184                                                1.0                                \n",
            "2185                                                1.0                                \n",
            "2186                                                1.0                                \n",
            "2187                                                1.0                                \n",
            "...                                                 ...                                \n",
            "2348                                                1.0                                \n",
            "2349                                                1.0                                \n",
            "2350                                                1.0                                \n",
            "2351                                                1.0                                \n",
            "2352                                                1.0                                \n",
            "\n",
            "      Πόσο καλή είναι η υγεία σας; - v  \\\n",
            "2183                               3.0   \n",
            "2184                               3.0   \n",
            "2185                               3.0   \n",
            "2186                               3.0   \n",
            "2187                               3.0   \n",
            "...                                ...   \n",
            "2348                               3.0   \n",
            "2349                               3.0   \n",
            "2350                               3.0   \n",
            "2351                               3.0   \n",
            "2352                               3.0   \n",
            "\n",
            "                                          Score_sd - v  \n",
            "2183  7 (Nor),2 (Nor),3 (Bor),2 (Nor),0 (Nor),10 (Nor)  \n",
            "2184  7 (Nor),2 (Nor),3 (Bor),2 (Nor),0 (Nor),10 (Nor)  \n",
            "2185  7 (Nor),2 (Nor),3 (Bor),2 (Nor),0 (Nor),10 (Nor)  \n",
            "2186  7 (Nor),2 (Nor),3 (Bor),2 (Nor),0 (Nor),10 (Nor)  \n",
            "2187  7 (Nor),2 (Nor),3 (Bor),2 (Nor),0 (Nor),10 (Nor)  \n",
            "...                                                ...  \n",
            "2348  7 (Nor),2 (Nor),3 (Bor),2 (Nor),0 (Nor),10 (Nor)  \n",
            "2349  7 (Nor),2 (Nor),3 (Bor),2 (Nor),0 (Nor),10 (Nor)  \n",
            "2350  7 (Nor),2 (Nor),3 (Bor),2 (Nor),0 (Nor),10 (Nor)  \n",
            "2351  7 (Nor),2 (Nor),3 (Bor),2 (Nor),0 (Nor),10 (Nor)  \n",
            "2352  7 (Nor),2 (Nor),3 (Bor),2 (Nor),0 (Nor),10 (Nor)  \n",
            "\n",
            "[170 rows x 137 columns]\n"
          ]
        }
      ],
      "source": [
        "# Print part of final data\n",
        "print(data.shape)\n",
        "print(data.loc[data['pid'] == \"61d6ce215828a5043783a1f5\"])"
      ]
    },
    {
      "cell_type": "markdown",
      "metadata": {
        "id": "-xl8IInzh47p"
      },
      "source": [
        "# **Pre-processing**"
      ]
    },
    {
      "cell_type": "code",
      "execution_count": 38,
      "metadata": {
        "colab": {
          "base_uri": "https://localhost:8080/"
        },
        "id": "jfSKtsbFwfWO",
        "outputId": "bb0fb4bf-3f04-4685-9df9-1457e97d728f"
      },
      "outputs": [
        {
          "output_type": "stream",
          "name": "stdout",
          "text": [
            "Score_sd_post - v\n",
            "Score - v\n",
            "Score_fp - v\n",
            "Score_mother_post - v\n",
            "Score_fp_post - v\n",
            "Score_mother - v\n",
            "Score_psycho - v\n",
            "Score_sd - v\n"
          ]
        }
      ],
      "source": [
        "#obj = data.select_dtypes(include=[np.object])\n",
        "for i in data.columns: \n",
        "  if \"Score\" in i:\n",
        "    print(i)"
      ]
    },
    {
      "cell_type": "code",
      "execution_count": 39,
      "metadata": {
        "colab": {
          "base_uri": "https://localhost:8080/"
        },
        "id": "fXtvTnn-Z026",
        "outputId": "8df54505-f18a-427f-ab41-4097bcc9c707"
      },
      "outputs": [
        {
          "output_type": "stream",
          "name": "stdout",
          "text": [
            "pid object\n",
            "timestamp object\n",
            "sleepAsleepMinutes int64\n",
            "distance int64\n",
            "steps int64\n",
            "target float64\n",
            "weight object\n",
            "home float64\n",
            "junk float64\n",
            "ΙΚΤΕΡΟΣ - v float64\n",
            "ΥΠΟΓΛΥΚΑΙΜΙΑ - v float64\n",
            "ΠΑΡΑΜΟΝΗ ΣΕ ΜΕΝ / ΜΑΦ - v float64\n",
            "HbA1c - v object\n",
            "Chol - v float64\n",
            "HDL - v float64\n",
            "LDL - v float64\n",
            "TG - v float64\n",
            "Lp(a) - v object\n",
            "SGOT - v float64\n",
            "SGPT - v float64\n",
            "γGT - v object\n",
            "FSH - v object\n",
            "TSH - v object\n",
            "UA - v object\n",
            "25 (OH) vitamin D - v object\n",
            "FreeT4 - v object\n",
            "Κορτιζόλη - v object\n",
            "Ινσουλίνη - v object\n",
            "Τεστοστερόνη - v object\n",
            "ACTH - v object\n",
            "LH - v object\n",
            "Οιστραδιόλη - v object\n",
            "Γλυκόζη - v float64\n",
            "ΗΛΙΚΙΑ ΜΗΤΡΟΣ - v float64\n",
            "ΒΑΡΟΣ ΜΗΤΡΟΣ - v float64\n",
            "ΥΨΟΣ ΜΗΤΡΟΣ - v float64\n",
            "ΝΟΣΗΜΑΤΑ ΜΗΤΡΟΣ - v object\n",
            "ΗΛΙΚΙΑ ΠΑΤΡΟΣ - v float64\n",
            "ΒΑΡΟΣ ΠΑΤΡΟΣ - v float64\n",
            "ΥΨΟΣ ΠΑΤΡΟΣ - v float64\n",
            "ΝΟΣΗΜΑΤΑ ΠΑΤΡΟΣ - v object\n",
            "ΑΔΕΛΦΙΑ - v float64\n",
            "BMI - v_x object\n",
            "BMI - v_y float64\n",
            "Score_sd_post - v object\n",
            "Score - v float64\n",
            "Score_fp - v object\n",
            "ΜΕΣΟΔΙΑΣΤΗΜΑΤΑ ΜΕΤΑΞΥ ΓΕΥΜΑΤΩΝ: - v float64\n",
            "ΑΡΙΘΜΟΣ ΜΙΚΡΟΓΕΥΜΑΤΩΝ / ΣΝΑΚ - v float64\n",
            "Πόσες ώρες περίπου παίζει βιντεοπαιχνίδια  το παιδί σας τις καθημερινές; - v float64\n",
            "Πόσες ώρες περίπου την ημέρα (Σαββατοκύριακο ή αργίες)  πέρασε το παιδί σας μπροστά σε οθόνες; (π.χ. τηλεόραση, τάμπλετ, κινητό) - v float64\n",
            "ΠΡΟΣΩΠΑ ΦΡΟΝΤΙΔΑΣ  ΣΙΤΙΣΗΣ ΠΑΙΔΙΟΥ: - v object\n",
            "Πόσο συχνά τρώει το παιδί σας ψάρια ή θαλασσινά; - v float64\n",
            "Πόσες ώρες την ημέρα περίπου κοιμάται το παιδί σας (μέσος όρος); - v float64\n",
            "Πόσες ώρες περίπου παίζει βιντεοπαιχνίδια το παιδί σας τα Σαββατοκύριακα; - v float64\n",
            "Πόσες φορές την εβδομάδα το παιδί σας είχε δυσκολίες στον ύπνο (π.χ. αϋπνία, δυσκολία στην έναρξη του ύπνου, συχνά ξυπνήματα, τρίξιμο δοντιών); - v float64\n",
            "Πόσο συχνά χρησιμοποιείτε ελαιόλαδο στο μαγείρεμα; - v float64\n",
            "Το παιδί μου ζητάει συνεχώς φαγητό - v float64\n",
            "Πόσο συχνά τρώει το παιδί σας όσπρια; - v float64\n",
            "Πόσο συχνά χρησιμοποιείτε βούτυρο; - v float64\n",
            "Ακόμη κι αν έχει χορτάσει, το παιδί μου βρίσκει χώρο για το αγαπημένο του φαγητό - v float64\n",
            "Πόσο συχνά χρησιμοποιείτε άλλα φυτικά έλαια στο μαγείρεμα; - v float64\n",
            "Εάν είχε την επιλογή, το παιδί μου θα έτρωγε την περισσότερη ώρα της ημέρας - v float64\n",
            "Πόσο συχνά τρώει το παιδί σας ξηρούς καρπούς (μια μερίδα αντιστοιχεί σε μια χούφτα ξηρών καρπών (π.χ. 18 αμύγδαλα, 6 ολόκληρα καρύδια, 3 κουταλιές της σούπας ηλιόσπορους)  ή προϊόντα τους  όπως ταχίνι, φυστικοβούτυρο κ.ά. (μια μερίδα αντιστοιχεί σε 1½  κουταλιά της σούπας των 15ml ή 25γρ. π.χ. ταχίνι) - v float64\n",
            "Πόσο συχνά χρησιμοποιείτε μαργαρίνη; - v float64\n",
            "Πόσες μερίδες φρούτων καταναλώνει το παιδί σας (μέσος όρος); - v float64\n",
            "Πόσες μερίδες λαχανικών (ωμών ή βραστών ή στον ατμό ή ψητών) καταναλώνει το παιδί σας (μέσος όρος); - v float64\n",
            "Πόσες μερίδες γαλακτοκομικών (ένα ποτήρι γάλα των 250ml, ένα κεσεδάκι γιαούρτι των 200γρ, μια φέτα τυρί του τοστ)  καταναλώνει  το παιδί σας (μέσος όρος); - v float64\n",
            "Πόσες μερίδες δημητριακών καταναλώνει  το παιδί σας (μέσος όρος); - v float64\n",
            "Από τις παραπάνω  μερίδες δημητριακών που καταναλώνει συνήθως το παιδί σας ημερησίως πόσες περιέχουν δημητριακά ολικής άλεσης όπως τοστ ολικής άλεσης, ψωμί ολικής άλεσης  ή πολύσπορο, παξιμάδια ολικής άλεσης, ζυμαρικά ολικής άλεσης, ποπ κορν, δημητριακά πρωινού με περιεκτικότητα σε φυτικές ίνες > 3γρ / 100γρ προϊόντος: - v float64\n",
            "Πόσο συχνά  καταναλώνει το παιδί σας λευκό κρέας (κοτόπουλο, γαλοπούλα, πάπια, κουνέλι, κυνήγι); - v float64\n",
            "Πόσο συχνά  καταναλώνει το παιδί σας κόκκινο κρέας (μοσχάρι, χοιρινό, κατσίκι, αρνί); - v float64\n",
            "Πόσες φορές την εβδομάδα κατανάλωσε το παιδί σας επεξεργασμένο κρέας (π.χ. μια φέτα ζαμπόν, μια φέτα γαλοπούλα, μια φέτα σαλάμι, μια φέτα παριζάκι , ένα μεσαίο λουκάνικο) - v float64\n",
            "Το παιδί μου έχει μεγάλη όρεξη - v float64\n",
            "Πόσο συχνά τρώει το παιδί σας λαδερό φαγητό (π.χ. φασολάκια πράσινα, αρακά, μπριάμ); - v float64\n",
            "Το παιδί μου ΔΕΝ χορταίνει εύκολα - v float64\n",
            "Το παιδί μου ΔΕΝ αφήνει φαγητό στο πιάτο στο τέλος του γεύματος - v float64\n",
            "Πόσο συχνά τρώει το παιδί σας έτοιμο φαγητό ταχυφαγείου (π.χ. πίτα με γύρο, πίτσα); - v float64\n",
            "Το παιδί μου απορρίπτει νέα φαγητά στην αρχή - v float64\n",
            "Πόσο συχνά καταναλώνει το παιδί σας αυγά (σε οποιαδήποτε μορφή, βραστά, τηγανητά, ομελέτα, σε συνταγές); - v float64\n",
            "Το παιδί μου μπορεί να φάει ένα γεύμα αν έχει φάει σνακ λίγο πριν - v float64\n",
            "Πόσο συχνά πίνει το παιδί σας  αναψυκτικά τύπου coca cola ή fanta (330ml)  ή χυμούς εμπορίου π.χ. αμίτα  (1 ποτήρι των 250 ml); - v float64\n",
            "Το παιδί μου ΔΕΝ ενδιαφέρεται να δοκιμάσει νέα φαγητά - v float64\n",
            "Πόσο συχνά τρώει το παιδί σας τυποποιημένα προϊόντα με πολλές θερμίδες (δηλαδή >250kcal ανά 100γρ. προϊόντος) και υψηλά σε απλά σάκχαρα (δηλαδή με σάκχαρα > 22,5γρ. ανά 100γρ προϊόντος) ή υψηλά σε αλάτι (δηλαδή > 1,5γρ. αλατιού ή 0,6γρ νατρίου ανά 100 γρ προϊόντος) (π.χ. 1 σακούλι πατατάκια 70γρ, 1 κρουασάν 100γρ, 1 ντόνατς 100γρ, 1 σοκολάτα 100γρ, ≥ 3 μπισκότα τύπου γεμιστά) - v float64\n",
            "Το παιδί μου δύσκολα ικανοποιείται με τα γεύματα - v float64\n",
            "ΟΙΚΟΓΕΝΕΙΑΚΑ ΓΕΥΜΑΤΑ - v float64\n",
            "Τι είδους άσκηση έκανε το παιδί σας την προηγούμενη βδομάδα; - v float64\n",
            "ΡΥΘΜΟΣ ΣΙΤΙΣΗΣ - v float64\n",
            "Πόσα λεπτά την ημέρα περίπου ήταν το παιδί σας σωματικά δραστήριο (περπάτημα, ποδήλατο, πατίνι, παιχνίδια με φίλους που απαιτούν σωματική δραστηριότητα, κηπουρική, μαγειρική, δουλειές σπιτιού) - v float64\n",
            "Πόσες φορές την εβδομάδα ασκήθηκε (οργανωμένο σπορ) το παιδί σας; - v float64\n",
            "ΑΡΙΘΜΟΣ ΚΥΡΙΩΝ ΓΕΥΜΑΤΩΝ - v float64\n",
            "Πόσες ώρες περίπου την ημέρα (καθημερινές)  πέρασε το παιδί σας  μπροστά σε οθόνες; (π.χ. τηλεόραση, τάμπλετ, κινητό) - v float64\n",
            "Score_mother_post - v object\n",
            "Score_fp_post - v object\n",
            "Score_mother - v object\n",
            "ΚΥΗΣΗ - v float64\n",
            "Εβδομάδες κύησης - v float64\n",
            "βάρος γέννησης - v float64\n",
            "μήκος σώματος - v float64\n",
            "περίμετρος κεφαλής - v float64\n",
            "ΒΑΡΟΣ ΜΗΤΕΡΑΣ ΠΡΟ ΚΥΗΣΗΣ - v float64\n",
            "ΠΡΟΣΛΗΨΗ ΒΑΡΟΥΣ ΚΑΤΑ ΤΗΝ ΕΓΚΥΜΟΣΥΝΗ - v float64\n",
            "ΚΑΠΝΙΣΜΑ ΠΡΟ ΚΥΗΣΗΣ - v float64\n",
            "Σ.Δ. ΚΥΗΣΗΣ - v float64\n",
            "IUGR (ενδομήτρια καθυστέρηση αύξησης) - v float64\n",
            "ΚΑΠΝΙΣΜΑ ΚΑΤΑ ΤΗΝ ΚΥΗΣΗ - v float64\n",
            "ΑΛΛΑ ΠΡΟΒΛΗΜΑΤΑ ΚΑΤΑ ΤΗΝ ΚΥΗΣΗ - v object\n",
            "SGA - v float64\n",
            "ΤΟΚΕΤΟΣ - v float64\n",
            "ΘΗΛΑΣΜΟΣ - v float64\n",
            "ΔΙΑΡΚΕΙΑ  θΗΛΑΣΜΟΥ ΣΕ ΜΗΝΕΣ - v float64\n",
            "ΑΛΛΕΡΓΙΕΣ - v float64\n",
            "ΔΙΑΡΚΕΙΑ ΑΠΟΚΛΕΙΣΤΙΚΟΥ ΘΗΛΑΣΜΟΥ (ΜΗΝΕΣ): - v float64\n",
            "ΔΙΑΡΚΕΙΑ ΜΙΚΤΟΥ ΘΗΛΑΣΜΟΥ (ΜΗΝΕΣ): - v float64\n",
            "ΦΑΡΜΑΚΑ / ΒΙΤΑΜΙΝΕΣ / ΣΥΜΠΛΗΡΩΜΑΤΑ - v float64\n",
            "Χρόνια νοσήματα - v float64\n",
            "Συγγενή νοσήματα - v float64\n",
            "ΝΟΣΗΛΕΙΕΣ - v float64\n",
            "Score_psycho - v float64\n",
            "Φύλο - v float64\n",
            "Ηλικία - v float64\n",
            "Ύψος σε μέτρα - v object\n",
            "Βάρος σε κιλά - v float64\n",
            "Με βάση το ύψος σας και το σωματικό σας βάρος, θεωρείτε πως είστε - v float64\n",
            "Ποια είναι η οικογενειακή σας κατάσταση; - v float64\n",
            "Ποια είναι η εθνικότητά σας*; - v float64\n",
            "Ποιο είναι το μορφωτικό σας επίπεδο; - v float64\n",
            "Ποια είναι η εργασία σας; (σε περίπτωση συνταξιοδότησης σημειώνετε την απασχόληση πριν από τη συνταξιοδότηση) - v float64\n",
            "Είστε ικανοποιημένος με το εισόδημά σας; - v float64\n",
            "Ποιο είναι το ακαθάριστο ετήσιο εισόδημά σας; (η ερώτηση αυτή είναι προαιρετική) - v float64\n",
            "Είστε καπνιστής; - v float64\n",
            "Το οικογενειακό σας εισόδημα καλύπτει τις ανάγκες σας; - v float64\n",
            "Ασκείστε; Πόσο συχνά; - v float64\n",
            "Καταναλώνετε αλκοολούχα ποτά; - v float64\n",
            "Νοσείτε από κάποια χρόνια ασθένεια (πχ. Υπέρταση, Δυσλιπιδαιμία, Διαβήτη,); - v float64\n",
            "Πόσο καλή είναι η υγεία σας; - v float64\n",
            "Score_sd - v object\n"
          ]
        }
      ],
      "source": [
        "for name,col_type in zip(data.columns,data.dtypes):\n",
        "    print (name,col_type)"
      ]
    },
    {
      "cell_type": "markdown",
      "metadata": {
        "id": "6DP9zAf_i3X4"
      },
      "source": [
        "### Remove duplicates"
      ]
    },
    {
      "cell_type": "code",
      "execution_count": 40,
      "metadata": {
        "colab": {
          "base_uri": "https://localhost:8080/"
        },
        "id": "xRPbEsnlh_im",
        "outputId": "5a2c92df-8c85-429b-80a8-5fb2b09e6643"
      },
      "outputs": [
        {
          "output_type": "stream",
          "name": "stdout",
          "text": [
            "(2773, 137)\n",
            "(2649, 137)\n"
          ]
        }
      ],
      "source": [
        "print(data.shape)\n",
        "data = data.drop_duplicates()\n",
        "print(data.shape)"
      ]
    },
    {
      "cell_type": "markdown",
      "metadata": {
        "id": "S_z5tb1umFE_"
      },
      "source": [
        "## Convert column types"
      ]
    },
    {
      "cell_type": "markdown",
      "metadata": {
        "id": "GeCh9LouLFJu"
      },
      "source": [
        "### Convert to Float"
      ]
    },
    {
      "cell_type": "code",
      "execution_count": 41,
      "metadata": {
        "id": "IRoB7bkFnu9A"
      },
      "outputs": [],
      "source": [
        "#split bmi mother/father from BMI - v_y\n",
        "data['BMI - v_y'] = data['BMI - v_y'].astype('str')\n",
        "data[['BMI_Mother', 'BMI_Father']] = data['BMI - v_y'].str.split('.', expand=True)\n",
        "data['BMI_Mother'] = data['BMI_Mother'].astype('str')\n",
        "data['BMI_Father'] = data['BMI_Father'].astype('str')\n"
      ]
    },
    {
      "cell_type": "code",
      "execution_count": 42,
      "metadata": {
        "id": "dGHplnH3Fn7Q"
      },
      "outputs": [],
      "source": [
        "del data['BMI - v_x']\n",
        "del data['BMI - v_y']"
      ]
    },
    {
      "cell_type": "code",
      "execution_count": 43,
      "metadata": {
        "id": "Mimh1ob6BakU"
      },
      "outputs": [],
      "source": [
        "#fix score columns\n",
        "\n",
        "scores = ['Score_mother - v', 'Score_fp - v', 'Score_fp_post - v', 'Score_mother_post - v', 'Score_sd_post - v', 'Score_sd - v']\n",
        "\n",
        "for i in scores:\n",
        "  data[i] = data[i].astype(str)\n",
        "\n",
        "data[['Mother_Yp', 'Mother_Aus', 'Mother_Ep', 'Mother_Aut']] = data['Score_mother - v'].str.split(',', expand=True)\n",
        "data[['sd_Tot', 'sd_Emo', 'sd_Cond', 'sd_Hyper', 'sd_Peer', 'sd_Beh']] = data['Score_sd - v'].str.split(',', expand=True)\n",
        "data[['fp_Mon', 'fp_Con', 'fp_Reg', 'fp_Guid', 'fp_Res', 'fp_Press']] = data['Score_fp - v'].str.split(',', expand=True)\n",
        "data[['Post_Mother_Yp', 'Post_Mother_Aus', 'Post_Mother_Ep', 'Post_Mother_Aut']] = data['Score_mother_post - v'].str.split(',', expand=True)\n",
        "data[['Post_sd_Tot', 'Post_sd_Emo', 'Post_sd_Cond', 'Post_sd_Hyper', 'Post_sd_Peer', 'Post_sd_Beh']] = data['Score_sd_post - v'].str.split(',', expand=True)\n",
        "data[['Post_fp_Mon', 'Post_fp_Con', 'Post_fp_Reg', 'Post_fp_Guid', 'Post_fp_Res', 'Post_fp_Press']] = data['Score_fp_post - v'].str.split(',', expand=True)"
      ]
    },
    {
      "cell_type": "code",
      "execution_count": 44,
      "metadata": {
        "id": "vqbXKBF1MuSt"
      },
      "outputs": [],
      "source": [
        "sd = ['sd_Tot', 'sd_Emo', 'sd_Cond', 'sd_Hyper', 'sd_Peer', 'sd_Beh', 'Post_sd_Tot', 'Post_sd_Emo', 'Post_sd_Cond', 'Post_sd_Hyper', 'Post_sd_Peer', 'Post_sd_Beh']\n",
        "\n",
        "data[['sd_Tot', '1']] = data['sd_Tot'].str.split(' ', expand=True)\n",
        "data[['sd_Emo', '2']] = data['sd_Emo'].str.split(' ', expand=True)\n",
        "data[['sd_Cond', '3']] = data['sd_Cond'].str.split(' ', expand=True)\n",
        "data[['sd_Hyper', '4']] = data['sd_Hyper'].str.split(' ', expand=True)\n",
        "data[['sd_Peer', '5']] = data['sd_Peer'].str.split(' ', expand=True)\n",
        "data[['sd_Beh', '6']] = data['sd_Beh'].str.split(' ', expand=True)\n",
        "data[['Post_sd_Tot', '7']] = data['Post_sd_Tot'].str.split(' ', expand=True)\n",
        "data[['Post_sd_Emo', '8']] = data['Post_sd_Emo'].str.split(' ', expand=True)\n",
        "data[['Post_sd_Cond', '9']] = data['Post_sd_Cond'].str.split(' ', expand=True)\n",
        "data[['Post_sd_Hyper', '10']] = data['Post_sd_Hyper'].str.split(' ', expand=True)\n",
        "data[['Post_sd_Peer', '11']] = data['Post_sd_Peer'].str.split(' ', expand=True)\n",
        "data[['Post_sd_Beh', '12']] = data['Post_sd_Beh'].str.split(' ', expand=True)\n",
        "\n",
        "data = data.drop(columns=['1', '2', '3', '4', '5', '6', '7', '8', '9', '10', '11', '12'])\n",
        "data = data.drop(columns=['Score_mother - v', 'Score_fp - v', 'Score_fp_post - v', 'Score_mother_post - v', 'Score_sd_post - v', 'Score_sd - v'])"
      ]
    },
    {
      "cell_type": "code",
      "execution_count": 45,
      "metadata": {
        "id": "pbRZ5sP55yDQ"
      },
      "outputs": [],
      "source": [
        "#convert to float\n",
        "\n",
        "data_float = ['weight', 'βάρος γέννησης - v', 'μήκος σώματος - v', 'περίμετρος κεφαλής - v', 'ΒΑΡΟΣ ΜΗΤΕΡΑΣ ΠΡΟ ΚΥΗΣΗΣ - v', 'ΒΑΡΟΣ ΜΗΤΡΟΣ - v', 'ΥΨΟΣ ΜΗΤΡΟΣ - v',\\\n",
        "              'ΒΑΡΟΣ ΠΑΤΡΟΣ - v', 'ΥΨΟΣ ΠΑΤΡΟΣ - v', 'BMI_Mother', 'BMI_Father', 'ΠΡΟΣΛΗΨΗ ΒΑΡΟΥΣ ΚΑΤΑ ΤΗΝ ΕΓΚΥΜΟΣΥΝΗ - v', 'HbA1c - v', 'Chol - v', 'HDL - v', 'LDL - v',\\\n",
        "              'TG - v', 'Lp(a) - v', 'SGOT - v', 'SGPT - v', 'γGT - v', 'FSH - v', 'TSH - v', 'UA - v', '25 (OH) vitamin D - v', 'FreeT4 - v', 'Κορτιζόλη - v',\\\n",
        "              'Ινσουλίνη - v', 'Τεστοστερόνη - v', 'ACTH - v', 'LH - v', 'Οιστραδιόλη - v', 'Γλυκόζη - v', 'Ύψος σε μέτρα - v', 'Βάρος σε κιλά - v',\\\n",
        "              'Score - v', 'Score_psycho - v', 'BMI_Mother', 'BMI_Father', 'Mother_Yp', 'Mother_Aus', 'Mother_Ep', 'Mother_Aut',\\\n",
        "              'sd_Tot', 'sd_Emo', 'sd_Cond', 'sd_Hyper', 'sd_Peer', 'sd_Beh', 'fp_Mon', 'fp_Con', 'fp_Reg', 'fp_Guid', 'fp_Res', 'fp_Press',\\\n",
        "              'Post_Mother_Yp', 'Post_Mother_Aus', 'Post_Mother_Ep', 'Post_Mother_Aut', 'Post_sd_Tot', 'Post_sd_Emo', 'Post_sd_Cond', 'Post_sd_Hyper', 'Post_sd_Peer', 'Post_sd_Beh',\\\n",
        "              'Post_fp_Mon', 'Post_fp_Con', 'Post_fp_Reg', 'Post_fp_Guid', 'Post_fp_Res', 'Post_fp_Press']"
      ]
    },
    {
      "cell_type": "code",
      "execution_count": 46,
      "metadata": {
        "id": "PKwLj2mV5zew"
      },
      "outputs": [],
      "source": [
        "for i in data_float:\n",
        "  data[i] = data[i].astype(str).str.replace(',','.')\n",
        "  data[i] = data[i].astype(str).str.replace('<','')\n",
        "  data[i] = data[i].astype(str).str.replace('Ο','0')\n",
        "  data[i] = data[i].astype(str).str.replace(' ','')\n",
        "  data[i] = data[i].astype(str).str.replace('-','nan')\n",
        "  data[i] = data[i].astype(str).str.replace('None','nan')\n",
        "  data[i] = data[i].replace('nan', np.nan) "
      ]
    },
    {
      "cell_type": "code",
      "execution_count": 47,
      "metadata": {
        "id": "cP8DDMVWZJ6S"
      },
      "outputs": [],
      "source": [
        "for col in data_float:\n",
        "  data[col]= data[col].astype(float)             "
      ]
    },
    {
      "cell_type": "markdown",
      "metadata": {
        "id": "LAVm3iz5K5Yb"
      },
      "source": [
        "  ### Convert to String and Date"
      ]
    },
    {
      "cell_type": "code",
      "execution_count": 48,
      "metadata": {
        "id": "7WJmrzFeY1VM"
      },
      "outputs": [],
      "source": [
        "#convert to string\n",
        "data[\"pid\"]= data[\"pid\"].astype(str)"
      ]
    },
    {
      "cell_type": "markdown",
      "metadata": {
        "id": "gCrAr1XXMIEP"
      },
      "source": [
        "### Convert to Int"
      ]
    },
    {
      "cell_type": "code",
      "execution_count": 49,
      "metadata": {
        "colab": {
          "base_uri": "https://localhost:8080/"
        },
        "id": "MqAaLwezrrd1",
        "outputId": "347940da-b081-4d4e-df1f-e410653f7c19"
      },
      "outputs": [
        {
          "output_type": "execute_result",
          "data": {
            "text/plain": [
              "array([nan, '0,1', '0,2', '0,3', '0', '0,1,2'], dtype=object)"
            ]
          },
          "metadata": {},
          "execution_count": 49
        }
      ],
      "source": [
        "data['ΠΡΟΣΩΠΑ ΦΡΟΝΤΙΔΑΣ  ΣΙΤΙΣΗΣ ΠΑΙΔΙΟΥ: - v'].unique()"
      ]
    },
    {
      "cell_type": "code",
      "execution_count": 50,
      "metadata": {
        "id": "JrrU_XMAUfvI"
      },
      "outputs": [],
      "source": [
        "del data['ΠΡΟΣΩΠΑ ΦΡΟΝΤΙΔΑΣ  ΣΙΤΙΣΗΣ ΠΑΙΔΙΟΥ: - v']"
      ]
    },
    {
      "cell_type": "code",
      "execution_count": 51,
      "metadata": {
        "id": "u_w4KsDK-Cx4"
      },
      "outputs": [],
      "source": [
        "#convert to int\n",
        "\n",
        "data_int = ['target','home','junk','ΔΙΑΡΚΕΙΑ  θΗΛΑΣΜΟΥ ΣΕ ΜΗΝΕΣ - v', 'ΔΙΑΡΚΕΙΑ ΑΠΟΚΛΕΙΣΤΙΚΟΥ ΘΗΛΑΣΜΟΥ (ΜΗΝΕΣ): - v', 'ΔΙΑΡΚΕΙΑ ΜΙΚΤΟΥ ΘΗΛΑΣΜΟΥ (ΜΗΝΕΣ): - v', 'Φύλο - v', 'Ηλικία - v',\\\n",
        "            'Με βάση το ύψος σας και το σωματικό σας βάρος, θεωρείτε πως είστε - v', 'Ποια είναι η οικογενειακή σας κατάσταση; - v', 'Ποια είναι η εθνικότητά σας*; - v',\\\n",
        "            'Ποιο είναι το μορφωτικό σας επίπεδο; - v', 'Ποια είναι η εργασία σας; (σε περίπτωση συνταξιοδότησης σημειώνετε την απασχόληση πριν από τη συνταξιοδότηση) - v',\\\n",
        "            'Είστε ικανοποιημένος με το εισόδημά σας; - v', 'Ποιο είναι το ακαθάριστο ετήσιο εισόδημά σας; (η ερώτηση αυτή είναι προαιρετική) - v', 'Είστε καπνιστής; - v',\\\n",
        "            'Το οικογενειακό σας εισόδημα καλύπτει τις ανάγκες σας; - v', 'Ασκείστε; Πόσο συχνά; - v', 'Καταναλώνετε αλκοολούχα ποτά; - v',\\\n",
        "            'Νοσείτε από κάποια χρόνια ασθένεια (πχ. Υπέρταση, Δυσλιπιδαιμία, Διαβήτη,); - v', 'Πόσο καλή είναι η υγεία σας; - v']       "
      ]
    },
    {
      "cell_type": "code",
      "execution_count": 52,
      "metadata": {
        "id": "qi-nUo4SBzMt"
      },
      "outputs": [],
      "source": [
        "for i in data_int:\n",
        "  data[i] = data[i].astype(str).str.replace(',','.')\n",
        "  data[i] = data[i].astype(str).str.replace('<','')\n",
        "  data[i] = data[i].astype(str).str.replace('Ο','0')\n",
        "  data[i] = data[i].astype(str).str.replace(' ','')\n",
        "  data[i] = data[i].astype(str).str.replace('-','nan')\n",
        "  data[i] = data[i].replace('nan',np.NaN)"
      ]
    },
    {
      "cell_type": "code",
      "execution_count": 53,
      "metadata": {
        "id": "dpJxOT-4YSuY"
      },
      "outputs": [],
      "source": [
        "for col in data_int:\n",
        "  data[col] = pd.to_numeric(data[col])\n",
        "  data[col]= data[col].astype(int, errors='ignore')            "
      ]
    },
    {
      "cell_type": "code",
      "execution_count": 54,
      "metadata": {
        "colab": {
          "base_uri": "https://localhost:8080/"
        },
        "id": "PnC1kib3VVMX",
        "outputId": "c3a208fc-37fe-4828-ced5-cd162594592f"
      },
      "outputs": [
        {
          "output_type": "execute_result",
          "data": {
            "text/plain": [
              "pid                    object\n",
              "timestamp              object\n",
              "sleepAsleepMinutes      int64\n",
              "distance                int64\n",
              "steps                   int64\n",
              "                       ...   \n",
              "Post_fp_Con           float64\n",
              "Post_fp_Reg           float64\n",
              "Post_fp_Guid          float64\n",
              "Post_fp_Res           float64\n",
              "Post_fp_Press         float64\n",
              "Length: 162, dtype: object"
            ]
          },
          "metadata": {},
          "execution_count": 54
        }
      ],
      "source": [
        "data.dtypes"
      ]
    },
    {
      "cell_type": "markdown",
      "metadata": {
        "id": "CJeI2A70i5lF"
      },
      "source": [
        "## Fix missing \n",
        "\n",
        "\n",
        "### Numerical"
      ]
    },
    {
      "cell_type": "code",
      "execution_count": 55,
      "metadata": {
        "id": "b3RVdgX2NEoR"
      },
      "outputs": [],
      "source": [
        "#columns that can be replaced by mean values\n",
        "data_mean = ['weight','sleepAsleepMinutes', 'Εβδομάδες κύησης - v', 'βάρος γέννησης - v', 'μήκος σώματος - v', 'περίμετρος κεφαλής - v', 'ΒΑΡΟΣ ΜΗΤΕΡΑΣ ΠΡΟ ΚΥΗΣΗΣ - v',\\\n",
        "             'ΠΡΟΣΛΗΨΗ ΒΑΡΟΥΣ ΚΑΤΑ ΤΗΝ ΕΓΚΥΜΟΣΥΝΗ - v', 'ΔΙΑΡΚΕΙΑ  θΗΛΑΣΜΟΥ ΣΕ ΜΗΝΕΣ - v', 'ΔΙΑΡΚΕΙΑ ΑΠΟΚΛΕΙΣΤΙΚΟΥ ΘΗΛΑΣΜΟΥ (ΜΗΝΕΣ): - v', 'ΔΙΑΡΚΕΙΑ ΜΙΚΤΟΥ ΘΗΛΑΣΜΟΥ (ΜΗΝΕΣ): - v',\\\n",
        "             'ΗΛΙΚΙΑ ΜΗΤΡΟΣ - v', 'ΒΑΡΟΣ ΜΗΤΡΟΣ - v', 'ΥΨΟΣ ΜΗΤΡΟΣ - v', 'ΗΛΙΚΙΑ ΠΑΤΡΟΣ - v', 'ΒΑΡΟΣ ΠΑΤΡΟΣ - v', 'ΥΨΟΣ ΠΑΤΡΟΣ - v', 'ΜΕΣΟΔΙΑΣΤΗΜΑΤΑ ΜΕΤΑΞΥ ΓΕΥΜΑΤΩΝ: - v',\\\n",
        "             'ΑΡΙΘΜΟΣ ΜΙΚΡΟΓΕΥΜΑΤΩΝ / ΣΝΑΚ - v', 'ΟΙΚΟΓΕΝΕΙΑΚΑ ΓΕΥΜΑΤΑ - v', 'ΑΡΙΘΜΟΣ ΚΥΡΙΩΝ ΓΕΥΜΑΤΩΝ - v', 'Ηλικία - v', 'HbA1c - v', 'Chol - v', 'HDL - v', 'LDL - v',\\\n",
        "             'TG - v', 'Lp(a) - v', 'SGOT - v', 'SGPT - v', 'γGT - v', 'FSH - v', 'TSH - v', 'UA - v', '25 (OH) vitamin D - v', 'FreeT4 - v', 'Κορτιζόλη - v', 'Ινσουλίνη - v',\\\n",
        "             'Τεστοστερόνη - v', 'ACTH - v', 'LH - v', 'Οιστραδιόλη - v', 'Γλυκόζη - v', 'Ύψος σε μέτρα - v', 'Βάρος σε κιλά - v',\\\n",
        "             'Score - v', 'Score_psycho - v', 'BMI_Mother', 'BMI_Father', 'Mother_Yp', 'Mother_Aus', 'Mother_Ep', 'Mother_Aut',\\\n",
        "             'sd_Tot', 'sd_Emo', 'sd_Cond', 'sd_Hyper', 'sd_Peer', 'sd_Beh', 'fp_Mon', 'fp_Con', 'fp_Reg', 'fp_Guid', 'fp_Res', 'fp_Press',\\\n",
        "             'Post_Mother_Yp', 'Post_Mother_Aus', 'Post_Mother_Ep', 'Post_Mother_Aut', 'Post_sd_Tot', 'Post_sd_Emo', 'Post_sd_Cond', 'Post_sd_Hyper', 'Post_sd_Peer', 'Post_sd_Beh',\\\n",
        "             'Post_fp_Mon', 'Post_fp_Con', 'Post_fp_Reg', 'Post_fp_Guid', 'Post_fp_Res', 'Post_fp_Press']"
      ]
    },
    {
      "cell_type": "code",
      "execution_count": 56,
      "metadata": {
        "colab": {
          "base_uri": "https://localhost:8080/"
        },
        "id": "rC0EUAVEi_io",
        "outputId": "688e51e4-cdda-45bf-84ae-f97bdd1ccbf0"
      },
      "outputs": [
        {
          "output_type": "stream",
          "name": "stdout",
          "text": [
            "pid :  0\n",
            "timestamp :  0\n",
            "sleepAsleepMinutes :  0\n",
            "distance :  0\n",
            "steps :  0\n",
            "target :  2453\n",
            "weight :  2596\n",
            "home :  2535\n",
            "junk :  2581\n",
            "ΙΚΤΕΡΟΣ - v :  1369\n",
            "ΥΠΟΓΛΥΚΑΙΜΙΑ - v :  1369\n",
            "ΠΑΡΑΜΟΝΗ ΣΕ ΜΕΝ / ΜΑΦ - v :  1369\n",
            "HbA1c - v :  1469\n",
            "Chol - v :  1369\n",
            "HDL - v :  1369\n",
            "LDL - v :  1369\n",
            "TG - v :  1369\n",
            "Lp(a) - v :  1369\n",
            "SGOT - v :  1369\n",
            "SGPT - v :  1369\n",
            "γGT - v :  1369\n",
            "FSH - v :  1457\n",
            "TSH - v :  1465\n",
            "UA - v :  1513\n",
            "25 (OH) vitamin D - v :  1369\n",
            "FreeT4 - v :  1465\n",
            "Κορτιζόλη - v :  1369\n",
            "Ινσουλίνη - v :  1425\n",
            "Τεστοστερόνη - v :  1369\n",
            "ACTH - v :  1457\n",
            "LH - v :  1457\n",
            "Οιστραδιόλη - v :  1457\n",
            "Γλυκόζη - v :  1369\n",
            "ΗΛΙΚΙΑ ΜΗΤΡΟΣ - v :  1369\n",
            "ΒΑΡΟΣ ΜΗΤΡΟΣ - v :  1369\n",
            "ΥΨΟΣ ΜΗΤΡΟΣ - v :  1369\n",
            "ΝΟΣΗΜΑΤΑ ΜΗΤΡΟΣ - v :  1369\n",
            "ΗΛΙΚΙΑ ΠΑΤΡΟΣ - v :  1369\n",
            "ΒΑΡΟΣ ΠΑΤΡΟΣ - v :  1369\n",
            "ΥΨΟΣ ΠΑΤΡΟΣ - v :  1369\n",
            "ΝΟΣΗΜΑΤΑ ΠΑΤΡΟΣ - v :  1369\n",
            "ΑΔΕΛΦΙΑ - v :  1369\n",
            "Score - v :  1437\n",
            "ΜΕΣΟΔΙΑΣΤΗΜΑΤΑ ΜΕΤΑΞΥ ΓΕΥΜΑΤΩΝ: - v :  1369\n",
            "ΑΡΙΘΜΟΣ ΜΙΚΡΟΓΕΥΜΑΤΩΝ / ΣΝΑΚ - v :  1369\n",
            "Πόσες ώρες περίπου παίζει βιντεοπαιχνίδια  το παιδί σας τις καθημερινές; - v :  1369\n",
            "Πόσες ώρες περίπου την ημέρα (Σαββατοκύριακο ή αργίες)  πέρασε το παιδί σας μπροστά σε οθόνες; (π.χ. τηλεόραση, τάμπλετ, κινητό) - v :  1369\n",
            "Πόσο συχνά τρώει το παιδί σας ψάρια ή θαλασσινά; - v :  1369\n",
            "Πόσες ώρες την ημέρα περίπου κοιμάται το παιδί σας (μέσος όρος); - v :  1369\n",
            "Πόσες ώρες περίπου παίζει βιντεοπαιχνίδια το παιδί σας τα Σαββατοκύριακα; - v :  1369\n",
            "Πόσες φορές την εβδομάδα το παιδί σας είχε δυσκολίες στον ύπνο (π.χ. αϋπνία, δυσκολία στην έναρξη του ύπνου, συχνά ξυπνήματα, τρίξιμο δοντιών); - v :  1369\n",
            "Πόσο συχνά χρησιμοποιείτε ελαιόλαδο στο μαγείρεμα; - v :  1369\n",
            "Το παιδί μου ζητάει συνεχώς φαγητό - v :  1369\n",
            "Πόσο συχνά τρώει το παιδί σας όσπρια; - v :  1369\n",
            "Πόσο συχνά χρησιμοποιείτε βούτυρο; - v :  1369\n",
            "Ακόμη κι αν έχει χορτάσει, το παιδί μου βρίσκει χώρο για το αγαπημένο του φαγητό - v :  1369\n",
            "Πόσο συχνά χρησιμοποιείτε άλλα φυτικά έλαια στο μαγείρεμα; - v :  1369\n",
            "Εάν είχε την επιλογή, το παιδί μου θα έτρωγε την περισσότερη ώρα της ημέρας - v :  1369\n",
            "Πόσο συχνά τρώει το παιδί σας ξηρούς καρπούς (μια μερίδα αντιστοιχεί σε μια χούφτα ξηρών καρπών (π.χ. 18 αμύγδαλα, 6 ολόκληρα καρύδια, 3 κουταλιές της σούπας ηλιόσπορους)  ή προϊόντα τους  όπως ταχίνι, φυστικοβούτυρο κ.ά. (μια μερίδα αντιστοιχεί σε 1½  κουταλιά της σούπας των 15ml ή 25γρ. π.χ. ταχίνι) - v :  1369\n",
            "Πόσο συχνά χρησιμοποιείτε μαργαρίνη; - v :  1369\n",
            "Πόσες μερίδες φρούτων καταναλώνει το παιδί σας (μέσος όρος); - v :  1369\n",
            "Πόσες μερίδες λαχανικών (ωμών ή βραστών ή στον ατμό ή ψητών) καταναλώνει το παιδί σας (μέσος όρος); - v :  1369\n",
            "Πόσες μερίδες γαλακτοκομικών (ένα ποτήρι γάλα των 250ml, ένα κεσεδάκι γιαούρτι των 200γρ, μια φέτα τυρί του τοστ)  καταναλώνει  το παιδί σας (μέσος όρος); - v :  1369\n",
            "Πόσες μερίδες δημητριακών καταναλώνει  το παιδί σας (μέσος όρος); - v :  1369\n",
            "Από τις παραπάνω  μερίδες δημητριακών που καταναλώνει συνήθως το παιδί σας ημερησίως πόσες περιέχουν δημητριακά ολικής άλεσης όπως τοστ ολικής άλεσης, ψωμί ολικής άλεσης  ή πολύσπορο, παξιμάδια ολικής άλεσης, ζυμαρικά ολικής άλεσης, ποπ κορν, δημητριακά πρωινού με περιεκτικότητα σε φυτικές ίνες > 3γρ / 100γρ προϊόντος: - v :  1369\n",
            "Πόσο συχνά  καταναλώνει το παιδί σας λευκό κρέας (κοτόπουλο, γαλοπούλα, πάπια, κουνέλι, κυνήγι); - v :  1369\n",
            "Πόσο συχνά  καταναλώνει το παιδί σας κόκκινο κρέας (μοσχάρι, χοιρινό, κατσίκι, αρνί); - v :  1369\n",
            "Πόσες φορές την εβδομάδα κατανάλωσε το παιδί σας επεξεργασμένο κρέας (π.χ. μια φέτα ζαμπόν, μια φέτα γαλοπούλα, μια φέτα σαλάμι, μια φέτα παριζάκι , ένα μεσαίο λουκάνικο) - v :  1369\n",
            "Το παιδί μου έχει μεγάλη όρεξη - v :  1369\n",
            "Πόσο συχνά τρώει το παιδί σας λαδερό φαγητό (π.χ. φασολάκια πράσινα, αρακά, μπριάμ); - v :  1369\n",
            "Το παιδί μου ΔΕΝ χορταίνει εύκολα - v :  1369\n",
            "Το παιδί μου ΔΕΝ αφήνει φαγητό στο πιάτο στο τέλος του γεύματος - v :  1369\n",
            "Πόσο συχνά τρώει το παιδί σας έτοιμο φαγητό ταχυφαγείου (π.χ. πίτα με γύρο, πίτσα); - v :  1369\n",
            "Το παιδί μου απορρίπτει νέα φαγητά στην αρχή - v :  1369\n",
            "Πόσο συχνά καταναλώνει το παιδί σας αυγά (σε οποιαδήποτε μορφή, βραστά, τηγανητά, ομελέτα, σε συνταγές); - v :  1369\n",
            "Το παιδί μου μπορεί να φάει ένα γεύμα αν έχει φάει σνακ λίγο πριν - v :  1369\n",
            "Πόσο συχνά πίνει το παιδί σας  αναψυκτικά τύπου coca cola ή fanta (330ml)  ή χυμούς εμπορίου π.χ. αμίτα  (1 ποτήρι των 250 ml); - v :  1369\n",
            "Το παιδί μου ΔΕΝ ενδιαφέρεται να δοκιμάσει νέα φαγητά - v :  1369\n",
            "Πόσο συχνά τρώει το παιδί σας τυποποιημένα προϊόντα με πολλές θερμίδες (δηλαδή >250kcal ανά 100γρ. προϊόντος) και υψηλά σε απλά σάκχαρα (δηλαδή με σάκχαρα > 22,5γρ. ανά 100γρ προϊόντος) ή υψηλά σε αλάτι (δηλαδή > 1,5γρ. αλατιού ή 0,6γρ νατρίου ανά 100 γρ προϊόντος) (π.χ. 1 σακούλι πατατάκια 70γρ, 1 κρουασάν 100γρ, 1 ντόνατς 100γρ, 1 σοκολάτα 100γρ, ≥ 3 μπισκότα τύπου γεμιστά) - v :  1369\n",
            "Το παιδί μου δύσκολα ικανοποιείται με τα γεύματα - v :  1369\n",
            "ΟΙΚΟΓΕΝΕΙΑΚΑ ΓΕΥΜΑΤΑ - v :  1369\n",
            "Τι είδους άσκηση έκανε το παιδί σας την προηγούμενη βδομάδα; - v :  1369\n",
            "ΡΥΘΜΟΣ ΣΙΤΙΣΗΣ - v :  1369\n",
            "Πόσα λεπτά την ημέρα περίπου ήταν το παιδί σας σωματικά δραστήριο (περπάτημα, ποδήλατο, πατίνι, παιχνίδια με φίλους που απαιτούν σωματική δραστηριότητα, κηπουρική, μαγειρική, δουλειές σπιτιού) - v :  1369\n",
            "Πόσες φορές την εβδομάδα ασκήθηκε (οργανωμένο σπορ) το παιδί σας; - v :  1369\n",
            "ΑΡΙΘΜΟΣ ΚΥΡΙΩΝ ΓΕΥΜΑΤΩΝ - v :  1369\n",
            "Πόσες ώρες περίπου την ημέρα (καθημερινές)  πέρασε το παιδί σας  μπροστά σε οθόνες; (π.χ. τηλεόραση, τάμπλετ, κινητό) - v :  1369\n",
            "ΚΥΗΣΗ - v :  1369\n",
            "Εβδομάδες κύησης - v :  1369\n",
            "βάρος γέννησης - v :  1369\n",
            "μήκος σώματος - v :  1369\n",
            "περίμετρος κεφαλής - v :  1369\n",
            "ΒΑΡΟΣ ΜΗΤΕΡΑΣ ΠΡΟ ΚΥΗΣΗΣ - v :  1369\n",
            "ΠΡΟΣΛΗΨΗ ΒΑΡΟΥΣ ΚΑΤΑ ΤΗΝ ΕΓΚΥΜΟΣΥΝΗ - v :  1369\n",
            "ΚΑΠΝΙΣΜΑ ΠΡΟ ΚΥΗΣΗΣ - v :  1369\n",
            "Σ.Δ. ΚΥΗΣΗΣ - v :  1369\n",
            "IUGR (ενδομήτρια καθυστέρηση αύξησης) - v :  1369\n",
            "ΚΑΠΝΙΣΜΑ ΚΑΤΑ ΤΗΝ ΚΥΗΣΗ - v :  1369\n",
            "ΑΛΛΑ ΠΡΟΒΛΗΜΑΤΑ ΚΑΤΑ ΤΗΝ ΚΥΗΣΗ - v :  1369\n",
            "SGA - v :  1369\n",
            "ΤΟΚΕΤΟΣ - v :  1369\n",
            "ΘΗΛΑΣΜΟΣ - v :  1369\n",
            "ΔΙΑΡΚΕΙΑ  θΗΛΑΣΜΟΥ ΣΕ ΜΗΝΕΣ - v :  1437\n",
            "ΑΛΛΕΡΓΙΕΣ - v :  1369\n",
            "ΔΙΑΡΚΕΙΑ ΑΠΟΚΛΕΙΣΤΙΚΟΥ ΘΗΛΑΣΜΟΥ (ΜΗΝΕΣ): - v :  1437\n",
            "ΔΙΑΡΚΕΙΑ ΜΙΚΤΟΥ ΘΗΛΑΣΜΟΥ (ΜΗΝΕΣ): - v :  1437\n",
            "ΦΑΡΜΑΚΑ / ΒΙΤΑΜΙΝΕΣ / ΣΥΜΠΛΗΡΩΜΑΤΑ - v :  1369\n",
            "Χρόνια νοσήματα - v :  1369\n",
            "Συγγενή νοσήματα - v :  1369\n",
            "ΝΟΣΗΛΕΙΕΣ - v :  1369\n",
            "Score_psycho - v :  1437\n",
            "Φύλο - v :  1437\n",
            "Ηλικία - v :  1437\n",
            "Ύψος σε μέτρα - v :  1437\n",
            "Βάρος σε κιλά - v :  1437\n",
            "Με βάση το ύψος σας και το σωματικό σας βάρος, θεωρείτε πως είστε - v :  1437\n",
            "Ποια είναι η οικογενειακή σας κατάσταση; - v :  1437\n",
            "Ποια είναι η εθνικότητά σας*; - v :  1437\n",
            "Ποιο είναι το μορφωτικό σας επίπεδο; - v :  1437\n",
            "Ποια είναι η εργασία σας; (σε περίπτωση συνταξιοδότησης σημειώνετε την απασχόληση πριν από τη συνταξιοδότηση) - v :  1437\n",
            "Είστε ικανοποιημένος με το εισόδημά σας; - v :  1437\n",
            "Ποιο είναι το ακαθάριστο ετήσιο εισόδημά σας; (η ερώτηση αυτή είναι προαιρετική) - v :  1437\n",
            "Είστε καπνιστής; - v :  1437\n",
            "Το οικογενειακό σας εισόδημα καλύπτει τις ανάγκες σας; - v :  1437\n",
            "Ασκείστε; Πόσο συχνά; - v :  1437\n",
            "Καταναλώνετε αλκοολούχα ποτά; - v :  1437\n",
            "Νοσείτε από κάποια χρόνια ασθένεια (πχ. Υπέρταση, Δυσλιπιδαιμία, Διαβήτη,); - v :  1437\n",
            "Πόσο καλή είναι η υγεία σας; - v :  1437\n",
            "BMI_Mother :  2297\n",
            "BMI_Father :  2297\n",
            "Mother_Yp :  1369\n",
            "Mother_Aus :  1369\n",
            "Mother_Ep :  1369\n",
            "Mother_Aut :  1369\n",
            "sd_Tot :  1369\n",
            "sd_Emo :  1369\n",
            "sd_Cond :  1369\n",
            "sd_Hyper :  1369\n",
            "sd_Peer :  1369\n",
            "sd_Beh :  1369\n",
            "fp_Mon :  1369\n",
            "fp_Con :  1369\n",
            "fp_Reg :  1369\n",
            "fp_Guid :  1369\n",
            "fp_Res :  1369\n",
            "fp_Press :  1369\n",
            "Post_Mother_Yp :  2105\n",
            "Post_Mother_Aus :  2105\n",
            "Post_Mother_Ep :  2105\n",
            "Post_Mother_Aut :  2105\n",
            "Post_sd_Tot :  2105\n",
            "Post_sd_Emo :  2105\n",
            "Post_sd_Cond :  2105\n",
            "Post_sd_Hyper :  2105\n",
            "Post_sd_Peer :  2105\n",
            "Post_sd_Beh :  2105\n",
            "Post_fp_Mon :  2227\n",
            "Post_fp_Con :  2227\n",
            "Post_fp_Reg :  2227\n",
            "Post_fp_Guid :  2227\n",
            "Post_fp_Res :  2227\n",
            "Post_fp_Press :  2227\n",
            "\n",
            "\n",
            "pid :  0\n",
            "timestamp :  0\n",
            "sleepAsleepMinutes :  0\n",
            "distance :  0\n",
            "steps :  0\n",
            "target :  2453\n",
            "weight :  0\n",
            "home :  2535\n",
            "junk :  2581\n",
            "ΙΚΤΕΡΟΣ - v :  1369\n",
            "ΥΠΟΓΛΥΚΑΙΜΙΑ - v :  1369\n",
            "ΠΑΡΑΜΟΝΗ ΣΕ ΜΕΝ / ΜΑΦ - v :  1369\n",
            "HbA1c - v :  0\n",
            "Chol - v :  0\n",
            "HDL - v :  0\n",
            "LDL - v :  0\n",
            "TG - v :  0\n",
            "Lp(a) - v :  0\n",
            "SGOT - v :  0\n",
            "SGPT - v :  0\n",
            "γGT - v :  0\n",
            "FSH - v :  0\n",
            "TSH - v :  0\n",
            "UA - v :  0\n",
            "25 (OH) vitamin D - v :  0\n",
            "FreeT4 - v :  0\n",
            "Κορτιζόλη - v :  0\n",
            "Ινσουλίνη - v :  0\n",
            "Τεστοστερόνη - v :  0\n",
            "ACTH - v :  0\n",
            "LH - v :  0\n",
            "Οιστραδιόλη - v :  0\n",
            "Γλυκόζη - v :  0\n",
            "ΗΛΙΚΙΑ ΜΗΤΡΟΣ - v :  0\n",
            "ΒΑΡΟΣ ΜΗΤΡΟΣ - v :  0\n",
            "ΥΨΟΣ ΜΗΤΡΟΣ - v :  0\n",
            "ΝΟΣΗΜΑΤΑ ΜΗΤΡΟΣ - v :  1369\n",
            "ΗΛΙΚΙΑ ΠΑΤΡΟΣ - v :  0\n",
            "ΒΑΡΟΣ ΠΑΤΡΟΣ - v :  0\n",
            "ΥΨΟΣ ΠΑΤΡΟΣ - v :  0\n",
            "ΝΟΣΗΜΑΤΑ ΠΑΤΡΟΣ - v :  1369\n",
            "ΑΔΕΛΦΙΑ - v :  1369\n",
            "Score - v :  0\n",
            "ΜΕΣΟΔΙΑΣΤΗΜΑΤΑ ΜΕΤΑΞΥ ΓΕΥΜΑΤΩΝ: - v :  0\n",
            "ΑΡΙΘΜΟΣ ΜΙΚΡΟΓΕΥΜΑΤΩΝ / ΣΝΑΚ - v :  0\n",
            "Πόσες ώρες περίπου παίζει βιντεοπαιχνίδια  το παιδί σας τις καθημερινές; - v :  1369\n",
            "Πόσες ώρες περίπου την ημέρα (Σαββατοκύριακο ή αργίες)  πέρασε το παιδί σας μπροστά σε οθόνες; (π.χ. τηλεόραση, τάμπλετ, κινητό) - v :  1369\n",
            "Πόσο συχνά τρώει το παιδί σας ψάρια ή θαλασσινά; - v :  1369\n",
            "Πόσες ώρες την ημέρα περίπου κοιμάται το παιδί σας (μέσος όρος); - v :  1369\n",
            "Πόσες ώρες περίπου παίζει βιντεοπαιχνίδια το παιδί σας τα Σαββατοκύριακα; - v :  1369\n",
            "Πόσες φορές την εβδομάδα το παιδί σας είχε δυσκολίες στον ύπνο (π.χ. αϋπνία, δυσκολία στην έναρξη του ύπνου, συχνά ξυπνήματα, τρίξιμο δοντιών); - v :  1369\n",
            "Πόσο συχνά χρησιμοποιείτε ελαιόλαδο στο μαγείρεμα; - v :  1369\n",
            "Το παιδί μου ζητάει συνεχώς φαγητό - v :  1369\n",
            "Πόσο συχνά τρώει το παιδί σας όσπρια; - v :  1369\n",
            "Πόσο συχνά χρησιμοποιείτε βούτυρο; - v :  1369\n",
            "Ακόμη κι αν έχει χορτάσει, το παιδί μου βρίσκει χώρο για το αγαπημένο του φαγητό - v :  1369\n",
            "Πόσο συχνά χρησιμοποιείτε άλλα φυτικά έλαια στο μαγείρεμα; - v :  1369\n",
            "Εάν είχε την επιλογή, το παιδί μου θα έτρωγε την περισσότερη ώρα της ημέρας - v :  1369\n",
            "Πόσο συχνά τρώει το παιδί σας ξηρούς καρπούς (μια μερίδα αντιστοιχεί σε μια χούφτα ξηρών καρπών (π.χ. 18 αμύγδαλα, 6 ολόκληρα καρύδια, 3 κουταλιές της σούπας ηλιόσπορους)  ή προϊόντα τους  όπως ταχίνι, φυστικοβούτυρο κ.ά. (μια μερίδα αντιστοιχεί σε 1½  κουταλιά της σούπας των 15ml ή 25γρ. π.χ. ταχίνι) - v :  1369\n",
            "Πόσο συχνά χρησιμοποιείτε μαργαρίνη; - v :  1369\n",
            "Πόσες μερίδες φρούτων καταναλώνει το παιδί σας (μέσος όρος); - v :  1369\n",
            "Πόσες μερίδες λαχανικών (ωμών ή βραστών ή στον ατμό ή ψητών) καταναλώνει το παιδί σας (μέσος όρος); - v :  1369\n",
            "Πόσες μερίδες γαλακτοκομικών (ένα ποτήρι γάλα των 250ml, ένα κεσεδάκι γιαούρτι των 200γρ, μια φέτα τυρί του τοστ)  καταναλώνει  το παιδί σας (μέσος όρος); - v :  1369\n",
            "Πόσες μερίδες δημητριακών καταναλώνει  το παιδί σας (μέσος όρος); - v :  1369\n",
            "Από τις παραπάνω  μερίδες δημητριακών που καταναλώνει συνήθως το παιδί σας ημερησίως πόσες περιέχουν δημητριακά ολικής άλεσης όπως τοστ ολικής άλεσης, ψωμί ολικής άλεσης  ή πολύσπορο, παξιμάδια ολικής άλεσης, ζυμαρικά ολικής άλεσης, ποπ κορν, δημητριακά πρωινού με περιεκτικότητα σε φυτικές ίνες > 3γρ / 100γρ προϊόντος: - v :  1369\n",
            "Πόσο συχνά  καταναλώνει το παιδί σας λευκό κρέας (κοτόπουλο, γαλοπούλα, πάπια, κουνέλι, κυνήγι); - v :  1369\n",
            "Πόσο συχνά  καταναλώνει το παιδί σας κόκκινο κρέας (μοσχάρι, χοιρινό, κατσίκι, αρνί); - v :  1369\n",
            "Πόσες φορές την εβδομάδα κατανάλωσε το παιδί σας επεξεργασμένο κρέας (π.χ. μια φέτα ζαμπόν, μια φέτα γαλοπούλα, μια φέτα σαλάμι, μια φέτα παριζάκι , ένα μεσαίο λουκάνικο) - v :  1369\n",
            "Το παιδί μου έχει μεγάλη όρεξη - v :  1369\n",
            "Πόσο συχνά τρώει το παιδί σας λαδερό φαγητό (π.χ. φασολάκια πράσινα, αρακά, μπριάμ); - v :  1369\n",
            "Το παιδί μου ΔΕΝ χορταίνει εύκολα - v :  1369\n",
            "Το παιδί μου ΔΕΝ αφήνει φαγητό στο πιάτο στο τέλος του γεύματος - v :  1369\n",
            "Πόσο συχνά τρώει το παιδί σας έτοιμο φαγητό ταχυφαγείου (π.χ. πίτα με γύρο, πίτσα); - v :  1369\n",
            "Το παιδί μου απορρίπτει νέα φαγητά στην αρχή - v :  1369\n",
            "Πόσο συχνά καταναλώνει το παιδί σας αυγά (σε οποιαδήποτε μορφή, βραστά, τηγανητά, ομελέτα, σε συνταγές); - v :  1369\n",
            "Το παιδί μου μπορεί να φάει ένα γεύμα αν έχει φάει σνακ λίγο πριν - v :  1369\n",
            "Πόσο συχνά πίνει το παιδί σας  αναψυκτικά τύπου coca cola ή fanta (330ml)  ή χυμούς εμπορίου π.χ. αμίτα  (1 ποτήρι των 250 ml); - v :  1369\n",
            "Το παιδί μου ΔΕΝ ενδιαφέρεται να δοκιμάσει νέα φαγητά - v :  1369\n",
            "Πόσο συχνά τρώει το παιδί σας τυποποιημένα προϊόντα με πολλές θερμίδες (δηλαδή >250kcal ανά 100γρ. προϊόντος) και υψηλά σε απλά σάκχαρα (δηλαδή με σάκχαρα > 22,5γρ. ανά 100γρ προϊόντος) ή υψηλά σε αλάτι (δηλαδή > 1,5γρ. αλατιού ή 0,6γρ νατρίου ανά 100 γρ προϊόντος) (π.χ. 1 σακούλι πατατάκια 70γρ, 1 κρουασάν 100γρ, 1 ντόνατς 100γρ, 1 σοκολάτα 100γρ, ≥ 3 μπισκότα τύπου γεμιστά) - v :  1369\n",
            "Το παιδί μου δύσκολα ικανοποιείται με τα γεύματα - v :  1369\n",
            "ΟΙΚΟΓΕΝΕΙΑΚΑ ΓΕΥΜΑΤΑ - v :  0\n",
            "Τι είδους άσκηση έκανε το παιδί σας την προηγούμενη βδομάδα; - v :  1369\n",
            "ΡΥΘΜΟΣ ΣΙΤΙΣΗΣ - v :  1369\n",
            "Πόσα λεπτά την ημέρα περίπου ήταν το παιδί σας σωματικά δραστήριο (περπάτημα, ποδήλατο, πατίνι, παιχνίδια με φίλους που απαιτούν σωματική δραστηριότητα, κηπουρική, μαγειρική, δουλειές σπιτιού) - v :  1369\n",
            "Πόσες φορές την εβδομάδα ασκήθηκε (οργανωμένο σπορ) το παιδί σας; - v :  1369\n",
            "ΑΡΙΘΜΟΣ ΚΥΡΙΩΝ ΓΕΥΜΑΤΩΝ - v :  0\n",
            "Πόσες ώρες περίπου την ημέρα (καθημερινές)  πέρασε το παιδί σας  μπροστά σε οθόνες; (π.χ. τηλεόραση, τάμπλετ, κινητό) - v :  1369\n",
            "ΚΥΗΣΗ - v :  1369\n",
            "Εβδομάδες κύησης - v :  0\n",
            "βάρος γέννησης - v :  0\n",
            "μήκος σώματος - v :  0\n",
            "περίμετρος κεφαλής - v :  0\n",
            "ΒΑΡΟΣ ΜΗΤΕΡΑΣ ΠΡΟ ΚΥΗΣΗΣ - v :  0\n",
            "ΠΡΟΣΛΗΨΗ ΒΑΡΟΥΣ ΚΑΤΑ ΤΗΝ ΕΓΚΥΜΟΣΥΝΗ - v :  0\n",
            "ΚΑΠΝΙΣΜΑ ΠΡΟ ΚΥΗΣΗΣ - v :  1369\n",
            "Σ.Δ. ΚΥΗΣΗΣ - v :  1369\n",
            "IUGR (ενδομήτρια καθυστέρηση αύξησης) - v :  1369\n",
            "ΚΑΠΝΙΣΜΑ ΚΑΤΑ ΤΗΝ ΚΥΗΣΗ - v :  1369\n",
            "ΑΛΛΑ ΠΡΟΒΛΗΜΑΤΑ ΚΑΤΑ ΤΗΝ ΚΥΗΣΗ - v :  1369\n",
            "SGA - v :  1369\n",
            "ΤΟΚΕΤΟΣ - v :  1369\n",
            "ΘΗΛΑΣΜΟΣ - v :  1369\n",
            "ΔΙΑΡΚΕΙΑ  θΗΛΑΣΜΟΥ ΣΕ ΜΗΝΕΣ - v :  0\n",
            "ΑΛΛΕΡΓΙΕΣ - v :  1369\n",
            "ΔΙΑΡΚΕΙΑ ΑΠΟΚΛΕΙΣΤΙΚΟΥ ΘΗΛΑΣΜΟΥ (ΜΗΝΕΣ): - v :  0\n",
            "ΔΙΑΡΚΕΙΑ ΜΙΚΤΟΥ ΘΗΛΑΣΜΟΥ (ΜΗΝΕΣ): - v :  0\n",
            "ΦΑΡΜΑΚΑ / ΒΙΤΑΜΙΝΕΣ / ΣΥΜΠΛΗΡΩΜΑΤΑ - v :  1369\n",
            "Χρόνια νοσήματα - v :  1369\n",
            "Συγγενή νοσήματα - v :  1369\n",
            "ΝΟΣΗΛΕΙΕΣ - v :  1369\n",
            "Score_psycho - v :  0\n",
            "Φύλο - v :  1437\n",
            "Ηλικία - v :  0\n",
            "Ύψος σε μέτρα - v :  0\n",
            "Βάρος σε κιλά - v :  0\n",
            "Με βάση το ύψος σας και το σωματικό σας βάρος, θεωρείτε πως είστε - v :  1437\n",
            "Ποια είναι η οικογενειακή σας κατάσταση; - v :  1437\n",
            "Ποια είναι η εθνικότητά σας*; - v :  1437\n",
            "Ποιο είναι το μορφωτικό σας επίπεδο; - v :  1437\n",
            "Ποια είναι η εργασία σας; (σε περίπτωση συνταξιοδότησης σημειώνετε την απασχόληση πριν από τη συνταξιοδότηση) - v :  1437\n",
            "Είστε ικανοποιημένος με το εισόδημά σας; - v :  1437\n",
            "Ποιο είναι το ακαθάριστο ετήσιο εισόδημά σας; (η ερώτηση αυτή είναι προαιρετική) - v :  1437\n",
            "Είστε καπνιστής; - v :  1437\n",
            "Το οικογενειακό σας εισόδημα καλύπτει τις ανάγκες σας; - v :  1437\n",
            "Ασκείστε; Πόσο συχνά; - v :  1437\n",
            "Καταναλώνετε αλκοολούχα ποτά; - v :  1437\n",
            "Νοσείτε από κάποια χρόνια ασθένεια (πχ. Υπέρταση, Δυσλιπιδαιμία, Διαβήτη,); - v :  1437\n",
            "Πόσο καλή είναι η υγεία σας; - v :  1437\n",
            "BMI_Mother :  0\n",
            "BMI_Father :  0\n",
            "Mother_Yp :  0\n",
            "Mother_Aus :  0\n",
            "Mother_Ep :  0\n",
            "Mother_Aut :  0\n",
            "sd_Tot :  0\n",
            "sd_Emo :  0\n",
            "sd_Cond :  0\n",
            "sd_Hyper :  0\n",
            "sd_Peer :  0\n",
            "sd_Beh :  0\n",
            "fp_Mon :  0\n",
            "fp_Con :  0\n",
            "fp_Reg :  0\n",
            "fp_Guid :  0\n",
            "fp_Res :  0\n",
            "fp_Press :  0\n",
            "Post_Mother_Yp :  0\n",
            "Post_Mother_Aus :  0\n",
            "Post_Mother_Ep :  0\n",
            "Post_Mother_Aut :  0\n",
            "Post_sd_Tot :  0\n",
            "Post_sd_Emo :  0\n",
            "Post_sd_Cond :  0\n",
            "Post_sd_Hyper :  0\n",
            "Post_sd_Peer :  0\n",
            "Post_sd_Beh :  0\n",
            "Post_fp_Mon :  0\n",
            "Post_fp_Con :  0\n",
            "Post_fp_Reg :  0\n",
            "Post_fp_Guid :  0\n",
            "Post_fp_Res :  0\n",
            "Post_fp_Press :  0\n"
          ]
        }
      ],
      "source": [
        "#Print columns and their missing values\n",
        "for column in data.columns:\n",
        "    print(column,\": \",data[column].isnull().sum())  \n",
        "        \n",
        "data.replace('nan',np.NaN,inplace=True)\n",
        "\n",
        "for col in data_mean:\n",
        "  data[col].fillna(data[col].mean(), inplace=True)\n",
        "\n",
        "print()\n",
        "print()\n",
        "#Print columns and their missing values after removing them\n",
        "for column in data.columns:\n",
        "    print(column,\": \",data[column].isnull().sum())  "
      ]
    },
    {
      "cell_type": "markdown",
      "metadata": {
        "id": "tsT0ZNp2-Kk_"
      },
      "source": [
        "### Categorical\n",
        "\n"
      ]
    },
    {
      "cell_type": "code",
      "execution_count": 57,
      "metadata": {
        "id": "Yu--6OCYXJzl"
      },
      "outputs": [],
      "source": [
        "# Map categorical values\n",
        "probmap = {'Υποθυρεοειδισμος κύησης': 1, 'Θρομβοφιλία': 1, 'Μερική αποκόλληση πλακούντα': 1, '-': 0}\n",
        "data['ΑΛΛΑ ΠΡΟΒΛΗΜΑΤΑ ΚΑΤΑ ΤΗΝ ΚΥΗΣΗ - v'] = data['ΑΛΛΑ ΠΡΟΒΛΗΜΑΤΑ ΚΑΤΑ ΤΗΝ ΚΥΗΣΗ - v'].map(probmap)\n",
        "\n",
        "nmmap = {'Προδιαβήτης': 1, 'Ιστορικό Ca μαστού': 1, '4,5,6': 1, '6': 1, 'Διπολική διαταραχή': 1, '0': 0}\n",
        "data['ΝΟΣΗΜΑΤΑ ΜΗΤΡΟΣ - v'] = data['ΝΟΣΗΜΑΤΑ ΜΗΤΡΟΣ - v'].map(nmmap)\n",
        "\n",
        "npmap = {'1,2': 1, '2': 1, '5': 1, '2,5': 1, 'Νευροεκφυλιστικό νόσημα': 1, '0': 0}\n",
        "data['ΝΟΣΗΜΑΤΑ ΠΑΤΡΟΣ - v'] = data['ΝΟΣΗΜΑΤΑ ΠΑΤΡΟΣ - v'].map(npmap)\n",
        "\n",
        "remap = {'0': 1, '1': 0}\n",
        "data['ΡΥΘΜΟΣ ΣΙΤΙΣΗΣ - v'] = data['ΡΥΘΜΟΣ ΣΙΤΙΣΗΣ - v'].map(remap)"
      ]
    },
    {
      "cell_type": "code",
      "execution_count": 58,
      "metadata": {
        "id": "o-wvaNU9_2KS"
      },
      "outputs": [],
      "source": [
        "data_categ = ['ΚΥΗΣΗ - v', 'ΚΑΠΝΙΣΜΑ ΠΡΟ ΚΥΗΣΗΣ - v', 'Σ.Δ. ΚΥΗΣΗΣ - v', 'IUGR (ενδομήτρια καθυστέρηση αύξησης) - v', 'ΚΑΠΝΙΣΜΑ ΚΑΤΑ ΤΗΝ ΚΥΗΣΗ - v', 'ΑΛΛΑ ΠΡΟΒΛΗΜΑΤΑ ΚΑΤΑ ΤΗΝ ΚΥΗΣΗ - v',\\\n",
        "              'SGA - v', 'ΤΟΚΕΤΟΣ - v', 'ΙΚΤΕΡΟΣ - v', 'ΥΠΟΓΛΥΚΑΙΜΙΑ - v', 'ΠΑΡΑΜΟΝΗ ΣΕ ΜΕΝ / ΜΑΦ - v','ΘΗΛΑΣΜΟΣ - v', 'ΑΛΛΕΡΓΙΕΣ - v',\\\n",
        "              'ΦΑΡΜΑΚΑ / ΒΙΤΑΜΙΝΕΣ / ΣΥΜΠΛΗΡΩΜΑΤΑ - v', 'Χρόνια νοσήματα - v', 'Συγγενή νοσήματα - v', 'ΝΟΣΗΛΕΙΕΣ - v', 'ΝΟΣΗΜΑΤΑ ΜΗΤΡΟΣ - v', 'ΝΟΣΗΜΑΤΑ ΠΑΤΡΟΣ - v',\\\n",
        "              'ΑΔΕΛΦΙΑ - v', 'ΜΕΣΟΔΙΑΣΤΗΜΑΤΑ ΜΕΤΑΞΥ ΓΕΥΜΑΤΩΝ: - v', 'ΑΡΙΘΜΟΣ ΜΙΚΡΟΓΕΥΜΑΤΩΝ / ΣΝΑΚ - v',\\\n",
        "              'Πόσες ώρες περίπου παίζει βιντεοπαιχνίδια  το παιδί σας τις καθημερινές; - v', 'Πόσες ώρες περίπου την ημέρα (Σαββατοκύριακο ή αργίες)  πέρασε το παιδί σας μπροστά σε οθόνες; (π.χ. τηλεόραση, τάμπλετ, κινητό) - v',\\\n",
        "              'Πόσο συχνά τρώει το παιδί σας ψάρια ή θαλασσινά; - v', 'Πόσες ώρες την ημέρα περίπου κοιμάται το παιδί σας (μέσος όρος); - v',\\\n",
        "              'Πόσες ώρες περίπου παίζει βιντεοπαιχνίδια το παιδί σας τα Σαββατοκύριακα; - v', 'Πόσες φορές την εβδομάδα το παιδί σας είχε δυσκολίες στον ύπνο (π.χ. αϋπνία, δυσκολία στην έναρξη του ύπνου, συχνά ξυπνήματα, τρίξιμο δοντιών); - v',\\\n",
        "              'Πόσο συχνά χρησιμοποιείτε ελαιόλαδο στο μαγείρεμα; - v', 'Το παιδί μου ζητάει συνεχώς φαγητό - v', 'Πόσο συχνά τρώει το παιδί σας όσπρια; - v',\\\n",
        "              'Πόσο συχνά χρησιμοποιείτε βούτυρο; - v', 'Ακόμη κι αν έχει χορτάσει, το παιδί μου βρίσκει χώρο για το αγαπημένο του φαγητό - v', 'Πόσο συχνά χρησιμοποιείτε άλλα φυτικά έλαια στο μαγείρεμα; - v',\\\n",
        "              'Εάν είχε την επιλογή, το παιδί μου θα έτρωγε την περισσότερη ώρα της ημέρας - v', 'Πόσο συχνά τρώει το παιδί σας ξηρούς καρπούς (μια μερίδα αντιστοιχεί σε μια χούφτα ξηρών καρπών (π.χ. 18 αμύγδαλα, 6 ολόκληρα καρύδια, 3 κουταλιές της σούπας ηλιόσπορους)  ή προϊόντα τους  όπως ταχίνι, φυστικοβούτυρο κ.ά. (μια μερίδα αντιστοιχεί σε 1½  κουταλιά της σούπας των 15ml ή 25γρ. π.χ. ταχίνι) - v',\\\n",
        "              'Πόσο συχνά χρησιμοποιείτε μαργαρίνη; - v', 'Πόσες μερίδες φρούτων καταναλώνει το παιδί σας (μέσος όρος); - v', 'Πόσες μερίδες λαχανικών (ωμών ή βραστών ή στον ατμό ή ψητών) καταναλώνει το παιδί σας (μέσος όρος); - v',\\\n",
        "              'Πόσες μερίδες γαλακτοκομικών (ένα ποτήρι γάλα των 250ml, ένα κεσεδάκι γιαούρτι των 200γρ, μια φέτα τυρί του τοστ)  καταναλώνει  το παιδί σας (μέσος όρος); - v',\\\n",
        "              'Πόσες μερίδες δημητριακών καταναλώνει  το παιδί σας (μέσος όρος); - v', 'Από τις παραπάνω  μερίδες δημητριακών που καταναλώνει συνήθως το παιδί σας ημερησίως πόσες περιέχουν δημητριακά ολικής άλεσης όπως τοστ ολικής άλεσης, ψωμί ολικής άλεσης  ή πολύσπορο, παξιμάδια ολικής άλεσης, ζυμαρικά ολικής άλεσης, ποπ κορν, δημητριακά πρωινού με περιεκτικότητα σε φυτικές ίνες > 3γρ / 100γρ προϊόντος: - v',\\\n",
        "              'Πόσο συχνά  καταναλώνει το παιδί σας λευκό κρέας (κοτόπουλο, γαλοπούλα, πάπια, κουνέλι, κυνήγι); - v', 'Πόσο συχνά  καταναλώνει το παιδί σας κόκκινο κρέας (μοσχάρι, χοιρινό, κατσίκι, αρνί); - v',\\\n",
        "              'Πόσες φορές την εβδομάδα κατανάλωσε το παιδί σας επεξεργασμένο κρέας (π.χ. μια φέτα ζαμπόν, μια φέτα γαλοπούλα, μια φέτα σαλάμι, μια φέτα παριζάκι , ένα μεσαίο λουκάνικο) - v',\\\n",
        "              'Το παιδί μου έχει μεγάλη όρεξη - v', 'Πόσο συχνά τρώει το παιδί σας λαδερό φαγητό (π.χ. φασολάκια πράσινα, αρακά, μπριάμ); - v',\\\n",
        "              'Το παιδί μου ΔΕΝ χορταίνει εύκολα - v', 'Το παιδί μου ΔΕΝ αφήνει φαγητό στο πιάτο στο τέλος του γεύματος - v', 'Πόσο συχνά τρώει το παιδί σας έτοιμο φαγητό ταχυφαγείου (π.χ. πίτα με γύρο, πίτσα); - v',\\\n",
        "              'Το παιδί μου απορρίπτει νέα φαγητά στην αρχή - v', 'Πόσο συχνά καταναλώνει το παιδί σας αυγά (σε οποιαδήποτε μορφή, βραστά, τηγανητά, ομελέτα, σε συνταγές); - v', 'Το παιδί μου μπορεί να φάει ένα γεύμα αν έχει φάει σνακ λίγο πριν - v',\\\n",
        "              'Πόσο συχνά πίνει το παιδί σας  αναψυκτικά τύπου coca cola ή fanta (330ml)  ή χυμούς εμπορίου π.χ. αμίτα  (1 ποτήρι των 250 ml); - v', 'Το παιδί μου ΔΕΝ ενδιαφέρεται να δοκιμάσει νέα φαγητά - v',\\\n",
        "              'Πόσο συχνά τρώει το παιδί σας τυποποιημένα προϊόντα με πολλές θερμίδες (δηλαδή >250kcal ανά 100γρ. προϊόντος) και υψηλά σε απλά σάκχαρα (δηλαδή με σάκχαρα > 22,5γρ. ανά 100γρ προϊόντος) ή υψηλά σε αλάτι (δηλαδή > 1,5γρ. αλατιού ή 0,6γρ νατρίου ανά 100 γρ προϊόντος) (π.χ. 1 σακούλι πατατάκια 70γρ, 1 κρουασάν 100γρ, 1 ντόνατς 100γρ, 1 σοκολάτα 100γρ, ≥ 3 μπισκότα τύπου γεμιστά) - v',\\\n",
        "              'Το παιδί μου δύσκολα ικανοποιείται με τα γεύματα - v', 'ΟΙΚΟΓΕΝΕΙΑΚΑ ΓΕΥΜΑΤΑ - v', 'Τι είδους άσκηση έκανε το παιδί σας την προηγούμενη βδομάδα; - v', 'ΡΥΘΜΟΣ ΣΙΤΙΣΗΣ - v',\\\n",
        "              'Πόσα λεπτά την ημέρα περίπου ήταν το παιδί σας σωματικά δραστήριο (περπάτημα, ποδήλατο, πατίνι, παιχνίδια με φίλους που απαιτούν σωματική δραστηριότητα, κηπουρική, μαγειρική, δουλειές σπιτιού) - v',\\\n",
        "              'Πόσες φορές την εβδομάδα ασκήθηκε (οργανωμένο σπορ) το παιδί σας; - v', 'ΑΡΙΘΜΟΣ ΚΥΡΙΩΝ ΓΕΥΜΑΤΩΝ - v', 'Πόσες ώρες περίπου την ημέρα (καθημερινές)  πέρασε το παιδί σας  μπροστά σε οθόνες; (π.χ. τηλεόραση, τάμπλετ, κινητό) - v',\\\n",
        "              'Φύλο - v', 'Ηλικία - v', 'Με βάση το ύψος σας και το σωματικό σας βάρος, θεωρείτε πως είστε - v', 'Ποια είναι η οικογενειακή σας κατάσταση; - v',\\\n",
        "              'Ποια είναι η εθνικότητά σας*; - v', 'Ποιο είναι το μορφωτικό σας επίπεδο; - v',\\\n",
        "              'Ποια είναι η εργασία σας; (σε περίπτωση συνταξιοδότησης σημειώνετε την απασχόληση πριν από τη συνταξιοδότηση) - v', 'Είστε ικανοποιημένος με το εισόδημά σας; - v',\\\n",
        "              'Ποιο είναι το ακαθάριστο ετήσιο εισόδημά σας; (η ερώτηση αυτή είναι προαιρετική) - v', 'Είστε καπνιστής; - v', 'Το οικογενειακό σας εισόδημα καλύπτει τις ανάγκες σας; - v',\\\n",
        "              'Ασκείστε; Πόσο συχνά; - v', 'Καταναλώνετε αλκοολούχα ποτά; - v', 'Νοσείτε από κάποια χρόνια ασθένεια (πχ. Υπέρταση, Δυσλιπιδαιμία, Διαβήτη,); - v', 'Πόσο καλή είναι η υγεία σας; - v']"
      ]
    },
    {
      "cell_type": "code",
      "execution_count": 59,
      "metadata": {
        "id": "JYjb83DE-1SL"
      },
      "outputs": [],
      "source": [
        "#replace with the most frequent value\n",
        "for col in data_categ:\n",
        "  data = data.fillna(data[col].value_counts().index[0])"
      ]
    },
    {
      "cell_type": "code",
      "execution_count": 60,
      "metadata": {
        "colab": {
          "base_uri": "https://localhost:8080/"
        },
        "id": "QRZJ9ZqqztOA",
        "outputId": "1dff19e2-b162-4a00-c8ed-78a6392bce61"
      },
      "outputs": [
        {
          "output_type": "stream",
          "name": "stdout",
          "text": [
            "Score - v float64\n",
            "Score_psycho - v float64\n"
          ]
        }
      ],
      "source": [
        "for name,col_type in zip(data.columns,data.dtypes):\n",
        "    if (\"Score\" in name):\n",
        "      print (name,col_type)"
      ]
    },
    {
      "cell_type": "markdown",
      "metadata": {
        "id": "adzXM2steLVf"
      },
      "source": [
        "## Get Dummies - One hot encoding"
      ]
    },
    {
      "cell_type": "code",
      "execution_count": 61,
      "metadata": {
        "id": "oROIo-CaeLjo"
      },
      "outputs": [],
      "source": [
        "dum_catg_ftrs = ['target', 'home', 'junk', 'ΑΛΛΑ ΠΡΟΒΛΗΜΑΤΑ ΚΑΤΑ ΤΗΝ ΚΥΗΣΗ - v', 'ΝΟΣΗΜΑΤΑ ΜΗΤΡΟΣ - v', 'ΝΟΣΗΜΑΤΑ ΠΑΤΡΟΣ - v', 'ΚΥΗΣΗ - v', 'ΚΑΠΝΙΣΜΑ ΠΡΟ ΚΥΗΣΗΣ - v',\\\n",
        "                 'Σ.Δ. ΚΥΗΣΗΣ - v', 'IUGR (ενδομήτρια καθυστέρηση αύξησης) - v', 'ΚΑΠΝΙΣΜΑ ΚΑΤΑ ΤΗΝ ΚΥΗΣΗ - v', 'ΑΛΛΑ ΠΡΟΒΛΗΜΑΤΑ ΚΑΤΑ ΤΗΝ ΚΥΗΣΗ - v', 'SGA - v', 'ΤΟΚΕΤΟΣ - v',\\\n",
        "                 'ΙΚΤΕΡΟΣ - v', 'ΥΠΟΓΛΥΚΑΙΜΙΑ - v', 'ΠΑΡΑΜΟΝΗ ΣΕ ΜΕΝ / ΜΑΦ - v', 'ΘΗΛΑΣΜΟΣ - v', 'ΑΛΛΕΡΓΙΕΣ - v', 'ΦΑΡΜΑΚΑ / ΒΙΤΑΜΙΝΕΣ / ΣΥΜΠΛΗΡΩΜΑΤΑ - v', 'Χρόνια νοσήματα - v',\\\n",
        "                 'Συγγενή νοσήματα - v', 'ΝΟΣΗΛΕΙΕΣ - v', 'ΝΟΣΗΜΑΤΑ ΜΗΤΡΟΣ - v', 'ΝΟΣΗΜΑΤΑ ΠΑΤΡΟΣ - v', 'Τι είδους άσκηση έκανε το παιδί σας την προηγούμενη βδομάδα; - v',\\\n",
        "                 'Φύλο - v', 'Ποια είναι η οικογενειακή σας κατάσταση; - v', 'Ποια είναι η εθνικότητά σας*; - v', 'Ποιο είναι το μορφωτικό σας επίπεδο; - v',\\\n",
        "                 'Ποια είναι η εργασία σας; (σε περίπτωση συνταξιοδότησης σημειώνετε την απασχόληση πριν από τη συνταξιοδότηση) - v', 'Είστε καπνιστής; - v',\\\n",
        "                 'Νοσείτε από κάποια χρόνια ασθένεια (πχ. Υπέρταση, Δυσλιπιδαιμία, Διαβήτη,); - v']\n",
        "\n",
        "data = pd.get_dummies(data, columns=dum_catg_ftrs)"
      ]
    },
    {
      "cell_type": "markdown",
      "metadata": {
        "id": "ad3lZSK31uW9"
      },
      "source": [
        "# Create classes from steps feature"
      ]
    },
    {
      "cell_type": "code",
      "execution_count": 62,
      "metadata": {
        "id": "p1Q9CnQf130N"
      },
      "outputs": [],
      "source": [
        "# 0 -5000 steps => Class 0 (No exercise)\n",
        "# 5000 - 10000 steps => Class 1 (A little exercise)\n",
        "# >=10000 steps => Class 2 (Lots of exercise)\n",
        "\n",
        "data.loc[data[\"steps\"] < 5000, \"steps\"] = 0\n",
        "data.loc[((data[\"steps\"] > 5000) & (data[\"steps\"] < 10000)), \"steps\"] = 1\n",
        "data.loc[(data[\"steps\"] >= 10000), \"steps\"] = 2"
      ]
    },
    {
      "cell_type": "code",
      "execution_count": 63,
      "metadata": {
        "colab": {
          "base_uri": "https://localhost:8080/"
        },
        "id": "zaLWYDwP4xfQ",
        "outputId": "06304c41-621e-4ec4-87ad-e6ff3ec27f4b"
      },
      "outputs": [
        {
          "output_type": "stream",
          "name": "stdout",
          "text": [
            "[0 2 1]\n",
            "steps\n",
            "0    1762\n",
            "1     384\n",
            "2     503\n",
            "dtype: int64\n"
          ]
        }
      ],
      "source": [
        "print(data[\"steps\"].unique())\n",
        "print(data.groupby('steps').size())"
      ]
    },
    {
      "cell_type": "markdown",
      "metadata": {
        "id": "QS0W7cggnLiN"
      },
      "source": [
        "### Examine correlation between features"
      ]
    },
    {
      "cell_type": "code",
      "execution_count": 64,
      "metadata": {
        "colab": {
          "base_uri": "https://localhost:8080/",
          "height": 70
        },
        "id": "nWtnaw46nMAw",
        "outputId": "da4319b9-b7ab-48e1-e2d6-20b455aab91b"
      },
      "outputs": [
        {
          "output_type": "execute_result",
          "data": {
            "text/plain": [
              "\"\\nplt.figure(figsize=(20, 8))\\n# Store heatmap object in a variable to easily access it when you want to include more features (such as title).\\n# Set the range of values to be displayed on the colormap from 0 to 1, and set the annotation to True to display the correlation values on the heatmap.\\nheatmap = sns.heatmap(data.corr(), vmin=0, vmax=1, annot=True)\\n# Give a title to the heatmap. Pad defines the distance of the title from the top of the heatmap.\\nheatmap.set_title('Correlation Heatmap', fontdict={'fontsize':12}, pad=12);\\n\""
            ],
            "application/vnd.google.colaboratory.intrinsic+json": {
              "type": "string"
            }
          },
          "metadata": {},
          "execution_count": 64
        }
      ],
      "source": [
        "\"\"\"\n",
        "plt.figure(figsize=(20, 8))\n",
        "# Store heatmap object in a variable to easily access it when you want to include more features (such as title).\n",
        "# Set the range of values to be displayed on the colormap from 0 to 1, and set the annotation to True to display the correlation values on the heatmap.\n",
        "heatmap = sns.heatmap(data.corr(), vmin=0, vmax=1, annot=True)\n",
        "# Give a title to the heatmap. Pad defines the distance of the title from the top of the heatmap.\n",
        "heatmap.set_title('Correlation Heatmap', fontdict={'fontsize':12}, pad=12);\n",
        "\"\"\""
      ]
    },
    {
      "cell_type": "markdown",
      "metadata": {
        "id": "RaotiJcB4rB5"
      },
      "source": [
        "## Check again for missing values"
      ]
    },
    {
      "cell_type": "code",
      "execution_count": 65,
      "metadata": {
        "colab": {
          "base_uri": "https://localhost:8080/"
        },
        "id": "0E52vGD_4xAQ",
        "outputId": "29a6f723-87a7-4f26-a285-07096609877d"
      },
      "outputs": [
        {
          "output_type": "stream",
          "name": "stdout",
          "text": [
            "pid :  0\n",
            "timestamp :  0\n",
            "sleepAsleepMinutes :  0\n",
            "distance :  0\n",
            "steps :  0\n",
            "weight :  0\n",
            "HbA1c - v :  0\n",
            "Chol - v :  0\n",
            "HDL - v :  0\n",
            "LDL - v :  0\n",
            "TG - v :  0\n",
            "Lp(a) - v :  0\n",
            "SGOT - v :  0\n",
            "SGPT - v :  0\n",
            "γGT - v :  0\n",
            "FSH - v :  0\n",
            "TSH - v :  0\n",
            "UA - v :  0\n",
            "25 (OH) vitamin D - v :  0\n",
            "FreeT4 - v :  0\n",
            "Κορτιζόλη - v :  0\n",
            "Ινσουλίνη - v :  0\n",
            "Τεστοστερόνη - v :  0\n",
            "ACTH - v :  0\n",
            "LH - v :  0\n",
            "Οιστραδιόλη - v :  0\n",
            "Γλυκόζη - v :  0\n",
            "ΗΛΙΚΙΑ ΜΗΤΡΟΣ - v :  0\n",
            "ΒΑΡΟΣ ΜΗΤΡΟΣ - v :  0\n",
            "ΥΨΟΣ ΜΗΤΡΟΣ - v :  0\n",
            "ΗΛΙΚΙΑ ΠΑΤΡΟΣ - v :  0\n",
            "ΒΑΡΟΣ ΠΑΤΡΟΣ - v :  0\n",
            "ΥΨΟΣ ΠΑΤΡΟΣ - v :  0\n",
            "ΑΔΕΛΦΙΑ - v :  0\n",
            "Score - v :  0\n",
            "ΜΕΣΟΔΙΑΣΤΗΜΑΤΑ ΜΕΤΑΞΥ ΓΕΥΜΑΤΩΝ: - v :  0\n",
            "ΑΡΙΘΜΟΣ ΜΙΚΡΟΓΕΥΜΑΤΩΝ / ΣΝΑΚ - v :  0\n",
            "Πόσες ώρες περίπου παίζει βιντεοπαιχνίδια  το παιδί σας τις καθημερινές; - v :  0\n",
            "Πόσες ώρες περίπου την ημέρα (Σαββατοκύριακο ή αργίες)  πέρασε το παιδί σας μπροστά σε οθόνες; (π.χ. τηλεόραση, τάμπλετ, κινητό) - v :  0\n",
            "Πόσο συχνά τρώει το παιδί σας ψάρια ή θαλασσινά; - v :  0\n",
            "Πόσες ώρες την ημέρα περίπου κοιμάται το παιδί σας (μέσος όρος); - v :  0\n",
            "Πόσες ώρες περίπου παίζει βιντεοπαιχνίδια το παιδί σας τα Σαββατοκύριακα; - v :  0\n",
            "Πόσες φορές την εβδομάδα το παιδί σας είχε δυσκολίες στον ύπνο (π.χ. αϋπνία, δυσκολία στην έναρξη του ύπνου, συχνά ξυπνήματα, τρίξιμο δοντιών); - v :  0\n",
            "Πόσο συχνά χρησιμοποιείτε ελαιόλαδο στο μαγείρεμα; - v :  0\n",
            "Το παιδί μου ζητάει συνεχώς φαγητό - v :  0\n",
            "Πόσο συχνά τρώει το παιδί σας όσπρια; - v :  0\n",
            "Πόσο συχνά χρησιμοποιείτε βούτυρο; - v :  0\n",
            "Ακόμη κι αν έχει χορτάσει, το παιδί μου βρίσκει χώρο για το αγαπημένο του φαγητό - v :  0\n",
            "Πόσο συχνά χρησιμοποιείτε άλλα φυτικά έλαια στο μαγείρεμα; - v :  0\n",
            "Εάν είχε την επιλογή, το παιδί μου θα έτρωγε την περισσότερη ώρα της ημέρας - v :  0\n",
            "Πόσο συχνά τρώει το παιδί σας ξηρούς καρπούς (μια μερίδα αντιστοιχεί σε μια χούφτα ξηρών καρπών (π.χ. 18 αμύγδαλα, 6 ολόκληρα καρύδια, 3 κουταλιές της σούπας ηλιόσπορους)  ή προϊόντα τους  όπως ταχίνι, φυστικοβούτυρο κ.ά. (μια μερίδα αντιστοιχεί σε 1½  κουταλιά της σούπας των 15ml ή 25γρ. π.χ. ταχίνι) - v :  0\n",
            "Πόσο συχνά χρησιμοποιείτε μαργαρίνη; - v :  0\n",
            "Πόσες μερίδες φρούτων καταναλώνει το παιδί σας (μέσος όρος); - v :  0\n",
            "Πόσες μερίδες λαχανικών (ωμών ή βραστών ή στον ατμό ή ψητών) καταναλώνει το παιδί σας (μέσος όρος); - v :  0\n",
            "Πόσες μερίδες γαλακτοκομικών (ένα ποτήρι γάλα των 250ml, ένα κεσεδάκι γιαούρτι των 200γρ, μια φέτα τυρί του τοστ)  καταναλώνει  το παιδί σας (μέσος όρος); - v :  0\n",
            "Πόσες μερίδες δημητριακών καταναλώνει  το παιδί σας (μέσος όρος); - v :  0\n",
            "Από τις παραπάνω  μερίδες δημητριακών που καταναλώνει συνήθως το παιδί σας ημερησίως πόσες περιέχουν δημητριακά ολικής άλεσης όπως τοστ ολικής άλεσης, ψωμί ολικής άλεσης  ή πολύσπορο, παξιμάδια ολικής άλεσης, ζυμαρικά ολικής άλεσης, ποπ κορν, δημητριακά πρωινού με περιεκτικότητα σε φυτικές ίνες > 3γρ / 100γρ προϊόντος: - v :  0\n",
            "Πόσο συχνά  καταναλώνει το παιδί σας λευκό κρέας (κοτόπουλο, γαλοπούλα, πάπια, κουνέλι, κυνήγι); - v :  0\n",
            "Πόσο συχνά  καταναλώνει το παιδί σας κόκκινο κρέας (μοσχάρι, χοιρινό, κατσίκι, αρνί); - v :  0\n",
            "Πόσες φορές την εβδομάδα κατανάλωσε το παιδί σας επεξεργασμένο κρέας (π.χ. μια φέτα ζαμπόν, μια φέτα γαλοπούλα, μια φέτα σαλάμι, μια φέτα παριζάκι , ένα μεσαίο λουκάνικο) - v :  0\n",
            "Το παιδί μου έχει μεγάλη όρεξη - v :  0\n",
            "Πόσο συχνά τρώει το παιδί σας λαδερό φαγητό (π.χ. φασολάκια πράσινα, αρακά, μπριάμ); - v :  0\n",
            "Το παιδί μου ΔΕΝ χορταίνει εύκολα - v :  0\n",
            "Το παιδί μου ΔΕΝ αφήνει φαγητό στο πιάτο στο τέλος του γεύματος - v :  0\n",
            "Πόσο συχνά τρώει το παιδί σας έτοιμο φαγητό ταχυφαγείου (π.χ. πίτα με γύρο, πίτσα); - v :  0\n",
            "Το παιδί μου απορρίπτει νέα φαγητά στην αρχή - v :  0\n",
            "Πόσο συχνά καταναλώνει το παιδί σας αυγά (σε οποιαδήποτε μορφή, βραστά, τηγανητά, ομελέτα, σε συνταγές); - v :  0\n",
            "Το παιδί μου μπορεί να φάει ένα γεύμα αν έχει φάει σνακ λίγο πριν - v :  0\n",
            "Πόσο συχνά πίνει το παιδί σας  αναψυκτικά τύπου coca cola ή fanta (330ml)  ή χυμούς εμπορίου π.χ. αμίτα  (1 ποτήρι των 250 ml); - v :  0\n",
            "Το παιδί μου ΔΕΝ ενδιαφέρεται να δοκιμάσει νέα φαγητά - v :  0\n",
            "Πόσο συχνά τρώει το παιδί σας τυποποιημένα προϊόντα με πολλές θερμίδες (δηλαδή >250kcal ανά 100γρ. προϊόντος) και υψηλά σε απλά σάκχαρα (δηλαδή με σάκχαρα > 22,5γρ. ανά 100γρ προϊόντος) ή υψηλά σε αλάτι (δηλαδή > 1,5γρ. αλατιού ή 0,6γρ νατρίου ανά 100 γρ προϊόντος) (π.χ. 1 σακούλι πατατάκια 70γρ, 1 κρουασάν 100γρ, 1 ντόνατς 100γρ, 1 σοκολάτα 100γρ, ≥ 3 μπισκότα τύπου γεμιστά) - v :  0\n",
            "Το παιδί μου δύσκολα ικανοποιείται με τα γεύματα - v :  0\n",
            "ΟΙΚΟΓΕΝΕΙΑΚΑ ΓΕΥΜΑΤΑ - v :  0\n",
            "ΡΥΘΜΟΣ ΣΙΤΙΣΗΣ - v :  0\n",
            "Πόσα λεπτά την ημέρα περίπου ήταν το παιδί σας σωματικά δραστήριο (περπάτημα, ποδήλατο, πατίνι, παιχνίδια με φίλους που απαιτούν σωματική δραστηριότητα, κηπουρική, μαγειρική, δουλειές σπιτιού) - v :  0\n",
            "Πόσες φορές την εβδομάδα ασκήθηκε (οργανωμένο σπορ) το παιδί σας; - v :  0\n",
            "ΑΡΙΘΜΟΣ ΚΥΡΙΩΝ ΓΕΥΜΑΤΩΝ - v :  0\n",
            "Πόσες ώρες περίπου την ημέρα (καθημερινές)  πέρασε το παιδί σας  μπροστά σε οθόνες; (π.χ. τηλεόραση, τάμπλετ, κινητό) - v :  0\n",
            "Εβδομάδες κύησης - v :  0\n",
            "βάρος γέννησης - v :  0\n",
            "μήκος σώματος - v :  0\n",
            "περίμετρος κεφαλής - v :  0\n",
            "ΒΑΡΟΣ ΜΗΤΕΡΑΣ ΠΡΟ ΚΥΗΣΗΣ - v :  0\n",
            "ΠΡΟΣΛΗΨΗ ΒΑΡΟΥΣ ΚΑΤΑ ΤΗΝ ΕΓΚΥΜΟΣΥΝΗ - v :  0\n",
            "ΔΙΑΡΚΕΙΑ  θΗΛΑΣΜΟΥ ΣΕ ΜΗΝΕΣ - v :  0\n",
            "ΔΙΑΡΚΕΙΑ ΑΠΟΚΛΕΙΣΤΙΚΟΥ ΘΗΛΑΣΜΟΥ (ΜΗΝΕΣ): - v :  0\n",
            "ΔΙΑΡΚΕΙΑ ΜΙΚΤΟΥ ΘΗΛΑΣΜΟΥ (ΜΗΝΕΣ): - v :  0\n",
            "Score_psycho - v :  0\n",
            "Ηλικία - v :  0\n",
            "Ύψος σε μέτρα - v :  0\n",
            "Βάρος σε κιλά - v :  0\n",
            "Με βάση το ύψος σας και το σωματικό σας βάρος, θεωρείτε πως είστε - v :  0\n",
            "Είστε ικανοποιημένος με το εισόδημά σας; - v :  0\n",
            "Ποιο είναι το ακαθάριστο ετήσιο εισόδημά σας; (η ερώτηση αυτή είναι προαιρετική) - v :  0\n",
            "Το οικογενειακό σας εισόδημα καλύπτει τις ανάγκες σας; - v :  0\n",
            "Ασκείστε; Πόσο συχνά; - v :  0\n",
            "Καταναλώνετε αλκοολούχα ποτά; - v :  0\n",
            "Πόσο καλή είναι η υγεία σας; - v :  0\n",
            "BMI_Mother :  0\n",
            "BMI_Father :  0\n",
            "Mother_Yp :  0\n",
            "Mother_Aus :  0\n",
            "Mother_Ep :  0\n",
            "Mother_Aut :  0\n",
            "sd_Tot :  0\n",
            "sd_Emo :  0\n",
            "sd_Cond :  0\n",
            "sd_Hyper :  0\n",
            "sd_Peer :  0\n",
            "sd_Beh :  0\n",
            "fp_Mon :  0\n",
            "fp_Con :  0\n",
            "fp_Reg :  0\n",
            "fp_Guid :  0\n",
            "fp_Res :  0\n",
            "fp_Press :  0\n",
            "Post_Mother_Yp :  0\n",
            "Post_Mother_Aus :  0\n",
            "Post_Mother_Ep :  0\n",
            "Post_Mother_Aut :  0\n",
            "Post_sd_Tot :  0\n",
            "Post_sd_Emo :  0\n",
            "Post_sd_Cond :  0\n",
            "Post_sd_Hyper :  0\n",
            "Post_sd_Peer :  0\n",
            "Post_sd_Beh :  0\n",
            "Post_fp_Mon :  0\n",
            "Post_fp_Con :  0\n",
            "Post_fp_Reg :  0\n",
            "Post_fp_Guid :  0\n",
            "Post_fp_Res :  0\n",
            "Post_fp_Press :  0\n",
            "target_0.0 :  0\n",
            "target_1.0 :  0\n",
            "home_0.0 :  0\n",
            "home_1.0 :  0\n",
            "junk_0.0 :  0\n",
            "junk_1.0 :  0\n",
            "ΑΛΛΑ ΠΡΟΒΛΗΜΑΤΑ ΚΑΤΑ ΤΗΝ ΚΥΗΣΗ - v_0.0 :  ΑΛΛΑ ΠΡΟΒΛΗΜΑΤΑ ΚΑΤΑ ΤΗΝ ΚΥΗΣΗ - v_0.0    0\n",
            "ΑΛΛΑ ΠΡΟΒΛΗΜΑΤΑ ΚΑΤΑ ΤΗΝ ΚΥΗΣΗ - v_0.0    0\n",
            "dtype: int64\n",
            "ΑΛΛΑ ΠΡΟΒΛΗΜΑΤΑ ΚΑΤΑ ΤΗΝ ΚΥΗΣΗ - v_1.0 :  ΑΛΛΑ ΠΡΟΒΛΗΜΑΤΑ ΚΑΤΑ ΤΗΝ ΚΥΗΣΗ - v_1.0    0\n",
            "ΑΛΛΑ ΠΡΟΒΛΗΜΑΤΑ ΚΑΤΑ ΤΗΝ ΚΥΗΣΗ - v_1.0    0\n",
            "dtype: int64\n",
            "ΝΟΣΗΜΑΤΑ ΜΗΤΡΟΣ - v_0.0 :  ΝΟΣΗΜΑΤΑ ΜΗΤΡΟΣ - v_0.0    0\n",
            "ΝΟΣΗΜΑΤΑ ΜΗΤΡΟΣ - v_0.0    0\n",
            "dtype: int64\n",
            "ΝΟΣΗΜΑΤΑ ΜΗΤΡΟΣ - v_1.0 :  ΝΟΣΗΜΑΤΑ ΜΗΤΡΟΣ - v_1.0    0\n",
            "ΝΟΣΗΜΑΤΑ ΜΗΤΡΟΣ - v_1.0    0\n",
            "dtype: int64\n",
            "ΝΟΣΗΜΑΤΑ ΠΑΤΡΟΣ - v_0.0 :  ΝΟΣΗΜΑΤΑ ΠΑΤΡΟΣ - v_0.0    0\n",
            "ΝΟΣΗΜΑΤΑ ΠΑΤΡΟΣ - v_0.0    0\n",
            "dtype: int64\n",
            "ΝΟΣΗΜΑΤΑ ΠΑΤΡΟΣ - v_1.0 :  ΝΟΣΗΜΑΤΑ ΠΑΤΡΟΣ - v_1.0    0\n",
            "ΝΟΣΗΜΑΤΑ ΠΑΤΡΟΣ - v_1.0    0\n",
            "dtype: int64\n",
            "ΚΥΗΣΗ - v_1.0 :  0\n",
            "ΚΑΠΝΙΣΜΑ ΠΡΟ ΚΥΗΣΗΣ - v_0.0 :  0\n",
            "ΚΑΠΝΙΣΜΑ ΠΡΟ ΚΥΗΣΗΣ - v_1.0 :  0\n",
            "Σ.Δ. ΚΥΗΣΗΣ - v_0.0 :  0\n",
            "Σ.Δ. ΚΥΗΣΗΣ - v_1.0 :  0\n",
            "Σ.Δ. ΚΥΗΣΗΣ - v_2.0 :  0\n",
            "IUGR (ενδομήτρια καθυστέρηση αύξησης) - v_0.0 :  0\n",
            "IUGR (ενδομήτρια καθυστέρηση αύξησης) - v_1.0 :  0\n",
            "ΚΑΠΝΙΣΜΑ ΚΑΤΑ ΤΗΝ ΚΥΗΣΗ - v_0.0 :  0\n",
            "ΚΑΠΝΙΣΜΑ ΚΑΤΑ ΤΗΝ ΚΥΗΣΗ - v_1.0 :  0\n",
            "ΑΛΛΑ ΠΡΟΒΛΗΜΑΤΑ ΚΑΤΑ ΤΗΝ ΚΥΗΣΗ - v_0.0 :  ΑΛΛΑ ΠΡΟΒΛΗΜΑΤΑ ΚΑΤΑ ΤΗΝ ΚΥΗΣΗ - v_0.0    0\n",
            "ΑΛΛΑ ΠΡΟΒΛΗΜΑΤΑ ΚΑΤΑ ΤΗΝ ΚΥΗΣΗ - v_0.0    0\n",
            "dtype: int64\n",
            "ΑΛΛΑ ΠΡΟΒΛΗΜΑΤΑ ΚΑΤΑ ΤΗΝ ΚΥΗΣΗ - v_1.0 :  ΑΛΛΑ ΠΡΟΒΛΗΜΑΤΑ ΚΑΤΑ ΤΗΝ ΚΥΗΣΗ - v_1.0    0\n",
            "ΑΛΛΑ ΠΡΟΒΛΗΜΑΤΑ ΚΑΤΑ ΤΗΝ ΚΥΗΣΗ - v_1.0    0\n",
            "dtype: int64\n",
            "SGA - v_0.0 :  0\n",
            "SGA - v_1.0 :  0\n",
            "ΤΟΚΕΤΟΣ - v_0.0 :  0\n",
            "ΤΟΚΕΤΟΣ - v_1.0 :  0\n",
            "ΙΚΤΕΡΟΣ - v_0.0 :  0\n",
            "ΙΚΤΕΡΟΣ - v_1.0 :  0\n",
            "ΥΠΟΓΛΥΚΑΙΜΙΑ - v_0.0 :  0\n",
            "ΥΠΟΓΛΥΚΑΙΜΙΑ - v_1.0 :  0\n",
            "ΠΑΡΑΜΟΝΗ ΣΕ ΜΕΝ / ΜΑΦ - v_0.0 :  0\n",
            "ΠΑΡΑΜΟΝΗ ΣΕ ΜΕΝ / ΜΑΦ - v_1.0 :  0\n",
            "ΘΗΛΑΣΜΟΣ - v_0.0 :  0\n",
            "ΘΗΛΑΣΜΟΣ - v_1.0 :  0\n",
            "ΑΛΛΕΡΓΙΕΣ - v_0.0 :  0\n",
            "ΑΛΛΕΡΓΙΕΣ - v_1.0 :  0\n",
            "ΦΑΡΜΑΚΑ / ΒΙΤΑΜΙΝΕΣ / ΣΥΜΠΛΗΡΩΜΑΤΑ - v_0.0 :  0\n",
            "ΦΑΡΜΑΚΑ / ΒΙΤΑΜΙΝΕΣ / ΣΥΜΠΛΗΡΩΜΑΤΑ - v_1.0 :  0\n",
            "Χρόνια νοσήματα - v_0.0 :  0\n",
            "Χρόνια νοσήματα - v_1.0 :  0\n",
            "Χρόνια νοσήματα - v_2.0 :  0\n",
            "Συγγενή νοσήματα - v_0.0 :  0\n",
            "Συγγενή νοσήματα - v_1.0 :  0\n",
            "ΝΟΣΗΛΕΙΕΣ - v_0.0 :  0\n",
            "ΝΟΣΗΛΕΙΕΣ - v_1.0 :  0\n",
            "ΝΟΣΗΛΕΙΕΣ - v_4.0 :  0\n",
            "ΝΟΣΗΜΑΤΑ ΜΗΤΡΟΣ - v_0.0 :  ΝΟΣΗΜΑΤΑ ΜΗΤΡΟΣ - v_0.0    0\n",
            "ΝΟΣΗΜΑΤΑ ΜΗΤΡΟΣ - v_0.0    0\n",
            "dtype: int64\n",
            "ΝΟΣΗΜΑΤΑ ΜΗΤΡΟΣ - v_1.0 :  ΝΟΣΗΜΑΤΑ ΜΗΤΡΟΣ - v_1.0    0\n",
            "ΝΟΣΗΜΑΤΑ ΜΗΤΡΟΣ - v_1.0    0\n",
            "dtype: int64\n",
            "ΝΟΣΗΜΑΤΑ ΠΑΤΡΟΣ - v_0.0 :  ΝΟΣΗΜΑΤΑ ΠΑΤΡΟΣ - v_0.0    0\n",
            "ΝΟΣΗΜΑΤΑ ΠΑΤΡΟΣ - v_0.0    0\n",
            "dtype: int64\n",
            "ΝΟΣΗΜΑΤΑ ΠΑΤΡΟΣ - v_1.0 :  ΝΟΣΗΜΑΤΑ ΠΑΤΡΟΣ - v_1.0    0\n",
            "ΝΟΣΗΜΑΤΑ ΠΑΤΡΟΣ - v_1.0    0\n",
            "dtype: int64\n",
            "Τι είδους άσκηση έκανε το παιδί σας την προηγούμενη βδομάδα; - v_0.0 :  0\n",
            "Τι είδους άσκηση έκανε το παιδί σας την προηγούμενη βδομάδα; - v_1.0 :  0\n",
            "Τι είδους άσκηση έκανε το παιδί σας την προηγούμενη βδομάδα; - v_2.0 :  0\n",
            "Τι είδους άσκηση έκανε το παιδί σας την προηγούμενη βδομάδα; - v_4.0 :  0\n",
            "Τι είδους άσκηση έκανε το παιδί σας την προηγούμενη βδομάδα; - v_7.0 :  0\n",
            "Φύλο - v_1.0 :  0\n",
            "Ποια είναι η οικογενειακή σας κατάσταση; - v_0.0 :  0\n",
            "Ποια είναι η οικογενειακή σας κατάσταση; - v_1.0 :  0\n",
            "Ποια είναι η οικογενειακή σας κατάσταση; - v_2.0 :  0\n",
            "Ποια είναι η εθνικότητά σας*; - v_0.0 :  0\n",
            "Ποια είναι η εθνικότητά σας*; - v_1.0 :  0\n",
            "Ποιο είναι το μορφωτικό σας επίπεδο; - v_1.0 :  0\n",
            "Ποιο είναι το μορφωτικό σας επίπεδο; - v_2.0 :  0\n",
            "Ποιο είναι το μορφωτικό σας επίπεδο; - v_3.0 :  0\n",
            "Ποιο είναι το μορφωτικό σας επίπεδο; - v_4.0 :  0\n",
            "Ποιο είναι το μορφωτικό σας επίπεδο; - v_5.0 :  0\n",
            "Ποιο είναι το μορφωτικό σας επίπεδο; - v_6.0 :  0\n",
            "Ποια είναι η εργασία σας; (σε περίπτωση συνταξιοδότησης σημειώνετε την απασχόληση πριν από τη συνταξιοδότηση) - v_0.0 :  0\n",
            "Ποια είναι η εργασία σας; (σε περίπτωση συνταξιοδότησης σημειώνετε την απασχόληση πριν από τη συνταξιοδότηση) - v_1.0 :  0\n",
            "Ποια είναι η εργασία σας; (σε περίπτωση συνταξιοδότησης σημειώνετε την απασχόληση πριν από τη συνταξιοδότηση) - v_2.0 :  0\n",
            "Ποια είναι η εργασία σας; (σε περίπτωση συνταξιοδότησης σημειώνετε την απασχόληση πριν από τη συνταξιοδότηση) - v_3.0 :  0\n",
            "Ποια είναι η εργασία σας; (σε περίπτωση συνταξιοδότησης σημειώνετε την απασχόληση πριν από τη συνταξιοδότηση) - v_4.0 :  0\n",
            "Ποια είναι η εργασία σας; (σε περίπτωση συνταξιοδότησης σημειώνετε την απασχόληση πριν από τη συνταξιοδότηση) - v_5.0 :  0\n",
            "Ποια είναι η εργασία σας; (σε περίπτωση συνταξιοδότησης σημειώνετε την απασχόληση πριν από τη συνταξιοδότηση) - v_8.0 :  0\n",
            "Ποια είναι η εργασία σας; (σε περίπτωση συνταξιοδότησης σημειώνετε την απασχόληση πριν από τη συνταξιοδότηση) - v_9.0 :  0\n",
            "Είστε καπνιστής; - v_0.0 :  0\n",
            "Είστε καπνιστής; - v_1.0 :  0\n",
            "Είστε καπνιστής; - v_2.0 :  0\n",
            "Νοσείτε από κάποια χρόνια ασθένεια (πχ. Υπέρταση, Δυσλιπιδαιμία, Διαβήτη,); - v_0.0 :  0\n",
            "Νοσείτε από κάποια χρόνια ασθένεια (πχ. Υπέρταση, Δυσλιπιδαιμία, Διαβήτη,); - v_1.0 :  0\n"
          ]
        }
      ],
      "source": [
        "#Print columns and their missing values after removing them\n",
        "for column in data.columns:\n",
        "    print(column,\": \",data[column].isnull().sum())  "
      ]
    },
    {
      "cell_type": "markdown",
      "metadata": {
        "id": "t7USVk_bv6kM"
      },
      "source": [
        "### Remove duplicates"
      ]
    },
    {
      "cell_type": "code",
      "execution_count": 66,
      "metadata": {
        "colab": {
          "base_uri": "https://localhost:8080/"
        },
        "id": "mhotaZ6Bv6kN",
        "outputId": "46ccc18c-6cb7-4ac8-eb3f-bb54394b14f1"
      },
      "outputs": [
        {
          "output_type": "stream",
          "name": "stdout",
          "text": [
            "(2649, 214)\n",
            "(2647, 214)\n"
          ]
        }
      ],
      "source": [
        "print(data.shape)\n",
        "data = data.drop_duplicates()\n",
        "print(data.shape)"
      ]
    },
    {
      "cell_type": "markdown",
      "metadata": {
        "id": "_R5dKuRd5PCy"
      },
      "source": [
        "## Remove string columns"
      ]
    },
    {
      "cell_type": "code",
      "execution_count": 67,
      "metadata": {
        "id": "mZ8ADP9J5Fk1"
      },
      "outputs": [],
      "source": [
        "data = data.select_dtypes(exclude=['object'])"
      ]
    },
    {
      "cell_type": "markdown",
      "metadata": {
        "id": "bkQo-jbyjmwJ"
      },
      "source": [
        "## Split into train and test"
      ]
    },
    {
      "cell_type": "code",
      "execution_count": 68,
      "metadata": {
        "colab": {
          "base_uri": "https://localhost:8080/"
        },
        "id": "Bcv_gyPNFs7Z",
        "outputId": "b4eb95db-691e-4570-d565-18ecd8645968"
      },
      "outputs": [
        {
          "output_type": "stream",
          "name": "stdout",
          "text": [
            "Index(['sleepAsleepMinutes', 'distance', 'weight', 'HbA1c - v', 'Chol - v',\n",
            "       'HDL - v', 'LDL - v', 'TG - v', 'Lp(a) - v', 'SGOT - v',\n",
            "       ...\n",
            "       'Ποια είναι η εργασία σας; (σε περίπτωση συνταξιοδότησης σημειώνετε την απασχόληση πριν από τη συνταξιοδότηση) - v_3.0',\n",
            "       'Ποια είναι η εργασία σας; (σε περίπτωση συνταξιοδότησης σημειώνετε την απασχόληση πριν από τη συνταξιοδότηση) - v_4.0',\n",
            "       'Ποια είναι η εργασία σας; (σε περίπτωση συνταξιοδότησης σημειώνετε την απασχόληση πριν από τη συνταξιοδότηση) - v_5.0',\n",
            "       'Ποια είναι η εργασία σας; (σε περίπτωση συνταξιοδότησης σημειώνετε την απασχόληση πριν από τη συνταξιοδότηση) - v_8.0',\n",
            "       'Ποια είναι η εργασία σας; (σε περίπτωση συνταξιοδότησης σημειώνετε την απασχόληση πριν από τη συνταξιοδότηση) - v_9.0',\n",
            "       'Είστε καπνιστής; - v_0.0', 'Είστε καπνιστής; - v_1.0',\n",
            "       'Είστε καπνιστής; - v_2.0',\n",
            "       'Νοσείτε από κάποια χρόνια ασθένεια (πχ. Υπέρταση, Δυσλιπιδαιμία, Διαβήτη,); - v_0.0',\n",
            "       'Νοσείτε από κάποια χρόνια ασθένεια (πχ. Υπέρταση, Δυσλιπιδαιμία, Διαβήτη,); - v_1.0'],\n",
            "      dtype='object', length=211)\n"
          ]
        }
      ],
      "source": [
        "X = data.loc[:, data.columns != 'steps']\n",
        "print(X.columns)\n",
        "X = X.drop(columns = ['sleepAsleepMinutes', 'distance', 'weight'])\n",
        "y = data[\"steps\"]"
      ]
    },
    {
      "cell_type": "code",
      "execution_count": 69,
      "metadata": {
        "id": "50t5r8nHj-lz"
      },
      "outputs": [],
      "source": [
        "#data = data.drop(columns=['pid', 'timestamp'])\n",
        "\n",
        "X_train, X_test, y_train, y_test = train_test_split(X, y,stratify = y, test_size = 0.30) # random_state = 42\n",
        "X_train = X_train.reset_index()\n",
        "X_test = X_test.reset_index()"
      ]
    },
    {
      "cell_type": "markdown",
      "metadata": {
        "id": "9iGahPUxnyLy"
      },
      "source": [
        "### Training"
      ]
    },
    {
      "cell_type": "code",
      "execution_count": 70,
      "metadata": {
        "colab": {
          "base_uri": "https://localhost:8080/"
        },
        "id": "K5UadoEqn0D_",
        "outputId": "73929df8-40fe-4b66-ea51-ad3d1b520c2f"
      },
      "outputs": [
        {
          "output_type": "stream",
          "name": "stdout",
          "text": [
            "MLPClassifier\n",
            "Pipeline(memory='tmp',\n",
            "         steps=[('selector', VarianceThreshold()), ('scaler', StandardScaler()),\n",
            "                ('rus', RandomUnderSampler()), ('pca', PCA(n_components=104)),\n",
            "                ('clf',\n",
            "                 MLPClassifier(activation='logistic', hidden_layer_sizes=(150,),\n",
            "                               max_iter=400, solver='lbfgs'))])\n",
            "{'clf__activation': 'logistic', 'clf__hidden_layer_sizes': (150,), 'clf__max_iter': 400, 'clf__solver': 'lbfgs', 'pca__n_components': 104}\n",
            "              precision    recall  f1-score   support\n",
            "\n",
            "           0       0.90      0.69      0.78       529\n",
            "           1       0.25      0.42      0.31       115\n",
            "           2       0.41      0.53      0.46       151\n",
            "\n",
            "    accuracy                           0.62       795\n",
            "   macro avg       0.52      0.55      0.52       795\n",
            "weighted avg       0.71      0.62      0.65       795\n",
            "\n",
            "GradientBoostingClassifier\n",
            "Pipeline(memory='tmp',\n",
            "         steps=[('selector', VarianceThreshold()), ('scaler', StandardScaler()),\n",
            "                ('rus', RandomUnderSampler()), ('pca', PCA(n_components=69)),\n",
            "                ('clf', GradientBoostingClassifier(n_estimators=150))])\n",
            "{'clf__criterion': 'friedman_mse', 'clf__learning_rate': 0.1, 'clf__n_estimators': 150, 'pca__n_components': 69}\n",
            "              precision    recall  f1-score   support\n",
            "\n",
            "           0       0.97      0.75      0.85       529\n",
            "           1       0.32      0.58      0.41       115\n",
            "           2       0.50      0.58      0.54       151\n",
            "\n",
            "    accuracy                           0.69       795\n",
            "   macro avg       0.60      0.64      0.60       795\n",
            "weighted avg       0.79      0.69      0.73       795\n",
            "\n",
            "LinearDiscriminantAnalysis\n",
            "Pipeline(memory='tmp',\n",
            "         steps=[('selector', VarianceThreshold()), ('scaler', StandardScaler()),\n",
            "                ('rus', RandomUnderSampler()), ('pca', PCA(n_components=104)),\n",
            "                ('clf', LinearDiscriminantAnalysis(solver='lsqr'))])\n",
            "{'clf__solver': 'lsqr', 'pca__n_components': 104}\n",
            "              precision    recall  f1-score   support\n",
            "\n",
            "           0       0.92      0.58      0.71       529\n",
            "           1       0.22      0.40      0.29       115\n",
            "           2       0.34      0.56      0.42       151\n",
            "\n",
            "    accuracy                           0.55       795\n",
            "   macro avg       0.49      0.52      0.47       795\n",
            "weighted avg       0.71      0.55      0.60       795\n",
            "\n"
          ]
        }
      ],
      "source": [
        "# Parameters\n",
        "# PCA\n",
        "numOfFeatures = X_train.shape[1]\n",
        "pca_components = [numOfFeatures,int(numOfFeatures/2),int(numOfFeatures/3)]\n",
        "# SVM\n",
        "kernel = ['linear', 'poly', 'rbf', 'sigmoid']\n",
        "gamma = ['scale','auto']\n",
        "# KNN\n",
        "n_neighbors = [5,10,15]\n",
        "# Adaboost\n",
        "learning_rate = [1e-4,1e-2,1e-1]\n",
        "n_estimators = [50,100,150]\n",
        "# RandomForest\n",
        "criterion = ['gini','entropy']\n",
        "max_features = ['auto',15,5,None]\n",
        "min_samples_leaf = [20,50]\n",
        "# Logistic Regression\n",
        "penalty = ['l2']\n",
        "solver = ['newton-cg', 'lbfgs', 'liblinear','sag', 'saga'] \n",
        "C = [0.5,1.0]\n",
        "# Decision Tree\n",
        "splitter = ['best','random']\n",
        "# MLP Classifer\n",
        "hidden_layer_sizes = [(100,),(50,),(150,)]\n",
        "activation = ['logistic', 'tanh', 'relu']\n",
        "solver = ['lbfgs','adam']\n",
        "max_iter = [400,500,1000]\n",
        "# Gradient Boosting\n",
        "criterion1 = ['friedman_mse']\n",
        "#  LinearDiscriminantAnalysis\n",
        "solver1 = ['svd', 'lsqr', 'eigen']\n",
        "#  XGBoost\n",
        "objective = [\"multi:softprob\"]\n",
        "\n",
        "Parameters = [dict(pca__n_components=pca_components,clf__objective = objective),\n",
        "              dict(pca__n_components=pca_components,clf__kernel = kernel,clf__gamma = gamma),\n",
        "              dict(pca__n_components=pca_components,clf__n_neighbors = n_neighbors),\n",
        "              dict(pca__n_components=pca_components,clf__learning_rate = learning_rate,clf__n_estimators = n_estimators),\n",
        "              dict(pca__n_components=pca_components,clf__n_estimators = n_estimators,clf__criterion = criterion,clf__max_features = max_features,clf__min_samples_leaf = min_samples_leaf),\n",
        "              dict(pca__n_components=pca_components,clf__penalty = penalty,clf__C = C,clf__solver = solver),\n",
        "              dict(pca__n_components=pca_components,clf__criterion = criterion,clf__splitter = splitter),\n",
        "              dict(pca__n_components=pca_components),\n",
        "              dict(pca__n_components=pca_components,clf__max_iter = max_iter,clf__hidden_layer_sizes = hidden_layer_sizes,clf__activation = activation,clf__solver = solver),\n",
        "              dict(pca__n_components=pca_components,clf__learning_rate = learning_rate,clf__n_estimators = n_estimators,clf__criterion = criterion1),\n",
        "              dict(pca__n_components=pca_components,clf__solver = solver1)]\n",
        "\n",
        "\"\"\"\n",
        "# Non PCA\n",
        "Parameters = [dict(clf__objective = objective),\n",
        "              dict(clf__kernel = kernel,clf__gamma = gamma),\n",
        "              dict(clf__n_neighbors = n_neighbors),\n",
        "              dict(clf__learning_rate = learning_rate,clf__n_estimators = n_estimators),\n",
        "              dict(clf__n_estimators = n_estimators,clf__criterion = criterion,clf__max_features = max_features,clf__min_samples_leaf = min_samples_leaf),\n",
        "              dict(clf__penalty = penalty,clf__C = C,clf__solver = solver),\n",
        "              dict(clf__criterion = criterion,clf__splitter = splitter),\n",
        "              dict(),\n",
        "              dict(clf__max_iter = max_iter,clf__hidden_layer_sizes = hidden_layer_sizes,clf__activation = activation,clf__solver = solver),\n",
        "              dict(pca__n_components=pca_components,clf__learning_rate = learning_rate,clf__n_estimators = n_estimators,clf__criterion = criterion1),\n",
        "              dict(clf__solver = solver1)]\n",
        "\"\"\"\n",
        "\n",
        "# xgb.XGBRegressor(),\n",
        "\n",
        "Classifiers = [xgb.XGBClassifier(),\n",
        "               SVC(),\n",
        "               KNeighborsClassifier(),\n",
        "               AdaBoostClassifier(),\n",
        "               RandomForestClassifier(),\n",
        "               LogisticRegression(),\n",
        "               DecisionTreeClassifier(),\n",
        "               GaussianNB(),\n",
        "               MLPClassifier(),\n",
        "               GradientBoostingClassifier(),\n",
        "               LinearDiscriminantAnalysis()]\n",
        "\n",
        "for i,clf in enumerate(Classifiers):\n",
        "    \n",
        "    print(clf.__class__.__name__)\n",
        "    # αρχικοποιούμε τον εκτιμητή (ταξινομητής) και τους μετασχηματιστές χωρίς υπερ-παραμέτρους\n",
        "    selector = VarianceThreshold()\n",
        "    rus = RandomUnderSampler()\n",
        "    ros = RandomOverSampler()\n",
        "    scaler = StandardScaler()    \n",
        "    pca = PCA()    \n",
        "    \n",
        "    #pipe = Pipeline(steps=[('selector', selector),('scaler', scaler),('pca', pca), ('clf', clf)], memory = 'tmp')\n",
        "    pipe = Pipeline(steps=[('selector', selector),('scaler', scaler),('rus', rus),('pca', pca), ('clf', clf)], memory = 'tmp')\n",
        "    #pipe = Pipeline(steps=[('selector', selector),('scaler', scaler),('ros', ros),('pca', pca), ('clf', clf)], memory = 'tmp')\n",
        "    # selector__threshold=vthreshold,\n",
        "    estimator = GridSearchCV(pipe, param_grid = Parameters[i], cv=10, scoring='f1_macro')\n",
        "    estimator.fit(X_train, y_train)\n",
        "    print(estimator.best_estimator_)\n",
        "    print(estimator.best_params_)\n",
        "    \n",
        "    preds = estimator.predict(X_test)\n",
        "    print(classification_report(y_test, preds))"
      ]
    }
  ],
  "metadata": {
    "colab": {
      "collapsed_sections": [
        "0o4LsaHwKzqn",
        "LAVm3iz5K5Yb"
      ],
      "name": "Bio_Data_Classification_new.ipynb",
      "provenance": []
    },
    "kernelspec": {
      "display_name": "Python 3",
      "name": "python3"
    },
    "language_info": {
      "name": "python"
    }
  },
  "nbformat": 4,
  "nbformat_minor": 0
}